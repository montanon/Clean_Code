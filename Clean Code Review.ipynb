{
 "cells": [
  {
   "cell_type": "code",
   "execution_count": 1,
   "id": "795364a3",
   "metadata": {
    "ExecuteTime": {
     "end_time": "2023-06-16T13:10:25.733340Z",
     "start_time": "2023-06-16T13:10:25.407053Z"
    }
   },
   "outputs": [],
   "source": [
    "import os\n",
    "import math\n",
    "import sys\n",
    "import unittest\n",
    "from unittest.mock import patch\n",
    "from io import StringIO\n",
    "\n",
    "import pandas as pd\n",
    "import numpy as np\n",
    "\n",
    "from math import pi\n",
    "from abc import ABC, abstractmethod\n",
    "from datetime import datetime, timedelta"
   ]
  },
  {
   "cell_type": "markdown",
   "id": "ddb0006d",
   "metadata": {},
   "source": [
    "# Clean Code: A Handbook of Agile software Craftsmanship"
   ]
  },
  {
   "cell_type": "markdown",
   "id": "74817271",
   "metadata": {},
   "source": [
    "## Clean Code"
   ]
  },
  {
   "cell_type": "markdown",
   "id": "fc773ad1",
   "metadata": {},
   "source": [
    "Elegant, efficient, straightforward, simple, direct, readable, minimal dependencies, clear, with care."
   ]
  },
  {
   "cell_type": "markdown",
   "id": "bdd8f37d",
   "metadata": {},
   "source": [
    "## Meaningful Names"
   ]
  },
  {
   "cell_type": "markdown",
   "id": "7718ded5",
   "metadata": {},
   "source": [
    "Variables, functions, arguments, classes, packages, source files, directories... We better do it well."
   ]
  },
  {
   "cell_type": "markdown",
   "id": "2c3fb7de",
   "metadata": {},
   "source": [
    "### Intention-Revealing names:"
   ]
  },
  {
   "cell_type": "markdown",
   "id": "f6b441cf",
   "metadata": {},
   "source": [
    " - `d < elapsedTimeInDays`"
   ]
  },
  {
   "cell_type": "markdown",
   "id": "0a751ef4",
   "metadata": {},
   "source": [
    "#### Unclear Naming Code"
   ]
  },
  {
   "cell_type": "code",
   "execution_count": 2,
   "id": "56cc6973",
   "metadata": {
    "ExecuteTime": {
     "end_time": "2023-06-16T13:10:25.739018Z",
     "start_time": "2023-06-16T13:10:25.735172Z"
    }
   },
   "outputs": [],
   "source": [
    "def get_them(the_list):\n",
    "    list1 = []\n",
    "    for x in the_list:\n",
    "        if x[0] == 4:\n",
    "            list1.append(x)\n",
    "    return list1"
   ]
  },
  {
   "cell_type": "markdown",
   "id": "aec8af23",
   "metadata": {},
   "source": [
    "#### Intention-Revealing Naming Code"
   ]
  },
  {
   "cell_type": "code",
   "execution_count": 3,
   "id": "ff6a088d",
   "metadata": {
    "ExecuteTime": {
     "end_time": "2023-06-16T13:10:25.742561Z",
     "start_time": "2023-06-16T13:10:25.740168Z"
    }
   },
   "outputs": [],
   "source": [
    "def get_flagged_cells(gameboard):\n",
    "    flaggedCells = []\n",
    "    for cell in gameboard:\n",
    "        if cell.isFlagged():\n",
    "            flaggedCells.append(cell)\n",
    "    return flaggedCells"
   ]
  },
  {
   "cell_type": "markdown",
   "id": "6c511755",
   "metadata": {},
   "source": [
    "### Make Meaningful Distinctios"
   ]
  },
  {
   "cell_type": "markdown",
   "id": "d9120652",
   "metadata": {},
   "source": [
    "If names must be different, they should also mean something different. Distinguish names in such a way that the reader knows what the difference offers."
   ]
  },
  {
   "cell_type": "markdown",
   "id": "9e7a80d4",
   "metadata": {},
   "source": [
    "#### Unclear Naming Code"
   ]
  },
  {
   "cell_type": "code",
   "execution_count": 4,
   "id": "17cca04b",
   "metadata": {
    "ExecuteTime": {
     "end_time": "2023-06-16T13:10:25.747781Z",
     "start_time": "2023-06-16T13:10:25.745367Z"
    }
   },
   "outputs": [],
   "source": [
    "def copy_chars(a1, a2):\n",
    "    for i in range(len(a1)):\n",
    "        a2[i] = a1[i]"
   ]
  },
  {
   "cell_type": "markdown",
   "id": "0fb855e6",
   "metadata": {},
   "source": [
    "#### Meaningful Distinctions Code"
   ]
  },
  {
   "cell_type": "code",
   "execution_count": 5,
   "id": "658d4f0b",
   "metadata": {
    "ExecuteTime": {
     "end_time": "2023-06-16T13:10:25.751584Z",
     "start_time": "2023-06-16T13:10:25.749191Z"
    }
   },
   "outputs": [],
   "source": [
    "def copy_chars(source, destination):\n",
    "    for i in range(len(source)):\n",
    "        destination[i] = source[i]"
   ]
  },
  {
   "cell_type": "markdown",
   "id": "cf2350f6",
   "metadata": {},
   "source": [
    "#### Examples"
   ]
  },
  {
   "cell_type": "markdown",
   "id": "2fab4b3f",
   "metadata": {},
   "source": [
    "- `name > nameString`\n",
    "- `variable` should never appear in a variable name\n",
    "- `table` should never appear in a table name\n",
    "- `dataframe` should never appear in a dataframe name\n",
    "- `money == moneyAmount`, `customer == customerData`, `account == accountInfo`"
   ]
  },
  {
   "cell_type": "markdown",
   "id": "857d6748",
   "metadata": {},
   "source": [
    "### Use Pronounceable Names"
   ]
  },
  {
   "cell_type": "markdown",
   "id": "304006c7",
   "metadata": {},
   "source": [
    "#### Unclear Naming Code"
   ]
  },
  {
   "cell_type": "code",
   "execution_count": 6,
   "id": "fbff0a4f",
   "metadata": {
    "ExecuteTime": {
     "end_time": "2023-06-16T13:10:25.757121Z",
     "start_time": "2023-06-16T13:10:25.753790Z"
    }
   },
   "outputs": [],
   "source": [
    "class DtaRcrd102:\n",
    "    def __init__(data):\n",
    "        genymdhms = data[0]\n",
    "        modymdhms = data[1]\n",
    "        pszqint = '102'\n",
    "    # Blah Blah"
   ]
  },
  {
   "cell_type": "markdown",
   "id": "4facf0c3",
   "metadata": {},
   "source": [
    "#### Pronounceable Names Code"
   ]
  },
  {
   "cell_type": "code",
   "execution_count": 7,
   "id": "1e6e2100",
   "metadata": {
    "ExecuteTime": {
     "end_time": "2023-06-16T13:10:25.760697Z",
     "start_time": "2023-06-16T13:10:25.757892Z"
    }
   },
   "outputs": [],
   "source": [
    "class Customer:\n",
    "    def __init__(data):\n",
    "        generationTimestamp = data[0]\n",
    "        modificationTimestamp = data[1]\n",
    "        recordId = '102'\n",
    "    # Blah Blah"
   ]
  },
  {
   "cell_type": "markdown",
   "id": "4c9ae154",
   "metadata": {},
   "source": [
    "*Hey, Mikey, take a look at this record! the `generationTimestamp` is set to tomorrow's date! How can that be?*"
   ]
  },
  {
   "cell_type": "markdown",
   "id": "81c3d23e",
   "metadata": {},
   "source": [
    "### Class Names"
   ]
  },
  {
   "cell_type": "markdown",
   "id": "f1edd829",
   "metadata": {},
   "source": [
    "- Classes and Objects should have noun or noun phrase names:\n",
    "    - `Customer`, `WikiPage`, `Account`, `Data`, `Info`, ..."
   ]
  },
  {
   "cell_type": "markdown",
   "id": "405c34bf",
   "metadata": {},
   "source": [
    "### Method Names"
   ]
  },
  {
   "cell_type": "markdown",
   "id": "b4fe17b3",
   "metadata": {},
   "source": [
    "- Methods should have verb or verb phrase names:\n",
    "    - `postPayment`, `deletePage`, `save`, ..."
   ]
  },
  {
   "cell_type": "markdown",
   "id": "ee7c86d7",
   "metadata": {},
   "source": [
    "- Accessors, mutators, and predicates should be names for their value and prefixed with:\n",
    "    - `get_`, `set_`, `is_`, ..."
   ]
  },
  {
   "cell_type": "markdown",
   "id": "cad85827",
   "metadata": {},
   "source": [
    "#### Contructors as Enforcements:"
   ]
  },
  {
   "cell_type": "markdown",
   "id": "49976da3",
   "metadata": {},
   "source": [
    "`fulcrumPoint = Complex.FromRealNumber(23.0)`\n",
    "\n",
    "is better than:\n",
    "\n",
    "`fulcrumPoints = Complex(23.0)`\n",
    "\n",
    "<font color='red'>Use can be enforced by setting constructors as private.</font>"
   ]
  },
  {
   "cell_type": "markdown",
   "id": "d99a8ff0",
   "metadata": {},
   "source": [
    "### Pick One Word per Concept"
   ]
  },
  {
   "cell_type": "markdown",
   "id": "6df2c3a0",
   "metadata": {},
   "source": [
    "- `fetch == retrieve == get`, pick one!\n",
    "- `controller == manager == driver`, pick one!"
   ]
  },
  {
   "cell_type": "markdown",
   "id": "bbcd5197",
   "metadata": {},
   "source": [
    "### Add Meaningful Context"
   ]
  },
  {
   "cell_type": "markdown",
   "id": "6224c5a8",
   "metadata": {},
   "source": [
    "#### Unclear Context Code"
   ]
  },
  {
   "cell_type": "code",
   "execution_count": 8,
   "id": "60e0ff15",
   "metadata": {
    "ExecuteTime": {
     "end_time": "2023-06-16T13:10:25.764419Z",
     "start_time": "2023-06-16T13:10:25.761763Z"
    }
   },
   "outputs": [],
   "source": [
    "def print_guess_statistics(candidate, count):\n",
    "    if count == 0:\n",
    "        number = 'no'\n",
    "        verb = 'are'\n",
    "        pluralModifier = 's'\n",
    "    elif count == 1:\n",
    "        number = '1'\n",
    "        verb = 'is'\n",
    "        pluralModifier = ''\n",
    "    else:\n",
    "        number = str(count)\n",
    "        verb = 'are'\n",
    "        pluralModifier = 's'\n",
    "    message = f'There {verb} {number} {candidate}{pluralModifier}'\n",
    "    print(message)"
   ]
  },
  {
   "cell_type": "markdown",
   "id": "50dbb5e8",
   "metadata": {},
   "source": [
    "#### Meaningful Context Code"
   ]
  },
  {
   "cell_type": "code",
   "execution_count": 9,
   "id": "5167d6bc",
   "metadata": {
    "ExecuteTime": {
     "end_time": "2023-06-16T13:10:25.769449Z",
     "start_time": "2023-06-16T13:10:25.766111Z"
    }
   },
   "outputs": [],
   "source": [
    "class GuessStatisticsMessage:\n",
    "    \n",
    "    def make(self, candidate, count):\n",
    "        self.create_plural_dependent_message_parts(count)\n",
    "        return f'There {self.verb} {self.number} {candidate}{self.pluralModifier}'\n",
    "    \n",
    "    def create_plural_dependent_message_parts(self, count):\n",
    "        if count == 0:\n",
    "            self.there_are_no_letters()\n",
    "        elif count == 1:\n",
    "            self.there_is_one_letter()\n",
    "        else:\n",
    "            self.there_are_many_letters(count)\n",
    "            \n",
    "    def there_are_many_letters(self, count):\n",
    "        self.number = str(count)\n",
    "        self.verb = 'are'\n",
    "        self.pluralModifier = 's'\n",
    "        \n",
    "    def there_is_one_letter(self):\n",
    "        self.number = '1'\n",
    "        self.verb = 'is'\n",
    "        self.pluralModifier = ''\n",
    "        \n",
    "    def there_are_no_letters(self):\n",
    "        self.number = 'no'\n",
    "        selfverb = 'are'\n",
    "        self.pluralModifier = 's'\n",
    "    "
   ]
  },
  {
   "cell_type": "code",
   "execution_count": 10,
   "id": "b022375f",
   "metadata": {
    "ExecuteTime": {
     "end_time": "2023-06-16T13:10:25.779393Z",
     "start_time": "2023-06-16T13:10:25.773857Z"
    }
   },
   "outputs": [
    {
     "data": {
      "text/plain": [
       "'There are 10 AAAAs'"
      ]
     },
     "execution_count": 10,
     "metadata": {},
     "output_type": "execute_result"
    }
   ],
   "source": [
    "GuessStatisticsMessage().make('AAAA', 10)"
   ]
  },
  {
   "cell_type": "markdown",
   "id": "9ae9c898",
   "metadata": {},
   "source": [
    "### Others"
   ]
  },
  {
   "cell_type": "markdown",
   "id": "629b801e",
   "metadata": {},
   "source": [
    "- Avoid Disinformation/Misinformation\n",
    "- Use Searchable Names\n",
    "- Avoid Encodings\n",
    "- Avoid Mental Mapping\n",
    "- Don't be Cute\n",
    "- Don't Pun\n",
    "- Use Problem Domain Names\n",
    "- Don't Add Gratuitous Context\n",
    "- Rename if you can make it better"
   ]
  },
  {
   "cell_type": "markdown",
   "id": "11ddc31f",
   "metadata": {},
   "source": [
    "## Functions"
   ]
  },
  {
   "cell_type": "markdown",
   "id": "602cd97c",
   "metadata": {},
   "source": [
    "### Small!"
   ]
  },
  {
   "cell_type": "markdown",
   "id": "69db562d",
   "metadata": {},
   "source": [
    "- Functions **NEED** to be small\n",
    "    - *Hardly ever bee 20 lines long*\n",
    "- Each should be transparently obvios\n",
    "- Avoid nested `if, else, while` statements\n",
    "- `if, else, while` conditions should be a single line long\n",
    "    - If they are complex, build a function for it\n"
   ]
  },
  {
   "cell_type": "markdown",
   "id": "46c4177a",
   "metadata": {},
   "source": [
    "### Do One Thing"
   ]
  },
  {
   "cell_type": "markdown",
   "id": "619caa09",
   "metadata": {},
   "source": [
    "**Functions should do one thing. They should do it well. They should do it only.**\n",
    "\n",
    "It's hard to define what **One Thing**, but doing only things one *step* of abstraction below is a good guide.\n",
    "\n",
    "If you can extract another function from it with singular name, or if you can divide it into sections, your function is doing more than **One Thing**."
   ]
  },
  {
   "cell_type": "markdown",
   "id": "39dbe0cb",
   "metadata": {},
   "source": [
    "### One Level of Abstraction per Function"
   ]
  },
  {
   "cell_type": "markdown",
   "id": "1ff12ec3",
   "metadata": {},
   "source": [
    "Make sure that all statements within your function are at the same level of abstraction."
   ]
  },
  {
   "cell_type": "markdown",
   "id": "d2419856",
   "metadata": {},
   "source": [
    "### Reading Code from Top to Bottom: *The Stepdown* Rule"
   ]
  },
  {
   "cell_type": "markdown",
   "id": "cff6f332",
   "metadata": {},
   "source": [
    "Code should follow a **top-down** narrative. Every function should be followed by those at the next level of abstraction so that the program can be read descending one level of abstraction at a time."
   ]
  },
  {
   "cell_type": "markdown",
   "id": "2553f296",
   "metadata": {},
   "source": [
    "### Switch Statements (Conditional Mapping)"
   ]
  },
  {
   "cell_type": "markdown",
   "id": "3d837b01",
   "metadata": {},
   "source": [
    "#### Raw Code"
   ]
  },
  {
   "cell_type": "code",
   "execution_count": 11,
   "id": "216a08a0",
   "metadata": {
    "ExecuteTime": {
     "end_time": "2023-06-16T13:10:25.783226Z",
     "start_time": "2023-06-16T13:10:25.780540Z"
    }
   },
   "outputs": [],
   "source": [
    "class InvalidEmployeeType(Exception):\n",
    "    def __init__(self, employee_type):\n",
    "        super().__init__(f\"Invalid employee type: {employee_type}\")\n",
    "\n",
    "def calculate_pay(e):\n",
    "    if e.type == \"COMMISSIONED\":\n",
    "        return calculate_commissioned_pay(e)\n",
    "    elif e.type == \"HOURLY\":\n",
    "        return calculate_hourly_pay(e)\n",
    "    elif e.type == \"SALARIED\":\n",
    "        return calculate_salaried_pay(e)\n",
    "    else:\n",
    "        raise InvalidEmployeeType(e.type)"
   ]
  },
  {
   "cell_type": "markdown",
   "id": "4227a5b0",
   "metadata": {},
   "source": [
    "- Function is large\n",
    "- If new `EmployeeTypes` are added, the function must grow \n",
    "    - Violates *Open Closed Principle*\n",
    "- Does more than **One Thing**\n",
    "- Many functions in the codebase must be similar in order for this one to work"
   ]
  },
  {
   "cell_type": "markdown",
   "id": "28ecebb8",
   "metadata": {},
   "source": [
    "#### Abstracted Code"
   ]
  },
  {
   "cell_type": "markdown",
   "id": "a5f24f6f",
   "metadata": {},
   "source": [
    "Solution is to bury the conditional mapping in to an abstract class (*Polymorphism*)."
   ]
  },
  {
   "cell_type": "code",
   "execution_count": 12,
   "id": "497906e9",
   "metadata": {
    "ExecuteTime": {
     "end_time": "2023-06-16T13:10:25.788523Z",
     "start_time": "2023-06-16T13:10:25.784540Z"
    }
   },
   "outputs": [],
   "source": [
    "from abc import ABC, abstractmethod\n",
    "\n",
    "class Employee(ABC):\n",
    "    @abstractmethod\n",
    "    def is_payday(self):\n",
    "        pass\n",
    "\n",
    "    @abstractmethod\n",
    "    def calculate_pay(self):\n",
    "        pass\n",
    "\n",
    "    @abstractmethod\n",
    "    def deliver_pay(self, pay):\n",
    "        pass\n",
    "\n",
    "class EmployeeFactory:\n",
    "    @abstractmethod\n",
    "    def make_employee(self, r):\n",
    "        pass\n",
    "\n",
    "class EmployeeFactoryImpl(EmployeeFactory):\n",
    "    def make_employee(self, r):\n",
    "        if r.type == \"COMMISSIONED\":\n",
    "            return CommissionedEmployee(r)\n",
    "        elif r.type == \"HOURLY\":\n",
    "            return HourlyEmployee(r)\n",
    "        elif r.type == \"SALARIED\":\n",
    "            return SalariedEmployee(r)\n",
    "        else:\n",
    "            raise InvalidEmployeeType(r.type)"
   ]
  },
  {
   "cell_type": "markdown",
   "id": "73fa30a7",
   "metadata": {},
   "source": [
    "### Use Descriptive Names"
   ]
  },
  {
   "cell_type": "markdown",
   "id": "97c424cf",
   "metadata": {},
   "source": [
    "With **Single Responsability functions**, the name must clearly state what the function does.\n",
    "\n",
    "The smaller and more focused the function is, the easier it is to choose a descriptive name.\n",
    "\n",
    "Don't be afraid of making the name long, descriptive is better than short.\n",
    "\n",
    "Be consistent, use the same phrases, nouns, and verbs in the function names you choose for a module."
   ]
  },
  {
   "cell_type": "markdown",
   "id": "5cef969c",
   "metadata": {},
   "source": [
    "### Function Arguments"
   ]
  },
  {
   "cell_type": "markdown",
   "id": "9af735fc",
   "metadata": {},
   "source": [
    "The ideal number of arguments for a function is zero, then one, then two. Three is hard to justify.\n",
    "\n",
    "This makes testing easier and easier to understand."
   ]
  },
  {
   "cell_type": "markdown",
   "id": "29e9d53f",
   "metadata": {},
   "source": [
    "### Common Monadic Forms"
   ]
  },
  {
   "cell_type": "markdown",
   "id": "7163995f",
   "metadata": {},
   "source": [
    "Two good reasons to pass a single argument are:\n",
    "\n",
    "- You may be asking a question about that argument: `os.path.exists(arg)`\n",
    "- You may be operating on that argument: `add_two(arg)`\n",
    "\n",
    "Both cases benefit for knowing what you are doing and to whom, which is much easier with a single argument."
   ]
  },
  {
   "cell_type": "markdown",
   "id": "ac95d6f0",
   "metadata": {},
   "source": [
    "### Flag Arguments"
   ]
  },
  {
   "cell_type": "markdown",
   "id": "d1d08d32",
   "metadata": {},
   "source": [
    "Passing `boolean` arguments to a function is a truly terrible practice. Complicates the signature of the method, and *SCREAMS* that the function is doing more than **One Thing**.\n",
    "\n",
    "Separate that function into two."
   ]
  },
  {
   "cell_type": "markdown",
   "id": "95890033",
   "metadata": {},
   "source": [
    "### Dyadic functions"
   ]
  },
  {
   "cell_type": "markdown",
   "id": "55e97288",
   "metadata": {},
   "source": [
    "Dyads aren't evil, and are needed sometimes, but be aware that they come at a cost, and you should be aware of what mechanisms may be available to you to convert them into monads."
   ]
  },
  {
   "cell_type": "markdown",
   "id": "99682d63",
   "metadata": {},
   "source": [
    "### Triads"
   ]
  },
  {
   "cell_type": "markdown",
   "id": "a5c9ad52",
   "metadata": {},
   "source": [
    "Three arguments are significantly harder to understand than dyads. Issues of ordering, pausing, and ingoring are more than doubled, so there should be careful consideration before writing one."
   ]
  },
  {
   "cell_type": "markdown",
   "id": "1e1400e5",
   "metadata": {},
   "source": [
    "### Argument Objects"
   ]
  },
  {
   "cell_type": "markdown",
   "id": "a5340d86",
   "metadata": {},
   "source": [
    "When a function *Needs* more than two or three arguments, it is likely that some of those arguments ought to be wrapped in a class of their own."
   ]
  },
  {
   "cell_type": "markdown",
   "id": "74973e65",
   "metadata": {},
   "source": [
    "#### Multiple Arguments Code"
   ]
  },
  {
   "cell_type": "code",
   "execution_count": 13,
   "id": "3f4e80ec",
   "metadata": {
    "ExecuteTime": {
     "end_time": "2023-06-16T13:10:25.791936Z",
     "start_time": "2023-06-16T13:10:25.789475Z"
    }
   },
   "outputs": [],
   "source": [
    "def make_circle(x, y, r):\n",
    "    pass"
   ]
  },
  {
   "cell_type": "markdown",
   "id": "f258af09",
   "metadata": {},
   "source": [
    "#### Object Arguments Code"
   ]
  },
  {
   "cell_type": "code",
   "execution_count": 14,
   "id": "956ab1f8",
   "metadata": {
    "ExecuteTime": {
     "end_time": "2023-06-16T13:10:25.794354Z",
     "start_time": "2023-06-16T13:10:25.793001Z"
    }
   },
   "outputs": [],
   "source": [
    "def make_circle(center, r):\n",
    "    pass"
   ]
  },
  {
   "cell_type": "markdown",
   "id": "0fd6468d",
   "metadata": {},
   "source": [
    "Those arguments that are better turn into objects, usually are part of a concept that deserves a name of its own."
   ]
  },
  {
   "cell_type": "markdown",
   "id": "4695be8f",
   "metadata": {},
   "source": [
    "### Argument Lists"
   ]
  },
  {
   "cell_type": "markdown",
   "id": "6a59c85c",
   "metadata": {},
   "source": [
    "If the variable arguments are all treated identically, then they are equivalent to a single argument of type `List`."
   ]
  },
  {
   "cell_type": "markdown",
   "id": "d73a0ed8",
   "metadata": {},
   "source": [
    "### Verbs and Keywords"
   ]
  },
  {
   "cell_type": "markdown",
   "id": "606bca0e",
   "metadata": {},
   "source": [
    "In the case of mondas, function name should be a clear `verb(noun)` pair. By adding keywords, the name can be made even more explicit."
   ]
  },
  {
   "cell_type": "markdown",
   "id": "35767ebd",
   "metadata": {},
   "source": [
    "### Have No Side Effects"
   ]
  },
  {
   "cell_type": "markdown",
   "id": "c6d84b5a",
   "metadata": {},
   "source": [
    "Function must do **One Thing**, so it can't do other *Hidden Things* like make unexpected changes to the variables of its own class.\n",
    "\n",
    "This leads to strange temporal couplings and other dependencies."
   ]
  },
  {
   "cell_type": "markdown",
   "id": "fb09628e",
   "metadata": {},
   "source": [
    "#### Raw Code"
   ]
  },
  {
   "cell_type": "code",
   "execution_count": 15,
   "id": "6f10b88b",
   "metadata": {
    "ExecuteTime": {
     "end_time": "2023-06-16T13:10:25.797297Z",
     "start_time": "2023-06-16T13:10:25.795306Z"
    }
   },
   "outputs": [],
   "source": [
    "class UserValidator:\n",
    "    def __init__(self, cryptographer):\n",
    "        self.cryptographer = cryptographer\n",
    "\n",
    "    def check_password(self, user_name, password):\n",
    "        user = UserGateway.find_by_name(user_name)\n",
    "        if user != User.NULL:\n",
    "            coded_phrase = user.get_phrase_encoded_by_password()\n",
    "            phrase = self.cryptographer.decrypt(coded_phrase, password)\n",
    "            if phrase == \"Valid Password\":\n",
    "                Session.initialize() # !!!!!\n",
    "                return True\n",
    "        return False"
   ]
  },
  {
   "cell_type": "markdown",
   "id": "e04601df",
   "metadata": {},
   "source": [
    "Functions does `Session.initialize()`, which is not clear in any way and breaks the fact that the function is supposed to do **One Thing** and creates a temporal coupling with the `Session` and the `check_password` method."
   ]
  },
  {
   "cell_type": "markdown",
   "id": "f7e180d4",
   "metadata": {},
   "source": [
    "#### Refactored Code"
   ]
  },
  {
   "cell_type": "code",
   "execution_count": 16,
   "id": "f9f9e186",
   "metadata": {
    "ExecuteTime": {
     "end_time": "2023-06-16T13:10:25.800185Z",
     "start_time": "2023-06-16T13:10:25.798198Z"
    }
   },
   "outputs": [],
   "source": [
    "class UserValidator:\n",
    "    def __init__(self, cryptographer):\n",
    "        self.cryptographer = cryptographer\n",
    "\n",
    "    def check_password_and_init_session(self, user_name, password):\n",
    "        user = UserGateway.find_by_name(user_name)\n",
    "        if user != User.NULL:\n",
    "            coded_phrase = user.get_phrase_encoded_by_password()\n",
    "            phrase = self.cryptographer.decrypt(coded_phrase, password)\n",
    "            if phrase == \"Valid Password\":\n",
    "                Session.initialize() # !!!!!\n",
    "                return True\n",
    "        return False"
   ]
  },
  {
   "cell_type": "markdown",
   "id": "ed67c71c",
   "metadata": {},
   "source": [
    "This makes it clear, though it still violates that a function can only do **One Thing**."
   ]
  },
  {
   "cell_type": "markdown",
   "id": "96c928ce",
   "metadata": {},
   "source": [
    "### Output Arguments"
   ]
  },
  {
   "cell_type": "markdown",
   "id": "c4d53246",
   "metadata": {},
   "source": [
    "Anything that forces you to check the function signature for its definition should be regarded as a double-take. A cognitive break and should be avoided.\n",
    "\n",
    "If a function **must** change the state of something, have it change the state of its owning object."
   ]
  },
  {
   "cell_type": "markdown",
   "id": "4e2eb64f",
   "metadata": {},
   "source": [
    "### Command Query Separation"
   ]
  },
  {
   "cell_type": "markdown",
   "id": "c7ef96a4",
   "metadata": {},
   "source": [
    "Functions should either **Do Something** or **Answer Something**, but not both.\n",
    "\n",
    "Either functions should **Change the State of an Object** or **Return Information of an Object**, but not both.\n",
    "\n",
    "Doing both leads to confusion."
   ]
  },
  {
   "cell_type": "markdown",
   "id": "01ba1450",
   "metadata": {},
   "source": [
    "#### Raw Code"
   ]
  },
  {
   "cell_type": "code",
   "execution_count": 17,
   "id": "d4ef3c41",
   "metadata": {
    "ExecuteTime": {
     "end_time": "2023-06-16T13:10:25.802699Z",
     "start_time": "2023-06-16T13:10:25.801114Z"
    }
   },
   "outputs": [],
   "source": [
    "def _set(attribute, value):\n",
    "    try:\n",
    "        # Blah Blah\n",
    "        return True\n",
    "    except Exception:\n",
    "        return False\n",
    "    \n",
    "if _set('username', 'unclebob'):\n",
    "    pass"
   ]
  },
  {
   "cell_type": "markdown",
   "id": "ff1b783a",
   "metadata": {},
   "source": [
    "What does it mean?\n",
    "\n",
    "- The `'username'` attribute was previously set to `'unclebob'`?\n",
    "- The `'username'` attribute was succesfully set to `'unclebob'`?"
   ]
  },
  {
   "cell_type": "markdown",
   "id": "4fc6351b",
   "metadata": {},
   "source": [
    "#### Refactored Code"
   ]
  },
  {
   "cell_type": "code",
   "execution_count": 18,
   "id": "81e754d3",
   "metadata": {
    "ExecuteTime": {
     "end_time": "2023-06-16T13:10:25.805157Z",
     "start_time": "2023-06-16T13:10:25.803602Z"
    }
   },
   "outputs": [],
   "source": [
    "def attribute_exists(attribute):\n",
    "    try:\n",
    "        # Blah Blah\n",
    "        return True\n",
    "    except Exception:\n",
    "        return False\n",
    "    \n",
    "def _set(attribute, value):\n",
    "    pass\n",
    "\n",
    "if attribute_exists('username'):\n",
    "    _set('username', 'unclebob')\n"
   ]
  },
  {
   "cell_type": "markdown",
   "id": "81f14427",
   "metadata": {},
   "source": [
    "### Prefer Exceptions to Returning Error Codes"
   ]
  },
  {
   "cell_type": "markdown",
   "id": "3d5e1c30",
   "metadata": {},
   "source": [
    "Returning error codes from command functions is a subtle violation of command query separation. It promotes commands being used as expressions in the predicates of `if` estatements."
   ]
  },
  {
   "cell_type": "markdown",
   "id": "1d91525b",
   "metadata": {},
   "source": [
    "#### Raw Code"
   ]
  },
  {
   "cell_type": "code",
   "execution_count": 19,
   "id": "aa401086",
   "metadata": {
    "ExecuteTime": {
     "end_time": "2023-06-16T13:10:25.807802Z",
     "start_time": "2023-06-16T13:10:25.805975Z"
    }
   },
   "outputs": [
    {
     "name": "stdout",
     "output_type": "stream",
     "text": [
      "All OK\n"
     ]
    }
   ],
   "source": [
    "def delete_page(page):\n",
    "    try:\n",
    "        return 'OK'\n",
    "    except Exception:\n",
    "        return 'ERROR'\n",
    "    \n",
    "if delete_page('page') == 'OK':\n",
    "    print('All OK')"
   ]
  },
  {
   "cell_type": "markdown",
   "id": "9b47ebff",
   "metadata": {},
   "source": [
    "This leads to deeply nested structures. By creating an error code, the caller must deal with the error inmmediately."
   ]
  },
  {
   "cell_type": "code",
   "execution_count": 20,
   "id": "b8c54f1b",
   "metadata": {
    "ExecuteTime": {
     "end_time": "2023-06-16T13:10:25.811022Z",
     "start_time": "2023-06-16T13:10:25.808763Z"
    }
   },
   "outputs": [
    {
     "name": "stdout",
     "output_type": "stream",
     "text": [
      "pageReference raised an error\n"
     ]
    }
   ],
   "source": [
    "def delete_reference(reference):\n",
    "    # Random Success/Error\n",
    "    return np.random.choice(['OK', 'ERROR'])\n",
    "\n",
    "def delete_key(key):\n",
    "    # Random Success/Error\n",
    "    return np.random.choice(['OK', 'ERROR'])\n",
    "\n",
    "if delete_page('page') == 'OK':\n",
    "    if delete_reference('pageReference') == 'OK':\n",
    "        if delete_key('configKey') == 'OK':\n",
    "            print(\"All OK, page deleted\")\n",
    "        else:\n",
    "            print(\"configKey raised an error\")\n",
    "    else:\n",
    "        print(\"pageReference raised an error\")\n",
    "else:\n",
    "    print(\"ERROR: delete_page failed\")"
   ]
  },
  {
   "cell_type": "markdown",
   "id": "9b71881e",
   "metadata": {},
   "source": [
    "#### Refactored Code"
   ]
  },
  {
   "cell_type": "code",
   "execution_count": 21,
   "id": "4f67bc6a",
   "metadata": {
    "ExecuteTime": {
     "end_time": "2023-06-16T13:10:25.814500Z",
     "start_time": "2023-06-16T13:10:25.811831Z"
    }
   },
   "outputs": [
    {
     "name": "stdout",
     "output_type": "stream",
     "text": [
      "Error in delete_reference\n"
     ]
    }
   ],
   "source": [
    "def delete_page(reference):\n",
    "    result = np.random.choice(['OK', Exception('Error in delete_page')])\n",
    "    if result != 'OK':\n",
    "        raise result\n",
    "    return result\n",
    "\n",
    "def delete_reference(reference):\n",
    "    result = np.random.choice(['OK', Exception('Error in delete_reference')])\n",
    "    if result != 'OK':\n",
    "        raise result\n",
    "    return result\n",
    "\n",
    "def delete_key(key):\n",
    "    result = np.random.choice(['OK', Exception('Error in delete_key')])\n",
    "    if result != 'OK':\n",
    "        raise result\n",
    "    return result\n",
    "\n",
    "try:\n",
    "    delete_page('page')\n",
    "    delete_reference('pageReference')\n",
    "    delete_key('configKey')\n",
    "except Exception as e:\n",
    "    print(e)"
   ]
  },
  {
   "cell_type": "markdown",
   "id": "e5adda6e",
   "metadata": {},
   "source": [
    "### Extract Try/Catch (Try/Except) Blocks"
   ]
  },
  {
   "cell_type": "markdown",
   "id": "082d4390",
   "metadata": {},
   "source": [
    "`try/excepts` are ugly in their own right, confusing the code and mixing `Exception` handling with normal processing.\n",
    "\n",
    "Its better to extract the bodies of the `try/except` blocks out into functions of their own."
   ]
  },
  {
   "cell_type": "markdown",
   "id": "3ce53ca4",
   "metadata": {},
   "source": [
    "#### Refactored Code"
   ]
  },
  {
   "cell_type": "code",
   "execution_count": 22,
   "id": "e10e72e7",
   "metadata": {
    "ExecuteTime": {
     "end_time": "2023-06-16T13:10:25.817461Z",
     "start_time": "2023-06-16T13:10:25.815378Z"
    }
   },
   "outputs": [
    {
     "name": "stdout",
     "output_type": "stream",
     "text": [
      "Error in delete_page\n"
     ]
    }
   ],
   "source": [
    "def delete(page):\n",
    "    try:\n",
    "        delete_page_references_and_keys(page)\n",
    "    except Exception as e:\n",
    "        log_error(e)\n",
    "        \n",
    "def delete_page_references_and_keys(page):\n",
    "    delete_page('page')\n",
    "    delete_reference('pageReference')\n",
    "    delete_key('configKey')\n",
    "    \n",
    "def log_error(e):\n",
    "    print(e)\n",
    "    \n",
    "delete('page')"
   ]
  },
  {
   "cell_type": "markdown",
   "id": "d61853fc",
   "metadata": {},
   "source": [
    "The `delete` function is easy to understand and ignore, all focus is in the `delete_page_references_and_keys` which has all the functionality inside."
   ]
  },
  {
   "cell_type": "markdown",
   "id": "59b18f0d",
   "metadata": {},
   "source": [
    "- **Error Handling is already ONE THING**\n",
    "- **Use Exceptions rather than Error codes**"
   ]
  },
  {
   "cell_type": "markdown",
   "id": "04a7b799",
   "metadata": {},
   "source": [
    "### Don't Repeat Yourself"
   ]
  },
  {
   "cell_type": "markdown",
   "id": "3395326e",
   "metadata": {},
   "source": [
    "Duplication bloats the code and requires n-fold modification if the algorithm ever changes. Also an n-fold opportunity for errors of omission.\n",
    "\n",
    "Readability is enhanced by the reduction of duplication."
   ]
  },
  {
   "cell_type": "markdown",
   "id": "9391f25f",
   "metadata": {},
   "source": [
    "### Structured Programming"
   ]
  },
  {
   "cell_type": "markdown",
   "id": "c5591583",
   "metadata": {},
   "source": [
    "***\"Every function and every block within a function, should have one entry and one exit.\"*** - Dijkstra.\n",
    "\n",
    "Meaning that there should be only one `return` per function, and no `break` or `continue` statements in loops.\n",
    "\n",
    "<font color='red'>**By making your functions sufficiently small, the structure speaks for itself and doen't need to be so rigid.**</font>"
   ]
  },
  {
   "cell_type": "markdown",
   "id": "62986d67",
   "metadata": {},
   "source": [
    "### How Do you Write Functions like This?"
   ]
  },
  {
   "cell_type": "markdown",
   "id": "efd3ba18",
   "metadata": {},
   "source": [
    "As with any other writing:\n",
    "\n",
    "1. You get your thoughts down at first.\n",
    "2. Massage it until it reads well.\n",
    "3. Keep wordsmithing, restructuring and refining until it reads the way you want it to read.\n",
    "\n",
    "<font color='red'>**If you make tests early, they can cover every piece of the clumsy code and make refactoring much easier.**</font>"
   ]
  },
  {
   "cell_type": "markdown",
   "id": "4ec3bffc",
   "metadata": {},
   "source": [
    "## Comments"
   ]
  },
  {
   "cell_type": "markdown",
   "id": "51030b38",
   "metadata": {},
   "source": [
    "Comments are, at best, a necessary evil. The proper use of comments is to compensate for our failure to express ourselves in code.\n",
    "\n",
    "If you find yourself needing to write a comment, see if there's not a better way to express yourself in code.\n",
    "\n",
    "**They can't be realistically maintained**."
   ]
  },
  {
   "cell_type": "markdown",
   "id": "52bd0136",
   "metadata": {},
   "source": [
    "### Comments Do Not Make Up for Bad Code"
   ]
  },
  {
   "cell_type": "markdown",
   "id": "e1444952",
   "metadata": {},
   "source": [
    "*\"Oh, I'd better comment that!\"* -› **NO! You'd better clean it!**"
   ]
  },
  {
   "cell_type": "markdown",
   "id": "ca8e185a",
   "metadata": {},
   "source": [
    "### Explain Yourself in Code"
   ]
  },
  {
   "cell_type": "markdown",
   "id": "41266689",
   "metadata": {},
   "source": [
    "#### Raw Code"
   ]
  },
  {
   "cell_type": "code",
   "execution_count": 23,
   "id": "2ff08fa4",
   "metadata": {
    "ExecuteTime": {
     "end_time": "2023-06-16T13:10:25.820473Z",
     "start_time": "2023-06-16T13:10:25.818256Z"
    }
   },
   "outputs": [
    {
     "name": "stdout",
     "output_type": "stream",
     "text": [
      "Full Benefits!\n"
     ]
    }
   ],
   "source": [
    "HOURLY_FLAG = True\n",
    "\n",
    "class employee:\n",
    "    \n",
    "    def __init__(self):\n",
    "        self.flags = True\n",
    "        self.age = 99\n",
    "        \n",
    "employee = employee()\n",
    "\n",
    "# Check if the employee is eligible for full benefits\n",
    "if (employee.flags and HOURLY_FLAG) and (employee.age > 65):\n",
    "    print('Full Benefits!')"
   ]
  },
  {
   "cell_type": "markdown",
   "id": "2e9286a1",
   "metadata": {},
   "source": [
    "#### Refactored Code"
   ]
  },
  {
   "cell_type": "code",
   "execution_count": 24,
   "id": "6400d30b",
   "metadata": {
    "ExecuteTime": {
     "end_time": "2023-06-16T13:10:25.823418Z",
     "start_time": "2023-06-16T13:10:25.821300Z"
    }
   },
   "outputs": [
    {
     "name": "stdout",
     "output_type": "stream",
     "text": [
      "Full Benefits!\n"
     ]
    }
   ],
   "source": [
    "class employee:\n",
    "    \n",
    "    def __init__(self):\n",
    "        self.flags = True\n",
    "        self.age = 99\n",
    "        self.HOURLY_FLAG = True\n",
    "        \n",
    "    def isEligibleForFullBenefits(self):\n",
    "        return (self.flags and self.HOURLY_FLAG) and (self.age > 65)\n",
    "\n",
    "employee = employee()\n",
    "\n",
    "if employee.isEligibleForFullBenefits():\n",
    "    print('Full Benefits!')"
   ]
  },
  {
   "cell_type": "markdown",
   "id": "1b35abc2",
   "metadata": {},
   "source": [
    "### Good Comments"
   ]
  },
  {
   "cell_type": "markdown",
   "id": "4867312c",
   "metadata": {},
   "source": [
    "There are legal comments, but keep in mind that the only truly good comment is the comment you found a way not to write."
   ]
  },
  {
   "cell_type": "markdown",
   "id": "9e13eb81",
   "metadata": {},
   "source": [
    "* **Legal Comments:**\n",
    "\n",
    "    - Licenses, copyrights, authorship, etc...\n",
    "\n",
    "* **Informative Comments:**\n",
    "\n",
    "    - It is sometimes useful to provide basic information with a comment.\n",
    "\n",
    "* **Explanation of Intent:**\n",
    "\n",
    "    - Sometimes there's no clear way to do something and it ends up being because of a decision that you made. That could be a good explanatory comment.\n",
    "\n",
    "* **Clarification:**\n",
    "    - Sometimes there's no way to make code clearer, and a clarification comment might help. Be wary that there's a high chance that the comment is or will be incorrect.\n",
    "    \n",
    "* **Warning of Consequences:**\n",
    "    - Sometimes it is useful to warn other programmers about certain consequences\n",
    "    \n",
    "* **TODO Comments**:\n",
    "    - TODO's are reasonable explanations as why degenerate code looks how it does and provides guidance on how to procede. It also works as a reminder.\n",
    " \n",
    "* **Amplification:**\n",
    "    - To amplify the importance of something that may otherwise seem inconsequential."
   ]
  },
  {
   "cell_type": "markdown",
   "id": "fa26288f",
   "metadata": {},
   "source": [
    "### Bad Comments"
   ]
  },
  {
   "cell_type": "markdown",
   "id": "0e1ae16a",
   "metadata": {},
   "source": [
    "* **Mumbling:**\n",
    "    - If you decide to write a comment, then spend the necessary time to make sure it is the best comment you can write.\n",
    "    \n",
    "* **Redundant Comments:**\n",
    "    - There are things that are better explained in code.\n",
    "    \n",
    "* **Misleading Comments:**\n",
    "    - A comment that isn't precise enough to be accurate.\n",
    "    \n",
    "* **Mandated Comments:**\n",
    "    - It is plain silly to have a rule that says that every function must have a doc.\n",
    "    \n",
    "* **Journal Comments:**\n",
    "    - Log of edits on files... there's `git commit -m 'Blah'` for that\n",
    "    \n",
    "* **Noise Comments:**\n",
    "    - Comments that restate the obvious and provide no new information.\n",
    "    \n",
    "* **Scary Noise:**\n",
    "    - If authors aren't paying attention when comments are written (or paste), why should readers be expected to profit from them?\n",
    "    \n",
    "* **Don't Use a Comment When You Can Use a Function or Variable:**\n",
    "    - Rephrase using code\n",
    "    \n",
    "* **Position Markers:**\n",
    "    - There are rare times when it makes sense. If it does, don't overdo it.\n",
    "    \n",
    "* **Closing Brace Comments:**\n",
    "    - If you find yourself marking the code, use smaller functions instead.\n",
    "    \n",
    "* **Attributions and Bylines:**\n",
    "    - Source controls are very good at remembering who added what.\n",
    "    \n",
    "* **Commented-Out Code:**\n",
    "    - Don't do this!\n",
    "    \n",
    "* **HTML Comments:**\n",
    "    - Why?\n",
    "    \n",
    "* **Nonlocal Information:**\n",
    "    - Don't offer systemwide information in the context of a local comment.\n",
    "    \n",
    "* **Too Much Information:**\n",
    "    - No need for discussions, descriptions into your comments.\n",
    "    \n",
    "* **Inobvious Connection:**\n",
    "    - The connection between a comment and the code it describes should be obvious.\n",
    "    \n",
    "* **Function Headers:**\n",
    "    - Short functions don't need much description."
   ]
  },
  {
   "cell_type": "markdown",
   "id": "49db8855",
   "metadata": {},
   "source": [
    "## Good Formatting"
   ]
  },
  {
   "cell_type": "markdown",
   "id": "30c4cc3b",
   "metadata": {},
   "source": [
    "We want code to show that a professional has been at work."
   ]
  },
  {
   "cell_type": "markdown",
   "id": "be8c7da6",
   "metadata": {},
   "source": [
    "### The Purpose of Formatting"
   ]
  },
  {
   "cell_type": "markdown",
   "id": "df3905c7",
   "metadata": {},
   "source": [
    "Code is read many more time than it is written, a good format make the first one easier and consistent."
   ]
  },
  {
   "cell_type": "markdown",
   "id": "3e57286d",
   "metadata": {},
   "source": [
    "### Vertical Formatting"
   ]
  },
  {
   "cell_type": "markdown",
   "id": "ffcb9dfc",
   "metadata": {},
   "source": [
    "Small files are usually easier to understand than large files are."
   ]
  },
  {
   "cell_type": "markdown",
   "id": "be3d5a9c",
   "metadata": {},
   "source": [
    "### The Newspaper Metaphor"
   ]
  },
  {
   "cell_type": "markdown",
   "id": "5550476f",
   "metadata": {},
   "source": [
    "Newspapers contain many articles, most are very small and very few contain as much text as a page can hold.\n",
    "\n",
    "First paragraph gives you a synopsis of the whole story, hiding all the details while providing a broad-brush concept. As you continue down, the details increase until you have all the details.\n",
    "\n",
    "File name should be simple but explanatory. The topmost should provide the high-level functions, and detail should increase as we go downward."
   ]
  },
  {
   "cell_type": "markdown",
   "id": "f354c3d5",
   "metadata": {},
   "source": [
    "### Vertical Openness Between Concepts"
   ]
  },
  {
   "cell_type": "markdown",
   "id": "be6a1b57",
   "metadata": {},
   "source": [
    "Each line represents an expression or clause, and each group of lines represents a complete thought. Those thoughts should be separated from each other with blank lines."
   ]
  },
  {
   "cell_type": "markdown",
   "id": "e51cfb82",
   "metadata": {},
   "source": [
    "### Vertical Density"
   ]
  },
  {
   "cell_type": "markdown",
   "id": "2f6beec2",
   "metadata": {},
   "source": [
    "If openness separates concepts, then vertical density implies close association. Don't break it."
   ]
  },
  {
   "cell_type": "markdown",
   "id": "bcda695e",
   "metadata": {},
   "source": [
    "### Vertical Distance"
   ]
  },
  {
   "cell_type": "markdown",
   "id": "4bc06555",
   "metadata": {},
   "source": [
    "Concepts that are closely related should be vertically close. Avoid forcing readers to hop in to a rabbit hole.\n",
    "\n",
    "* **Variable Declarations:**\n",
    "    - Variables should be declared as close to their usage as possible. \n",
    "    - Local variables should appear at the top of each function. \n",
    "    - Control variables for loops should be declared within the loop if possible.\n",
    "    \n",
    "* **Instance Variables:**\n",
    "    - Should be declared on the top of the class, or in a well-known place.\n",
    "\n",
    "* **Dependent Functions:**\n",
    "    - If one function calls another, they should be vertically close, the caller above the callee, giving the program a natural flow.\n",
    "\n",
    "* **Conceptual Affinity:**\n",
    "    - The stronger the concept affinity, the less vertical distance there should be between them.\n",
    "    \n",
    "* **Vertical Ordering:**\n",
    "    - Make the read flow from top to bottom as explained before."
   ]
  },
  {
   "cell_type": "markdown",
   "id": "4b12977c",
   "metadata": {},
   "source": [
    "### Horizontal Formatting"
   ]
  },
  {
   "cell_type": "markdown",
   "id": "13a1d70d",
   "metadata": {},
   "source": [
    "How wide should a line be? Programmers clearly prefer short lines. 80, 100 or 120, above that is careless to say the least."
   ]
  },
  {
   "cell_type": "markdown",
   "id": "5e1ab217",
   "metadata": {},
   "source": [
    "### Horizontal Openness and Density"
   ]
  },
  {
   "cell_type": "markdown",
   "id": "bbfebdde",
   "metadata": {},
   "source": [
    "Use horizontal whitespace to associate things that are strongly related and disassociate things that are more weakly related."
   ]
  },
  {
   "cell_type": "markdown",
   "id": "61dc14bc",
   "metadata": {},
   "source": [
    "#### Raw Code"
   ]
  },
  {
   "cell_type": "code",
   "execution_count": 25,
   "id": "a60f2023",
   "metadata": {
    "ExecuteTime": {
     "end_time": "2023-06-16T13:10:25.826570Z",
     "start_time": "2023-06-16T13:10:25.824549Z"
    }
   },
   "outputs": [],
   "source": [
    "class Quadratic:\n",
    "    @staticmethod\n",
    "    def root1(a,b,c):\n",
    "        determinant=Quadratic.determinant(a,b,c)\n",
    "        return (-b+math.sqrt(determinant))/(2*a)\n",
    "\n",
    "    @staticmethod\n",
    "    def root2(a,b,c):\n",
    "        determinant=Quadratic.determinant(a,b,c)\n",
    "        return (-b-math.sqrt(determinant))/(2*a)\n",
    "\n",
    "    @staticmethod\n",
    "    def determinant(a,b,c):\n",
    "        return b*b-4*a*c"
   ]
  },
  {
   "cell_type": "markdown",
   "id": "5275642c",
   "metadata": {},
   "source": [
    "#### Formatted Code"
   ]
  },
  {
   "cell_type": "code",
   "execution_count": 26,
   "id": "60142329",
   "metadata": {
    "ExecuteTime": {
     "end_time": "2023-06-16T13:10:25.829429Z",
     "start_time": "2023-06-16T13:10:25.827364Z"
    }
   },
   "outputs": [],
   "source": [
    "class Quadratic:\n",
    "    @staticmethod\n",
    "    def root1(a, b, c):\n",
    "        determinant = Quadratic.determinant(a, b, c)\n",
    "        return (-b + math.sqrt(determinant)) / (2*a)\n",
    "\n",
    "    @staticmethod\n",
    "    def root2(a, b, c):\n",
    "        determinant = Quadratic.determinant(a, b, c)\n",
    "        return (-b - math.sqrt(determinant)) / (2*a)\n",
    "\n",
    "    @staticmethod\n",
    "    def determinant(a, b, c):\n",
    "        return b*b - 4*a*c"
   ]
  },
  {
   "cell_type": "markdown",
   "id": "0172ec16",
   "metadata": {},
   "source": [
    "### Horizontal Alignment"
   ]
  },
  {
   "cell_type": "markdown",
   "id": "f7517900",
   "metadata": {},
   "source": [
    "Alignment seems to emphasize the wrong things and loose the correlation of each line."
   ]
  },
  {
   "cell_type": "markdown",
   "id": "3832d898",
   "metadata": {},
   "source": [
    "### Indentation"
   ]
  },
  {
   "cell_type": "markdown",
   "id": "cfbc09ae",
   "metadata": {},
   "source": [
    "You can rapidly discern the structure of the indented file."
   ]
  },
  {
   "cell_type": "markdown",
   "id": "1d6778cd",
   "metadata": {},
   "source": [
    "### Breaking Indentation"
   ]
  },
  {
   "cell_type": "markdown",
   "id": "710ead83",
   "metadata": {},
   "source": [
    "Avoid collapsing scopes."
   ]
  },
  {
   "cell_type": "markdown",
   "id": "408c68b7",
   "metadata": {},
   "source": [
    "### Team Rules"
   ]
  },
  {
   "cell_type": "markdown",
   "id": "a85f703e",
   "metadata": {},
   "source": [
    "A team of developers should agree on a single formatting style."
   ]
  },
  {
   "cell_type": "markdown",
   "id": "7e628f7e",
   "metadata": {},
   "source": [
    "### Formatting Standards"
   ]
  },
  {
   "cell_type": "markdown",
   "id": "7d84f53a",
   "metadata": {},
   "source": [
    "Nowadays, there are widespread standards, you might get along just following those."
   ]
  },
  {
   "cell_type": "markdown",
   "id": "24f0f2ee",
   "metadata": {},
   "source": [
    "## Objects and Data Structures"
   ]
  },
  {
   "cell_type": "markdown",
   "id": "84f6a701",
   "metadata": {},
   "source": [
    "### Data Abstraction"
   ]
  },
  {
   "cell_type": "markdown",
   "id": "22eda954",
   "metadata": {},
   "source": [
    "#### Raw Code"
   ]
  },
  {
   "cell_type": "code",
   "execution_count": 27,
   "id": "40507471",
   "metadata": {
    "ExecuteTime": {
     "end_time": "2023-06-16T13:10:25.831760Z",
     "start_time": "2023-06-16T13:10:25.830153Z"
    }
   },
   "outputs": [],
   "source": [
    "class Point:\n",
    "    def __init__(self, x, y):\n",
    "        self.x = x\n",
    "        self.y = y"
   ]
  },
  {
   "cell_type": "markdown",
   "id": "8e53d7f1",
   "metadata": {},
   "source": [
    "#### Abstracted Code"
   ]
  },
  {
   "cell_type": "code",
   "execution_count": 28,
   "id": "4741832a",
   "metadata": {
    "ExecuteTime": {
     "end_time": "2023-06-16T13:10:25.838195Z",
     "start_time": "2023-06-16T13:10:25.836207Z"
    }
   },
   "outputs": [],
   "source": [
    "class Point(ABC):\n",
    "\n",
    "    @abstractmethod\n",
    "    def get_x(self):\n",
    "        pass\n",
    "\n",
    "    @abstractmethod\n",
    "    def ge_y(self):\n",
    "        pass\n",
    "\n",
    "    @abstractmethod\n",
    "    def set_cartesian(self, x, y):\n",
    "        pass\n",
    "\n",
    "    @abstractmethod\n",
    "    def get_r(self):\n",
    "        pass\n",
    "\n",
    "    @abstractmethod\n",
    "    def get_theta(self):\n",
    "        pass\n",
    "\n",
    "    @abstractmethod\n",
    "    def set_polar(self, r, theta):\n",
    "        pass\n"
   ]
  },
  {
   "cell_type": "markdown",
   "id": "3ce4d3f0",
   "metadata": {},
   "source": [
    "Abstracted code is an abstract implementation that has stricti access policies that handle all the functionality while maintaining robustness, consistency, and expanding the possible functionalities without sacrificing structure."
   ]
  },
  {
   "cell_type": "markdown",
   "id": "04d7485a",
   "metadata": {},
   "source": [
    "### Data/Object Anti-symmetry"
   ]
  },
  {
   "cell_type": "markdown",
   "id": "480906fe",
   "metadata": {},
   "source": [
    "Objects hide their data behind abstractions and expose functions that operate on that data.\n",
    "\n",
    "Data-Structures expose their data and have no meaningful functions."
   ]
  },
  {
   "cell_type": "markdown",
   "id": "d8f7d549",
   "metadata": {},
   "source": [
    "#### The Procedural Approach"
   ]
  },
  {
   "cell_type": "markdown",
   "id": "578f28f5",
   "metadata": {},
   "source": [
    "##### Data Structure Code"
   ]
  },
  {
   "cell_type": "code",
   "execution_count": 29,
   "id": "5e6f39c5",
   "metadata": {
    "ExecuteTime": {
     "end_time": "2023-06-16T13:10:25.842124Z",
     "start_time": "2023-06-16T13:10:25.839674Z"
    }
   },
   "outputs": [],
   "source": [
    "class Point:\n",
    "    def __init__(self, x, y):\n",
    "        self.x = x\n",
    "        self.y = y\n",
    "\n",
    "class Square:\n",
    "    def __init__(self, x, y, side):\n",
    "        self.topLeft = Point(x, y)\n",
    "        self.side = side\n",
    "\n",
    "class Rectangle:\n",
    "    def __init__(self, x, y, height, width):\n",
    "        self.topLeft = Point(x, y)\n",
    "        self.height = height\n",
    "        self.width = width\n",
    "\n",
    "class Circle:\n",
    "    def __init__(self, x, y, r):\n",
    "        self.center = Point(x, y)\n",
    "        self.radius = r"
   ]
  },
  {
   "cell_type": "markdown",
   "id": "2c0b83bf",
   "metadata": {},
   "source": [
    "##### Object Code"
   ]
  },
  {
   "cell_type": "code",
   "execution_count": 30,
   "id": "31689cd0",
   "metadata": {
    "ExecuteTime": {
     "end_time": "2023-06-16T13:10:25.845162Z",
     "start_time": "2023-06-16T13:10:25.843229Z"
    }
   },
   "outputs": [],
   "source": [
    "class NoSuchShapeException(Exception):\n",
    "    pass\n",
    "\n",
    "class Geometry:\n",
    "    @staticmethod\n",
    "    def area(shape):\n",
    "        if isinstance(shape, Square):\n",
    "            return shape.side * shape.side\n",
    "        elif isinstance(shape, Rectangle):\n",
    "            return shape.height * shape.width\n",
    "        elif isinstance(shape, Circle):\n",
    "            return pi * shape.radius * shape.radius\n",
    "        else:\n",
    "            raise NoSuchShapeException(\"No such shape\")"
   ]
  },
  {
   "cell_type": "code",
   "execution_count": 31,
   "id": "93d282db",
   "metadata": {
    "ExecuteTime": {
     "end_time": "2023-06-16T13:10:25.847550Z",
     "start_time": "2023-06-16T13:10:25.845812Z"
    }
   },
   "outputs": [
    {
     "name": "stdout",
     "output_type": "stream",
     "text": [
      "Square Area is: 100\n",
      "Circle Area is: 314.16\n"
     ]
    }
   ],
   "source": [
    "square = Square(0, 0, 10)\n",
    "circle = Circle(0, 0, 10)\n",
    "\n",
    "print(f'Square Area is: {Geometry.area(square)}')\n",
    "print(f'Circle Area is: {Geometry.area(circle):.2f}')"
   ]
  },
  {
   "cell_type": "markdown",
   "id": "8be16a66",
   "metadata": {},
   "source": [
    "It has the benefit of having all the methods in a single place. If you were to add the `perimeter` function, you should just update the `Geometry` class.\n",
    "\n",
    "But if a new `Shape` need to be added, all `Geometry` functions need to be modified."
   ]
  },
  {
   "cell_type": "markdown",
   "id": "2c7c5386",
   "metadata": {},
   "source": [
    "##### Updated Code"
   ]
  },
  {
   "cell_type": "code",
   "execution_count": 32,
   "id": "318fa61f",
   "metadata": {
    "ExecuteTime": {
     "end_time": "2023-06-16T13:10:25.850603Z",
     "start_time": "2023-06-16T13:10:25.848340Z"
    }
   },
   "outputs": [],
   "source": [
    "class NoSuchShapeException(Exception):\n",
    "    pass\n",
    "\n",
    "class Geometry:\n",
    "    @staticmethod\n",
    "    def area(shape):\n",
    "        if isinstance(shape, Square):\n",
    "            return shape.side * shape.side\n",
    "        elif isinstance(shape, Rectangle):\n",
    "            return shape.height * shape.width\n",
    "        elif isinstance(shape, Circle):\n",
    "            return pi * shape.radius * shape.radius\n",
    "        else:\n",
    "            raise NoSuchShapeException(\"No such shape\")\n",
    "            \n",
    "    def perimeter(shape):\n",
    "        if isinstance(shape, Square):\n",
    "            return 4 * shape.side\n",
    "        elif isinstance(shape, Rectangle):\n",
    "            return 2 * shape.height + 2 * shape.width\n",
    "        elif isinstance(shape, Circle):\n",
    "            return 2 * pi * shape.radius\n",
    "        else:\n",
    "            raise NoSuchShapeException(\"No such shape\")"
   ]
  },
  {
   "cell_type": "code",
   "execution_count": 33,
   "id": "06d5e53f",
   "metadata": {
    "ExecuteTime": {
     "end_time": "2023-06-16T13:10:25.853227Z",
     "start_time": "2023-06-16T13:10:25.851355Z"
    }
   },
   "outputs": [
    {
     "name": "stdout",
     "output_type": "stream",
     "text": [
      "Square Perimeter is: 40\n",
      "Circle Perimeter is: 62.83\n"
     ]
    }
   ],
   "source": [
    "square = Square(0, 0, 10)\n",
    "circle = Circle(0, 0, 10)\n",
    "\n",
    "print(f'Square Perimeter is: {Geometry.perimeter(square)}')\n",
    "print(f'Circle Perimeter is: {Geometry.perimeter(circle):.2f}')"
   ]
  },
  {
   "cell_type": "markdown",
   "id": "94268637",
   "metadata": {},
   "source": [
    "#### The Object-Oriented Approach"
   ]
  },
  {
   "cell_type": "markdown",
   "id": "22af8a69",
   "metadata": {},
   "source": [
    "##### Object-Oriented Code"
   ]
  },
  {
   "cell_type": "code",
   "execution_count": 34,
   "id": "4b9330cb",
   "metadata": {
    "ExecuteTime": {
     "end_time": "2023-06-16T13:10:25.856950Z",
     "start_time": "2023-06-16T13:10:25.854119Z"
    }
   },
   "outputs": [],
   "source": [
    "class Point:\n",
    "    def __init__(self, x, y):\n",
    "        self.x = x\n",
    "        self.y = y\n",
    "\n",
    "class Shape(ABC):\n",
    "    @abstractmethod\n",
    "    def area(self):\n",
    "        pass\n",
    "\n",
    "class Square(Shape):\n",
    "    def __init__(self, x, y, side):\n",
    "        self.topLeft = Point(x, y)\n",
    "        self.side = side\n",
    "\n",
    "    def area(self):\n",
    "        return self.side * self.side\n",
    "\n",
    "class Rectangle(Shape):\n",
    "    def __init__(self, x, y, height, width):\n",
    "        self.topLeft = Point(x, y)\n",
    "        self.height = height\n",
    "        self.width = width\n",
    "\n",
    "    def area(self):\n",
    "        return self.height * self.width\n",
    "\n",
    "class Circle(Shape):\n",
    "    def __init__(self, x, y, r):\n",
    "        self.center = Point(x, y)\n",
    "        self.radius = r\n",
    "\n",
    "    def area(self):\n",
    "        return pi * self.radius * self.radius"
   ]
  },
  {
   "cell_type": "code",
   "execution_count": 35,
   "id": "3b954128",
   "metadata": {
    "ExecuteTime": {
     "end_time": "2023-06-16T13:10:25.859356Z",
     "start_time": "2023-06-16T13:10:25.857758Z"
    }
   },
   "outputs": [
    {
     "name": "stdout",
     "output_type": "stream",
     "text": [
      "Square Area is: 100\n",
      "Circle Area is: 314.16\n"
     ]
    }
   ],
   "source": [
    "square = Square(0, 0, 10)\n",
    "circle = Circle(0, 0, 10)\n",
    "\n",
    "print(f'Square Area is: {square.area()}')\n",
    "print(f'Circle Area is: {circle.area():.2f}')"
   ]
  },
  {
   "cell_type": "markdown",
   "id": "6590a493",
   "metadata": {},
   "source": [
    "##### Updated Code"
   ]
  },
  {
   "cell_type": "code",
   "execution_count": 36,
   "id": "725b7873",
   "metadata": {
    "ExecuteTime": {
     "end_time": "2023-06-16T13:10:25.863798Z",
     "start_time": "2023-06-16T13:10:25.860023Z"
    }
   },
   "outputs": [],
   "source": [
    "class Point:\n",
    "    def __init__(self, x, y):\n",
    "        self.x = x\n",
    "        self.y = y\n",
    "\n",
    "class Shape(ABC):\n",
    "    @abstractmethod\n",
    "    def area(self):\n",
    "        pass\n",
    "    @abstractmethod\n",
    "    def perimeter(self):\n",
    "        pass\n",
    "\n",
    "class Square(Shape):\n",
    "    def __init__(self, x, y, side):\n",
    "        self.topLeft = Point(x, y)\n",
    "        self.side = side\n",
    "\n",
    "    def area(self):\n",
    "        return self.side * self.side\n",
    "    \n",
    "    def perimeter(self):\n",
    "        return 4 * self.side\n",
    "\n",
    "class Rectangle(Shape):\n",
    "    def __init__(self, x, y, height, width):\n",
    "        self.topLeft = Point(x, y)\n",
    "        self.height = height\n",
    "        self.width = width\n",
    "\n",
    "    def area(self):\n",
    "        return self.height * self.width\n",
    "    \n",
    "    def perimeter(self):\n",
    "        return 2 * self.height + 2 * self.width\n",
    "\n",
    "class Circle(Shape):\n",
    "    def __init__(self, x, y, r):\n",
    "        self.center = Point(x, y)\n",
    "        self.radius = r\n",
    "\n",
    "    def area(self):\n",
    "        return pi * self.radius * self.radius\n",
    "    \n",
    "    def perimeter(self):\n",
    "        return 2 * pi * self.radius"
   ]
  },
  {
   "cell_type": "code",
   "execution_count": 37,
   "id": "57564e25",
   "metadata": {
    "ExecuteTime": {
     "end_time": "2023-06-16T13:10:25.866537Z",
     "start_time": "2023-06-16T13:10:25.864568Z"
    }
   },
   "outputs": [
    {
     "name": "stdout",
     "output_type": "stream",
     "text": [
      "Square Perimeter is: 40\n",
      "Circle Perimeter is: 62.83\n"
     ]
    }
   ],
   "source": [
    "square = Square(0, 0, 10)\n",
    "circle = Circle(0, 0, 10)\n",
    "\n",
    "print(f'Square Perimeter is: {square.perimeter()}')\n",
    "print(f'Circle Perimeter is: {circle.perimeter():.2f}')"
   ]
  },
  {
   "cell_type": "markdown",
   "id": "9cdf8f03",
   "metadata": {},
   "source": [
    "If a new `Shape` is added nothing needs to be modified.\n",
    "\n",
    "But if you add a new function, all `Shape` objects need to be modified."
   ]
  },
  {
   "cell_type": "markdown",
   "id": "03df62fa",
   "metadata": {},
   "source": [
    "##### Conclusion"
   ]
  },
  {
   "cell_type": "markdown",
   "id": "02c630e7",
   "metadata": {},
   "source": [
    "* ***Procedural code (code using data structures) makes it easy to add new functions without changing the existing data structures. Object-Oriented code makes it easy to add new classes without changing the existing functions.***\n",
    "\n",
    "* ***Procedural code makes it hard to add new data structures because all the functions must change. Object-Oriented code makes it hard to add new functions because all the classes must change.***"
   ]
  },
  {
   "cell_type": "markdown",
   "id": "bdca5f17",
   "metadata": {},
   "source": [
    "### The Law of Demeter"
   ]
  },
  {
   "cell_type": "markdown",
   "id": "06d707e3",
   "metadata": {},
   "source": [
    "A module should not know about the innards of the objects it manipulates.\n",
    "\n",
    "*The Law of Demeter says that:*\n",
    "\n",
    "- *A method `f` of a `class C` should only call the methods of these:*\n",
    "    - *`class C`*\n",
    "    - *An object created by `f`\n",
    "    - *An object passed as an argument to `f`*\n",
    "    - *An object held in an instance variable of `class C`*\n",
    "    \n",
    "***Talk to friends, not strangers.***"
   ]
  },
  {
   "cell_type": "markdown",
   "id": "c04841fd",
   "metadata": {},
   "source": [
    "### Train Wrecks"
   ]
  },
  {
   "cell_type": "markdown",
   "id": "82c6129e",
   "metadata": {},
   "source": [
    "#### Raw Code"
   ]
  },
  {
   "cell_type": "markdown",
   "id": "f3901114",
   "metadata": {
    "ExecuteTime": {
     "end_time": "2023-05-14T11:09:49.076322Z",
     "start_time": "2023-05-14T11:09:49.053663Z"
    }
   },
   "source": [
    "`output_dir = ctxt.get_options().get_scratch_dir().get_absolute_path()`"
   ]
  },
  {
   "cell_type": "markdown",
   "id": "bfa08da7",
   "metadata": {},
   "source": [
    "Chains of calls like this are generally considered to be sloppy style and should be avoided."
   ]
  },
  {
   "cell_type": "markdown",
   "id": "8f64abf4",
   "metadata": {},
   "source": [
    "#### Refactored Code"
   ]
  },
  {
   "cell_type": "markdown",
   "id": "81883847",
   "metadata": {},
   "source": [
    "`options = ctxt.get_options()`  \n",
    "`scratch_dir = options.get_scratch_dir()`  \n",
    "`output_dir = scratch_dir.get_absolute_path()`"
   ]
  },
  {
   "cell_type": "markdown",
   "id": "b25e2195",
   "metadata": {},
   "source": [
    "Still, the containing module knows that the `ctxt` object contains `options`, which contain `scratch_dir`, which contain `output_dir`, which is a lot of knowledge for a single function."
   ]
  },
  {
   "cell_type": "markdown",
   "id": "11efbe51",
   "metadata": {},
   "source": [
    "#### The Law of Demeter"
   ]
  },
  {
   "cell_type": "markdown",
   "id": "5f6edf4b",
   "metadata": {},
   "source": [
    "*The Law of Demeter* is violated in this snippet if `ctxt`, `options` and `scratch_dir` are objects themselves, because their internal structure should be hidden for higher level functions.\n",
    "\n",
    "Maybe the `ctxt`'s object information should be implemented as attributes.\n",
    "\n",
    "But if `ctxt`, `options` and `scratch_dir` are Data Structures with no behavior, then its natural that their internal structure is exposed, which doesn't violate *The Law of Demeter*."
   ]
  },
  {
   "cell_type": "markdown",
   "id": "4c104257",
   "metadata": {},
   "source": [
    "### Hybrids"
   ]
  },
  {
   "cell_type": "markdown",
   "id": "4316ccbc",
   "metadata": {},
   "source": [
    "Hybrid structures that are half objects and hald data structures. They are the worst of both worlds! Avoid them."
   ]
  },
  {
   "cell_type": "markdown",
   "id": "02c182e5",
   "metadata": {},
   "source": [
    "### Hiding Structure"
   ]
  },
  {
   "cell_type": "markdown",
   "id": "a8216078",
   "metadata": {},
   "source": [
    "If `ctxt`, `options` and `scratch_dir` are objects with real behavior one could be tempted to do:\n",
    "\n",
    "`output_dir = ctxt.get_absolute_path_of_scratch_dir_option()`\n",
    "\n",
    "But that approach, in essence would lead to an explosion of methods, where `ctxt` needs a method for each method of each of its attributes and so on...\n",
    "\n",
    "If `ctxt` is an object **we should be telling it to to something**, not asking about its internals.\n",
    "\n",
    "As the reason for obtaining `output_dir` path was to create a directory with that name, we could just tell the `ctxt` object to do that.\n",
    "\n",
    "`ctxt.create_scratch_file_stream(file_name)`"
   ]
  },
  {
   "cell_type": "markdown",
   "id": "ad9af91d",
   "metadata": {},
   "source": [
    "### Data Transfer Objects"
   ]
  },
  {
   "cell_type": "markdown",
   "id": "9e61fab7",
   "metadata": {},
   "source": [
    "The quintessential of a Data Structure class. A class with public variables and no functions.\n",
    "\n",
    "This is called a Data Transfer Object.\n",
    "\n",
    "Useful when communicating with databases or parsing messages from sockets.\n",
    "\n",
    "The *Bean* structure is practically the same, but with attributed approached with setters and getters."
   ]
  },
  {
   "cell_type": "markdown",
   "id": "260f3691",
   "metadata": {},
   "source": [
    "#### DTO Code"
   ]
  },
  {
   "cell_type": "code",
   "execution_count": 38,
   "id": "3bfa59cf",
   "metadata": {
    "ExecuteTime": {
     "end_time": "2023-06-16T13:10:25.869098Z",
     "start_time": "2023-06-16T13:10:25.867221Z"
    }
   },
   "outputs": [],
   "source": [
    "class Address:\n",
    "    def __init__(self, street, street_extra, city, state, zip_code):\n",
    "        self.street = street\n",
    "        self.street_extra = street_extra\n",
    "        self.city = city\n",
    "        self.state = state\n",
    "        self.zip_code = zip_code"
   ]
  },
  {
   "cell_type": "code",
   "execution_count": 39,
   "id": "3f59867d",
   "metadata": {
    "ExecuteTime": {
     "end_time": "2023-06-16T13:10:25.871916Z",
     "start_time": "2023-06-16T13:10:25.870039Z"
    }
   },
   "outputs": [
    {
     "name": "stdout",
     "output_type": "stream",
     "text": [
      "Address street is: street\n",
      "Address does have the city attribute!\n"
     ]
    }
   ],
   "source": [
    "address = Address('street', 'street_extra', 'city', 'state', 'zip_code')\n",
    "\n",
    "print(f'Address street is: {address.street}')\n",
    "if not hasattr(address, 'city'):\n",
    "    print('Address does not have the city attribute, it has been hidden!')\n",
    "else:\n",
    "    print('Address does have the city attribute!')"
   ]
  },
  {
   "cell_type": "markdown",
   "id": "fc1d33c9",
   "metadata": {},
   "source": [
    "#### Bean Code"
   ]
  },
  {
   "cell_type": "code",
   "execution_count": 40,
   "id": "07401380",
   "metadata": {
    "ExecuteTime": {
     "end_time": "2023-06-16T13:10:25.875160Z",
     "start_time": "2023-06-16T13:10:25.872793Z"
    }
   },
   "outputs": [],
   "source": [
    "class Address:\n",
    "    def __init__(self, street, street_extra, city, state, zip_code):\n",
    "        self.__street = street\n",
    "        self.__street_extra = street_extra\n",
    "        self.__city = city\n",
    "        self.__state = state\n",
    "        self.__zip_code = zip_code\n",
    "\n",
    "    def get_street(self):\n",
    "        return self.__street\n",
    "\n",
    "    def get_street_extra(self):\n",
    "        return self.__street_extra\n",
    "\n",
    "    def get_city(self):\n",
    "        return self.__city\n",
    "\n",
    "    def get_state(self):\n",
    "        return self.__state\n",
    "\n",
    "    def get_zip(self):\n",
    "        return self.__zip_code"
   ]
  },
  {
   "cell_type": "code",
   "execution_count": 41,
   "id": "53f2d82f",
   "metadata": {
    "ExecuteTime": {
     "end_time": "2023-06-16T13:10:25.877914Z",
     "start_time": "2023-06-16T13:10:25.876032Z"
    }
   },
   "outputs": [
    {
     "name": "stdout",
     "output_type": "stream",
     "text": [
      "Address street is: street\n",
      "Address does not have the city attribute, it has been hidden!\n"
     ]
    }
   ],
   "source": [
    "address = Address('street', 'street_extra', 'city', 'state', 'zip_code')\n",
    "\n",
    "print(f'Address street is: {address.get_street()}')\n",
    "if not (hasattr(address, 'city') or hasattr(address, '__city')):\n",
    "    print('Address does not have the city attribute, it has been hidden!')\n",
    "else:\n",
    "    print('Address does have the city attribute!')"
   ]
  },
  {
   "cell_type": "markdown",
   "id": "d08e8f49",
   "metadata": {},
   "source": [
    "### Active Record"
   ]
  },
  {
   "cell_type": "markdown",
   "id": "10066abe",
   "metadata": {},
   "source": [
    "Active Records are a special form of Data Transfer Objects. Data Structures with public, or *Bean*, accessed variables but with typical navigation methods like `save` and `find`.\n",
    "\n",
    "They usually end up having complex functions that enforce the needed standards, which creates a hybrid between a Data Structure and an Object.\n",
    "\n",
    "The solution is to treat Active Record as a Data Structure and create an Object that just instances Active Records, but applies all the complex functionality, as an object should."
   ]
  },
  {
   "cell_type": "markdown",
   "id": "75260a2a",
   "metadata": {},
   "source": [
    "### Conclusion"
   ]
  },
  {
   "cell_type": "markdown",
   "id": "64fffa83",
   "metadata": {},
   "source": [
    "Objects expose behavior and hide data. This makes it easy to add new kinds of objects without changing existing behaviors, but makes it hard to add new behaviors to existing objects.\n",
    "\n",
    "Data Structures expose data and have no significant behavior. This makes it easy to add new behaviors to existing data structures, but makes it hard to add new data structures to existing functions.\n",
    "\n",
    "Good software developers understand these issues without prejudice and choose the approach that is best for the jab at hand."
   ]
  },
  {
   "cell_type": "markdown",
   "id": "9a6e759e",
   "metadata": {},
   "source": [
    "## Error Handling"
   ]
  },
  {
   "cell_type": "markdown",
   "id": "c619b9a3",
   "metadata": {},
   "source": [
    "Things can go wrong, and when they do, its our responsability to make sure that our codes does what it needs to do."
   ]
  },
  {
   "cell_type": "markdown",
   "id": "b052146b",
   "metadata": {},
   "source": [
    "### Use Exceptions Rather Than Return Codes"
   ]
  },
  {
   "cell_type": "markdown",
   "id": "12c185bf",
   "metadata": {},
   "source": [
    "#### Raw Code"
   ]
  },
  {
   "cell_type": "code",
   "execution_count": 42,
   "id": "e29c2724",
   "metadata": {
    "ExecuteTime": {
     "end_time": "2023-06-16T13:10:25.880676Z",
     "start_time": "2023-06-16T13:10:25.878616Z"
    }
   },
   "outputs": [],
   "source": [
    "class DeviceController:\n",
    "    #...\n",
    "\n",
    "    def send_shut_down(self):\n",
    "        handle = self.get_handle(DEV1)  \n",
    "        if handle != DeviceHandle.INVALID: \n",
    "            self.retrieve_device_record(handle)\n",
    "            if self.record.get_status() != DEVICE_SUSPENDED: \n",
    "                self.pause_device(handle)\n",
    "                self.clear_device_work_queue(handle)\n",
    "                self.close_device(handle)\n",
    "            else:\n",
    "                self.logger.log(\"Device suspended. Unable to shut down\")\n",
    "        else:\n",
    "            self.logger.log(\"Invalid handle for: \" + str(DEV1))\n",
    "\n",
    "    #..."
   ]
  },
  {
   "cell_type": "markdown",
   "id": "b8dcba2d",
   "metadata": {},
   "source": [
    "This clutters the caller and forces it to verify for errors after the call, which is easy to forget."
   ]
  },
  {
   "cell_type": "markdown",
   "id": "d7bceb6d",
   "metadata": {},
   "source": [
    "#### Refactored Code"
   ]
  },
  {
   "cell_type": "code",
   "execution_count": 43,
   "id": "5b05d665",
   "metadata": {
    "ExecuteTime": {
     "end_time": "2023-06-16T13:10:25.883747Z",
     "start_time": "2023-06-16T13:10:25.881585Z"
    }
   },
   "outputs": [],
   "source": [
    "class DeviceController:\n",
    "    # ...\n",
    "\n",
    "    def send_shut_down(self):\n",
    "        try:\n",
    "            self.try_to_shut_down()\n",
    "        except DeviceShutDownError as e:  \n",
    "            self.logger.log(e) \n",
    "\n",
    "    def try_to_shut_down(self):\n",
    "        handle = self.get_handle(DEV1)  \n",
    "        record = self.retrieve_device_record(handle)\n",
    "        self.pause_device(handle)\n",
    "        self.clear_device_work_queue(handle)\n",
    "        self.close_device(handle)\n",
    "\n",
    "    def get_handle(self, dev_id):\n",
    "        # ...\n",
    "        raise DeviceShutDownError(\"Invalid handle for: \" + str(dev_id))\n",
    "        # ...\n",
    "\n",
    "    # ..."
   ]
  },
  {
   "cell_type": "markdown",
   "id": "63b9cb6d",
   "metadata": {},
   "source": [
    "### Write your Try-Catch-Finally Statement First"
   ]
  },
  {
   "cell_type": "markdown",
   "id": "72729089",
   "metadata": {},
   "source": [
    "This helps to define what the user of that code should expect, no matter what goes wrong with the code that is executed in the `try`.\n",
    "\n",
    "Try to write tests that force `Expcetions`, and then add behavior to your handler to satisfy your tests. This will lead you to build the transaction scope of the `try` block first and will help you maintain the transaction nature of the scope."
   ]
  },
  {
   "cell_type": "markdown",
   "id": "ef890091",
   "metadata": {},
   "source": [
    "### Use Unchecked Exceptions"
   ]
  },
  {
   "cell_type": "markdown",
   "id": "f538b8da",
   "metadata": {},
   "source": [
    "Old *Java* functionality that is almost deprecated and not implemented in most other languages.\n",
    "\n",
    "They can sometimes be useful if your are writing a critical libray: **You MUST catch them**.\n",
    "\n",
    "But in general application development the dependency costs outweight the benefits."
   ]
  },
  {
   "cell_type": "markdown",
   "id": "ccf05c82",
   "metadata": {},
   "source": [
    "### Provide Context with Exceptions"
   ]
  },
  {
   "cell_type": "markdown",
   "id": "00c9b449",
   "metadata": {},
   "source": [
    "Each `Exception` that you throw should provide enough context to determine the source and location of the error.\n",
    "\n",
    "Create informative messages, by mentioning the operation that failed and the type of failure, and pass them along."
   ]
  },
  {
   "cell_type": "markdown",
   "id": "c8415b77",
   "metadata": {},
   "source": [
    "### Define Exception Classes in Terms of a Caller's Needs"
   ]
  },
  {
   "cell_type": "markdown",
   "id": "fd3896af",
   "metadata": {},
   "source": [
    "There are many ways to classify errors, by source or by type, but the most important information is *How or where they are caught*."
   ]
  },
  {
   "cell_type": "markdown",
   "id": "a77cae57",
   "metadata": {},
   "source": [
    "#### Raw Code"
   ]
  },
  {
   "cell_type": "code",
   "execution_count": 44,
   "id": "a3044b4c",
   "metadata": {
    "ExecuteTime": {
     "end_time": "2023-06-16T13:10:25.886872Z",
     "start_time": "2023-06-16T13:10:25.884683Z"
    }
   },
   "outputs": [],
   "source": [
    "class ACMEport:\n",
    "    \n",
    "    def connect(self):\n",
    "        try:\n",
    "            port.open()\n",
    "        except DeviceResponseException as e: \n",
    "            self.report_port_error(e) \n",
    "            self.logger.log(\"Device response exception\", e) \n",
    "        except ATM1212UnlockedException as e:  \n",
    "            self.report_port_error(e)\n",
    "            self.logger.log(\"Unlock exception\", e)\n",
    "        except GMXError as e:  \n",
    "            self.report_port_error(e)\n",
    "            self.logger.log(\"Device response exception\")\n",
    "        finally:\n",
    "            # ...\n",
    "            pass"
   ]
  },
  {
   "cell_type": "markdown",
   "id": "c0710c8c",
   "metadata": {},
   "source": [
    "This codes handles each of the possible codes of an external library, creating many dependencies with external functionality."
   ]
  },
  {
   "cell_type": "markdown",
   "id": "f7933c53",
   "metadata": {},
   "source": [
    "#### Refactored Code"
   ]
  },
  {
   "cell_type": "code",
   "execution_count": 45,
   "id": "5de117cd",
   "metadata": {
    "ExecuteTime": {
     "end_time": "2023-06-16T13:10:25.890192Z",
     "start_time": "2023-06-16T13:10:25.887643Z"
    }
   },
   "outputs": [],
   "source": [
    "class LocalPort:\n",
    "    def __init__(self, port_number):\n",
    "        self.inner_port = ACMEPort(port_number)  \n",
    "\n",
    "    def open(self):\n",
    "        try:\n",
    "            self.inner_port.open()\n",
    "        except (DeviceResponseException, ATM1212UnlockedException, GMXError) as e:  \n",
    "            raise PortDeviceFailure(e) \n",
    "\n",
    "    # ...\n",
    "\n",
    "    \n",
    "class LocalPort:\n",
    "    def connect(self):\n",
    "        try:\n",
    "            port.open()\n",
    "        except PortDeviceFailure as e: \n",
    "            self.report_error(e)  \n",
    "            self.logger.log(e.message, e) \n",
    "        finally:\n",
    "            # ...\n",
    "            pass"
   ]
  },
  {
   "cell_type": "markdown",
   "id": "d28991ac",
   "metadata": {},
   "source": [
    "Here all the possible `Exceptions` of the external library are handled in a single wrapper of the public API. By doing this, dependecies are reduced and codes looks cleaner."
   ]
  },
  {
   "cell_type": "markdown",
   "id": "27bf2826",
   "metadata": {},
   "source": [
    "### Define the Normal Flow"
   ]
  },
  {
   "cell_type": "markdown",
   "id": "b6eaeea8",
   "metadata": {},
   "source": [
    "By following the previous advice, you'll have a clear distinction between the intended flow and the possibles error handling.\n",
    "\n",
    "But sometimes, there's a *Special Case* that needs to be handled. By recurring to the *Special Case Pattern*, create an object or configure a class to handle it. If you do, the client code doesn't need to deal with the exceptional behavior. And the behavior is encapsulated in the special case object."
   ]
  },
  {
   "cell_type": "markdown",
   "id": "d28558ba",
   "metadata": {},
   "source": [
    "### Don't Return Null/None"
   ]
  },
  {
   "cell_type": "markdown",
   "id": "f6023770",
   "metadata": {},
   "source": [
    "When we return `null` we are creating extra work and foisting problems upon our callers. Consider throwing an `Expcetion` or handling a *Special Case*."
   ]
  },
  {
   "cell_type": "markdown",
   "id": "146997fa",
   "metadata": {},
   "source": [
    "### Don't Pass Null/None"
   ]
  },
  {
   "cell_type": "markdown",
   "id": "68e77974",
   "metadata": {},
   "source": [
    "Returning `null` is bad, but passing `null` is worse. There is no good way that you can deal with it.\n",
    "\n",
    "The rational approach is to forbid passing `null` by default. If you do, you can code with the knowledge that a `null` means something went wrong."
   ]
  },
  {
   "cell_type": "markdown",
   "id": "f01a027c",
   "metadata": {},
   "source": [
    "### Conclusion"
   ]
  },
  {
   "cell_type": "markdown",
   "id": "29d44b09",
   "metadata": {},
   "source": [
    "Clean code is readable, but it must also be robust. These are not conflicting goals.\n",
    "\n",
    "By handling errors as a separate concern, we can keep our code clean and foster maintainability."
   ]
  },
  {
   "cell_type": "markdown",
   "id": "891aac6d",
   "metadata": {},
   "source": [
    "## Boundaries"
   ]
  },
  {
   "cell_type": "markdown",
   "id": "c0f7e672",
   "metadata": {},
   "source": [
    "### Using Third-Party Code"
   ]
  },
  {
   "cell_type": "markdown",
   "id": "6d12d4b2",
   "metadata": {},
   "source": [
    "Tension between the provided interface catering for a wide range of users, and the particular needs of the users.\n",
    "\n",
    "If you use Third-Party code, leave it encapsulated in a class, or close family of classes, and avoid passing it around. If the Third-Party code changes, you can adapt the classes where it was encapsulated and avoided the changes spreading around your code."
   ]
  },
  {
   "cell_type": "markdown",
   "id": "f9771e7a",
   "metadata": {},
   "source": [
    "### Exploring and Learning Boundaries"
   ]
  },
  {
   "cell_type": "markdown",
   "id": "2e91eb02",
   "metadata": {},
   "source": [
    "It's not our job to test the Third-Party code, but it may be in our best interest to write tests for the Third-Party code we use. Avoid long debugging sessions that come from misuse of that code and learn to use the Third-Party code by writing *learning tests*, controlled experiments that check our understanding of that API, focusing on what we want."
   ]
  },
  {
   "cell_type": "markdown",
   "id": "1f441841",
   "metadata": {},
   "source": [
    "### Learning `logging`"
   ]
  },
  {
   "cell_type": "markdown",
   "id": "62249680",
   "metadata": {},
   "source": [
    "We want to use Python's `logging` third party library to run the logging of our code, but we don't know how to do it.\n",
    "\n",
    "After a quick read of the documentation we want to implement it."
   ]
  },
  {
   "cell_type": "code",
   "execution_count": 46,
   "id": "591bcb80",
   "metadata": {
    "ExecuteTime": {
     "end_time": "2023-06-16T13:10:25.893104Z",
     "start_time": "2023-06-16T13:10:25.890945Z"
    }
   },
   "outputs": [],
   "source": [
    "import logging\n",
    "\n",
    "class TestLogging(unittest.TestCase):\n",
    "    \n",
    "    @patch('sys.stdout', new_callable=StringIO)\n",
    "    def test_log_create(self, mock_stdout):\n",
    "        \n",
    "        logger = logging.getLogger(\"MyLogger\")\n",
    "        logger.setLevel(logging.INFO)\n",
    "\n",
    "        logger.info(\"hello\")\n",
    "        \n",
    "        self.assertIn(\"hello\", mock_stdout.getvalue()) # Verify that the message was printed to console"
   ]
  },
  {
   "cell_type": "code",
   "execution_count": 47,
   "id": "14b62f3c",
   "metadata": {
    "ExecuteTime": {
     "end_time": "2023-06-16T13:10:25.898326Z",
     "start_time": "2023-06-16T13:10:25.893804Z"
    }
   },
   "outputs": [
    {
     "name": "stderr",
     "output_type": "stream",
     "text": [
      "F\n",
      "======================================================================\n",
      "FAIL: test_log_create (__main__.TestLogging)\n",
      "----------------------------------------------------------------------\n",
      "Traceback (most recent call last):\n",
      "  File \"/Library/Frameworks/Python.framework/Versions/3.10/lib/python3.10/unittest/mock.py\", line 1369, in patched\n",
      "    return func(*newargs, **newkeywargs)\n",
      "  File \"/var/folders/58/7w2smkbj0nj898x67b6w304h0000gn/T/ipykernel_43224/2000059249.py\", line 13, in test_log_create\n",
      "    self.assertIn(\"hello\", mock_stdout.getvalue()) # Verify that the message was printed to console\n",
      "AssertionError: 'hello' not found in ''\n",
      "\n",
      "----------------------------------------------------------------------\n",
      "Ran 1 test in 0.002s\n",
      "\n",
      "FAILED (failures=1)\n"
     ]
    },
    {
     "data": {
      "text/plain": [
       "<unittest.main.TestProgram at 0x11ce783a0>"
      ]
     },
     "execution_count": 47,
     "metadata": {},
     "output_type": "execute_result"
    }
   ],
   "source": [
    "# Run the tests\n",
    "unittest.main(argv=[''], exit=False)"
   ]
  },
  {
   "cell_type": "markdown",
   "id": "a91e9e3c",
   "metadata": {},
   "source": [
    "The test fails... We are correctly defining our `logger` but the output has not been printed to console.\n",
    "\n",
    "After searching for solutions for our problem we find that we are lacking a `ConsoleHandler`."
   ]
  },
  {
   "cell_type": "code",
   "execution_count": 48,
   "id": "437c08e3",
   "metadata": {
    "ExecuteTime": {
     "end_time": "2023-06-16T13:10:25.901136Z",
     "start_time": "2023-06-16T13:10:25.899187Z"
    }
   },
   "outputs": [],
   "source": [
    "class TestLogging(unittest.TestCase):\n",
    "    @patch('sys.stdout', new_callable=StringIO)\n",
    "    def test_log_add_handler(self, mock_stdout):\n",
    "        logger = logging.getLogger(\"MyLogger\")\n",
    "        logger.setLevel(logging.INFO)\n",
    "\n",
    "        console_handler = logging.StreamHandler()\n",
    "        logger.addHandler(console_handler)\n",
    "\n",
    "        logger.info(\"hello\")\n",
    "\n",
    "        self.assertIn(\"hello\", mock_stdout.getvalue()) # Verify that the message was printed to console"
   ]
  },
  {
   "cell_type": "code",
   "execution_count": 49,
   "id": "cf6a8665",
   "metadata": {
    "ExecuteTime": {
     "end_time": "2023-06-16T13:10:25.905877Z",
     "start_time": "2023-06-16T13:10:25.902263Z"
    }
   },
   "outputs": [
    {
     "name": "stderr",
     "output_type": "stream",
     "text": [
      "hello\n",
      "F\n",
      "======================================================================\n",
      "FAIL: test_log_add_handler (__main__.TestLogging)\n",
      "----------------------------------------------------------------------\n",
      "Traceback (most recent call last):\n",
      "  File \"/Library/Frameworks/Python.framework/Versions/3.10/lib/python3.10/unittest/mock.py\", line 1369, in patched\n",
      "    return func(*newargs, **newkeywargs)\n",
      "  File \"/var/folders/58/7w2smkbj0nj898x67b6w304h0000gn/T/ipykernel_43224/1340955493.py\", line 12, in test_log_add_handler\n",
      "    self.assertIn(\"hello\", mock_stdout.getvalue()) # Verify that the message was printed to console\n",
      "AssertionError: 'hello' not found in ''\n",
      "\n",
      "----------------------------------------------------------------------\n",
      "Ran 1 test in 0.001s\n",
      "\n",
      "FAILED (failures=1)\n"
     ]
    },
    {
     "data": {
      "text/plain": [
       "<unittest.main.TestProgram at 0x11ce79270>"
      ]
     },
     "execution_count": 49,
     "metadata": {},
     "output_type": "execute_result"
    }
   ],
   "source": [
    "# Run the tests\n",
    "unittest.main(argv=[''], exit=False)"
   ]
  },
  {
   "cell_type": "markdown",
   "id": "220f045e",
   "metadata": {},
   "source": [
    "It fails again... after searching again we find that we are lacking an `OutputStream`."
   ]
  },
  {
   "cell_type": "code",
   "execution_count": 50,
   "id": "8b76eace",
   "metadata": {
    "ExecuteTime": {
     "end_time": "2023-06-16T13:10:25.908800Z",
     "start_time": "2023-06-16T13:10:25.906665Z"
    }
   },
   "outputs": [],
   "source": [
    "class TestLogging(unittest.TestCase):\n",
    "    @patch('sys.stdout', new_callable=StringIO)\n",
    "    def test_log_add_handler(self, mock_stdout):\n",
    "        logger = logging.getLogger(\"MyLogger\")\n",
    "        logger.setLevel(logging.INFO)\n",
    "\n",
    "        # Remove all handlers\n",
    "        logger.handlers = []\n",
    "\n",
    "        # Add a handler (equivalent to an Appender in log4j) with a custom format\n",
    "        console_handler = logging.StreamHandler(sys.stdout)\n",
    "        formatter = logging.Formatter('%(levelname)s %(threadName)s %(message)s')\n",
    "        console_handler.setFormatter(formatter)\n",
    "        logger.addHandler(console_handler)\n",
    "\n",
    "        logger.info(\"hello\")\n",
    "\n",
    "        # Check that 'hello' is in the console output\n",
    "        self.assertIn(\"hello\", mock_stdout.getvalue())"
   ]
  },
  {
   "cell_type": "code",
   "execution_count": 51,
   "id": "1471592e",
   "metadata": {
    "ExecuteTime": {
     "end_time": "2023-06-16T13:10:25.912896Z",
     "start_time": "2023-06-16T13:10:25.909599Z"
    }
   },
   "outputs": [
    {
     "name": "stderr",
     "output_type": "stream",
     "text": [
      ".\n",
      "----------------------------------------------------------------------\n",
      "Ran 1 test in 0.001s\n",
      "\n",
      "OK\n"
     ]
    },
    {
     "data": {
      "text/plain": [
       "<unittest.main.TestProgram at 0x11cee4c40>"
      ]
     },
     "execution_count": 51,
     "metadata": {},
     "output_type": "execute_result"
    }
   ],
   "source": [
    "unittest.main(argv=[''], exit=False)"
   ]
  },
  {
   "cell_type": "markdown",
   "id": "1656eb98",
   "metadata": {},
   "source": [
    "From this iterative learning process we have ended up with a bunch of `unittests` what lead our learning and that will also helps us to maintain and test our code."
   ]
  },
  {
   "cell_type": "code",
   "execution_count": 52,
   "id": "ac7dc547",
   "metadata": {
    "ExecuteTime": {
     "end_time": "2023-06-16T13:10:25.917062Z",
     "start_time": "2023-06-16T13:10:25.913690Z"
    }
   },
   "outputs": [],
   "source": [
    "class LogTest(unittest.TestCase):\n",
    "    def setUp(self):\n",
    "        self.logger = logging.getLogger(\"logger\")\n",
    "        self.logger.setLevel(logging.INFO)\n",
    "        self.logger.handlers = []\n",
    "\n",
    "        # Remove all handlers from the root logger\n",
    "        logging.getLogger().handlers = []\n",
    "\n",
    "    @patch('sys.stdout', new_callable=StringIO)\n",
    "    def test_basic_logger(self, mock_stdout):\n",
    "        console_handler = logging.StreamHandler(sys.stdout)\n",
    "        self.logger.addHandler(console_handler)\n",
    "\n",
    "        self.logger.info(\"basicLogger\")\n",
    "\n",
    "        self.assertIn(\"basicLogger\", mock_stdout.getvalue())\n",
    "\n",
    "    @patch('sys.stdout', new_callable=StringIO)\n",
    "    def test_add_appender_with_stream(self, mock_stdout):\n",
    "        console_handler = logging.StreamHandler(sys.stdout)\n",
    "        formatter = logging.Formatter('%(levelname)s %(threadName)s %(message)s')\n",
    "        console_handler.setFormatter(formatter)\n",
    "        self.logger.addHandler(console_handler)\n",
    "\n",
    "        self.logger.info(\"addAppenderWithStream\")\n",
    "\n",
    "        self.assertIn(\"addAppenderWithStream\", mock_stdout.getvalue())\n",
    "\n",
    "    @patch('sys.stderr', new_callable=StringIO)\n",
    "    def test_add_appender_without_stream(self, mock_stderr):\n",
    "        console_handler = logging.StreamHandler()  # defaults to sys.stderr\n",
    "        formatter = logging.Formatter('%(levelname)s %(threadName)s %(message)s')\n",
    "        console_handler.setFormatter(formatter)\n",
    "        self.logger.addHandler(console_handler)\n",
    "\n",
    "        self.logger.info(\"addAppenderWithoutStream\")\n",
    "\n",
    "        self.assertIn(\"addAppenderWithoutStream\", mock_stderr.getvalue())"
   ]
  },
  {
   "cell_type": "code",
   "execution_count": 53,
   "id": "baed9686",
   "metadata": {
    "ExecuteTime": {
     "end_time": "2023-06-16T13:10:25.922438Z",
     "start_time": "2023-06-16T13:10:25.917849Z"
    }
   },
   "outputs": [
    {
     "name": "stderr",
     "output_type": "stream",
     "text": [
      "....\n",
      "----------------------------------------------------------------------\n",
      "Ran 4 tests in 0.002s\n",
      "\n",
      "OK\n"
     ]
    },
    {
     "data": {
      "text/plain": [
       "<unittest.main.TestProgram at 0x11cee7370>"
      ]
     },
     "execution_count": 53,
     "metadata": {},
     "output_type": "execute_result"
    }
   ],
   "source": [
    "# Run the tests\n",
    "unittest.main(argv=[''], exit=False)"
   ]
  },
  {
   "cell_type": "markdown",
   "id": "9e2248b1",
   "metadata": {},
   "source": [
    "### Learning Tests are Better than Free"
   ]
  },
  {
   "cell_type": "markdown",
   "id": "e4bbf886",
   "metadata": {},
   "source": [
    "*Learning tests* end up costing nothing. We had to learn the API anyway, and writing the tests was a good way to get that knowledge by being precise experiments that helped increase our understanding.\n",
    "\n",
    "And after the learning process, we are left with useful tests that we can apply in our code!\n",
    "\n",
    "By defining boundaries with the tests we make it much easier to debug and adapt to the Third-Party code changes."
   ]
  },
  {
   "cell_type": "markdown",
   "id": "48b98902",
   "metadata": {},
   "source": [
    "### Using Code That Does Not Yet Exists"
   ]
  },
  {
   "cell_type": "markdown",
   "id": "29b72ce1",
   "metadata": {},
   "source": [
    "When developing in teams, we might not yet know exactly the interface of what we are working with, an API that does not exist yet.\n",
    "\n",
    "To continue working, even without knowing the future API, you can define your own interface to encapsulate the yet-to-be API, and create the interface that you wish you had.\n",
    "\n",
    "Then you can pass your interface to the corresponding team and they can build from it, or you can just create an *Adapter* that merges yours with theirs, providing a single place to change when the API evolves and a good chokepoint for running `unittests`."
   ]
  },
  {
   "cell_type": "markdown",
   "id": "e95ad77b",
   "metadata": {},
   "source": [
    "### Clean Boundaries"
   ]
  },
  {
   "cell_type": "markdown",
   "id": "10aa8475",
   "metadata": {},
   "source": [
    "Good software designs accomodate change without huge investments and rework. When using Third-Party code, is better to take special care to protect our investment and make sure that future change is not too costly. \n",
    "\n",
    "Better keep the Third-Party code at the boundaries, and depend on what you control. \n",
    "\n",
    "We achieve this by having few and localized places that refer to it, with a *Wrapper* or an *Adapter* to interface between our code and their code."
   ]
  },
  {
   "cell_type": "markdown",
   "id": "d178c1fa",
   "metadata": {},
   "source": [
    "## Unit Tests"
   ]
  },
  {
   "cell_type": "markdown",
   "id": "f79bf203",
   "metadata": {},
   "source": [
    "Programming has come a long way and in the mad rush to add testing to the discipline, many programmers have missed some of the more subtle, and important, points of writing good tests."
   ]
  },
  {
   "cell_type": "markdown",
   "id": "fe93b010",
   "metadata": {},
   "source": [
    "### The Three Laws of TDD"
   ]
  },
  {
   "cell_type": "markdown",
   "id": "a83ad65c",
   "metadata": {},
   "source": [
    "* **First Law:** You may not write production code until you have written a failing unit test.\n",
    "* **Second Law:** You may not write more of a unit test than is sufficient to fail, and not compiling is failing.\n",
    "* **Third Law:** You may not write more production code than is sufficient to pass the currently failing test.\n",
    "\n",
    "The tests and the production code are written **together**, with the tests just seconds (or minutes) ahead of the production code.\n",
    "\n",
    "By working this way, we will write dozens of tests every day, hundreds of test every month and so on... they will virtually cover all of our production code and rival it in size, which can present a daunting management problem..."
   ]
  },
  {
   "cell_type": "markdown",
   "id": "eba889c1",
   "metadata": {},
   "source": [
    "### Keeping Tests Clean"
   ]
  },
  {
   "cell_type": "markdown",
   "id": "48aa16e3",
   "metadata": {},
   "source": [
    "Tests must change and adapt as the production code evolves, the dirtier the tests, the harder they are to change and the higher probability that you will just end up writing a new test, and the mess in the code will just make the tests harder to pass and harder to fix when they fail, turning tests into an increasing liability.\n",
    "\n",
    "Keeping your tests clean is the only way to make your *tests effort* don't fail.\n",
    "\n",
    "***Test code is just as important as production code.***"
   ]
  },
  {
   "cell_type": "markdown",
   "id": "dd394c46",
   "metadata": {},
   "source": [
    "### Tests Enable the -ilities"
   ]
  },
  {
   "cell_type": "markdown",
   "id": "22d19f08",
   "metadata": {},
   "source": [
    "If you don't keep tests clean you'll lose them, and without them you lose the support that makes you production code flexible.\n",
    "\n",
    "*If you have tests you do not fear making changes to the code!*\n",
    "\n",
    "The dirtier your tests, the dirtier your code becomes. Eventually you lose the tests, and your code rots."
   ]
  },
  {
   "cell_type": "markdown",
   "id": "f5cd151f",
   "metadata": {},
   "source": [
    "### Clean Tests"
   ]
  },
  {
   "cell_type": "markdown",
   "id": "dee95a4a",
   "metadata": {},
   "source": [
    "A clean test is based on *Readability, readability, and readability*. The need to be clear, simple and expressive."
   ]
  },
  {
   "cell_type": "markdown",
   "id": "b021b9bb",
   "metadata": {},
   "source": [
    "#### Raw Code"
   ]
  },
  {
   "cell_type": "code",
   "execution_count": 54,
   "id": "af8c5f9c",
   "metadata": {
    "ExecuteTime": {
     "end_time": "2023-06-16T13:10:25.927764Z",
     "start_time": "2023-06-16T13:10:25.923596Z"
    }
   },
   "outputs": [],
   "source": [
    "class TestPageHierarchy(unittest.TestCase):\n",
    "\n",
    "    def test_get_page_hierarchy_as_xml(self):\n",
    "        crawler.add_page(root, PathParser.parse(\"PageOne\"))\n",
    "        crawler.add_page(root, PathParser.parse(\"PageOne.ChildOne\"))\n",
    "        crawler.add_page(root, PathParser.parse(\"PageTwo\"))\n",
    "\n",
    "        request.set_resource(\"root\")\n",
    "        request.add_input(\"type\", \"pages\")\n",
    "\n",
    "        responder = SerializedPageResponder()\n",
    "        response = responder.make_response(FitNesseContext(root), request)\n",
    "\n",
    "        xml = response.get_content()\n",
    "\n",
    "        self.assertEqual(\"text/xml\", response.get_content_type())\n",
    "        self.assertIn(\"<name>PageOne</name>\", xml)\n",
    "        self.assertIn(\"<name>PageTwo</name>\", xml)\n",
    "        self.assertIn(\"<name>ChildOne</name>\", xml)\n",
    "\n",
    "    def test_get_page_hierarchy_as_xml_doesnt_contain_symbolic_links(self):\n",
    "        page_one = crawler.add_page(root, PathParser.parse(\"PageOne\"))\n",
    "        crawler.add_page(root, PathParser.parse(\"PageOne.ChildOne\"))\n",
    "        crawler.add_page(root, PathParser.parse(\"PageTwo\"))\n",
    "\n",
    "        data = page_one.get_data()\n",
    "        properties = data.get_properties()\n",
    "        sym_links = properties.set(SymbolicPage.PROPERTY_NAME)\n",
    "        sym_links.set(\"SymPage\", \"PageTwo\")\n",
    "\n",
    "        page_one.commit(data)\n",
    "\n",
    "        request.set_resource(\"root\")\n",
    "        request.add_input(\"type\", \"pages\")\n",
    "\n",
    "        responder = SerializedPageResponder()\n",
    "        response = responder.make_response(FitNesseContext(root), request)\n",
    "\n",
    "        xml = response.get_content()\n",
    "\n",
    "        self.assertEqual(\"text/xml\", response.get_content_type())\n",
    "        self.assertIn(\"<name>PageOne</name>\", xml)\n",
    "        self.assertIn(\"<name>PageTwo</name>\", xml)\n",
    "        self.assertIn(\"<name>ChildOne</name>\", xml)\n",
    "        self.assertNotIn(\"SymPage\", xml)\n",
    "\n",
    "    def test_get_data_as_html(self):\n",
    "        crawler.add_page(root, PathParser.parse(\"TestPageOne\"), \"test page\")\n",
    "\n",
    "        request.set_resource(\"TestPageOne\")\n",
    "        request.add_input(\"type\", \"data\")\n",
    "\n",
    "        responder = SerializedPageResponder()\n",
    "        response = responder.make_response(FitNesseContext(root), request)\n",
    "\n",
    "        xml = response.get_content()\n",
    "\n",
    "        self.assertEqual(\"text/xml\", response.get_content_type())\n",
    "        self.assertIn(\"test page\", xml)\n",
    "        self.assertIn(\"<Test\", xml)"
   ]
  },
  {
   "cell_type": "markdown",
   "id": "a0ec16bd",
   "metadata": {},
   "source": [
    "#### Clean Code"
   ]
  },
  {
   "cell_type": "code",
   "execution_count": 55,
   "id": "7a95c381",
   "metadata": {
    "ExecuteTime": {
     "end_time": "2023-06-16T13:10:25.931166Z",
     "start_time": "2023-06-16T13:10:25.928629Z"
    }
   },
   "outputs": [],
   "source": [
    "class TestPageHierarchy(unittest.TestCase):\n",
    "\n",
    "    def test_get_page_hierarchy_as_xml(self):\n",
    "        self.make_pages(\"PageOne\", \"PageOne.ChildOne\", \"PageTwo\")\n",
    "\n",
    "        self.submit_request(\"root\", \"type:pages\")\n",
    "\n",
    "        self.assert_response_is_xml()\n",
    "        self.assert_response_contains(\"<name>PageOne</name>\", \"<name>PageTwo</name>\", \"<name>ChildOne</name>\")\n",
    "\n",
    "    def test_symbolic_links_are_not_in_xml_page_hierarchy(self):\n",
    "        page = self.make_page(\"PageOne\")\n",
    "\n",
    "        self.make_pages(\"PageOne.ChildOne\", \"PageTwo\")\n",
    "\n",
    "        self.add_link_to(page, \"PageTwo\", \"SymPage\")\n",
    "\n",
    "        self.submit_request(\"root\", \"type:pages\")\n",
    "\n",
    "        self.assert_response_is_xml()\n",
    "        self.assert_response_contains(\"<name>PageOne</name>\", \"<name>PageTwo</name>\", \"<name>ChildOne</name>\")\n",
    "\n",
    "        self.assert_response_does_not_contain(\"SymPage\")\n",
    "\n",
    "    def test_get_data_as_xml(self):\n",
    "        self.make_page_with_content(\"TestPageOne\", \"test page\")\n",
    "\n",
    "        self.submit_request(\"TestPageOne\", \"type:data\")\n",
    "\n",
    "        self.assert_response_is_xml()\n",
    "        self.assert_response_contains(\"test page\", \"<Test\")"
   ]
  },
  {
   "cell_type": "markdown",
   "id": "f8c722cd",
   "metadata": {},
   "source": [
    "Clean Code does exactly the same thing, but it has been refactored to a more explanatory form, the majority of the annoying detail has been eliminated and now they are easier to read and understand."
   ]
  },
  {
   "cell_type": "markdown",
   "id": "2772a417",
   "metadata": {},
   "source": [
    "### Domain-specific Testing Language"
   ]
  },
  {
   "cell_type": "markdown",
   "id": "57dad349",
   "metadata": {},
   "source": [
    "Previous tests demonstrate the technique of building domain-specific language for your tests. Instead of using the APIs that programmers use directly, create functions that implement them and make the processes clearer and easier to read and understand."
   ]
  },
  {
   "cell_type": "markdown",
   "id": "06d59001",
   "metadata": {},
   "source": [
    "### A Dual Standard"
   ]
  },
  {
   "cell_type": "markdown",
   "id": "a88917f6",
   "metadata": {},
   "source": [
    "The production code and the tests code do have different standards. Test code must also be simple, succint, and expressive, but it doesn't need to be efficient as production code. Test and production environments have very different needs."
   ]
  },
  {
   "cell_type": "markdown",
   "id": "ec7e2d6d",
   "metadata": {},
   "source": [
    "#### Raw Code"
   ]
  },
  {
   "cell_type": "code",
   "execution_count": 56,
   "id": "1e124b74",
   "metadata": {
    "ExecuteTime": {
     "end_time": "2023-06-16T13:10:25.934199Z",
     "start_time": "2023-06-16T13:10:25.931989Z"
    }
   },
   "outputs": [],
   "source": [
    "class TestController(unittest.TestCase):\n",
    "\n",
    "    def test_turn_on_lo_temp_alarm_at_threshold(self):\n",
    "        hw.set_temp(WAY_TOO_COLD)\n",
    "        controller.tic()\n",
    "\n",
    "        self.assertTrue(hw.heater_state())\n",
    "        self.assertTrue(hw.blower_state())\n",
    "        self.assertFalse(hw.cooler_state())\n",
    "        self.assertFalse(hw.hi_temp_alarm())\n",
    "        self.assertTrue(hw.lo_temp_alarm())"
   ]
  },
  {
   "cell_type": "markdown",
   "id": "4d011e46",
   "metadata": {},
   "source": [
    "#### Clean Code"
   ]
  },
  {
   "cell_type": "code",
   "execution_count": 57,
   "id": "4f909b94",
   "metadata": {
    "ExecuteTime": {
     "end_time": "2023-06-16T13:10:25.936713Z",
     "start_time": "2023-06-16T13:10:25.935100Z"
    }
   },
   "outputs": [],
   "source": [
    "class TestController(unittest.TestCase):\n",
    "\n",
    "    def test_turn_on_lo_temp_alarm_at_threshold(self):\n",
    "        wayTooCold()\n",
    "        self.assertEqual(\"HBchL\", hw.get_state())"
   ]
  },
  {
   "cell_type": "markdown",
   "id": "2cab8ef7",
   "metadata": {},
   "source": [
    "By writing clear and expressive tests we can make explicit what we are testing for."
   ]
  },
  {
   "cell_type": "markdown",
   "id": "eb7d7b92",
   "metadata": {},
   "source": [
    "### One Assert per Test"
   ]
  },
  {
   "cell_type": "markdown",
   "id": "41afd4fd",
   "metadata": {},
   "source": [
    "This rule might seem draconian, but it means that any failed test leads to a direct solution of a problem that is easy to understand.\n",
    "\n",
    "If you are asserting for multiple things, better make multiple tests."
   ]
  },
  {
   "cell_type": "markdown",
   "id": "9e233bf3",
   "metadata": {},
   "source": [
    "### Single Concept per Test"
   ]
  },
  {
   "cell_type": "markdown",
   "id": "92bb89a7",
   "metadata": {},
   "source": [
    "Complementary to the *One Assert per Test* rule, we want to test a single concept per test."
   ]
  },
  {
   "cell_type": "markdown",
   "id": "61c62aaa",
   "metadata": {},
   "source": [
    "#### Raw Code"
   ]
  },
  {
   "cell_type": "code",
   "execution_count": 58,
   "id": "073e8d9c",
   "metadata": {
    "ExecuteTime": {
     "end_time": "2023-06-16T13:10:25.939708Z",
     "start_time": "2023-06-16T13:10:25.937581Z"
    }
   },
   "outputs": [],
   "source": [
    "def add_months(self, sourcedate, months):\n",
    "    month = sourcedate.month - 1 + months\n",
    "    year = sourcedate.year + month // 12\n",
    "    month = month % 12 + 1\n",
    "    day = min(sourcedate.day, [31,\n",
    "        29 if year%4==0 and (year%100!=0 or year%400==0) else 28,\n",
    "        31,30,31,30,31,31,30,31,30,31][month-1])\n",
    "    return datetime(year, month, day)"
   ]
  },
  {
   "cell_type": "code",
   "execution_count": 59,
   "id": "6f40a74e",
   "metadata": {
    "ExecuteTime": {
     "end_time": "2023-06-16T13:10:25.942826Z",
     "start_time": "2023-06-16T13:10:25.940538Z"
    }
   },
   "outputs": [],
   "source": [
    "class TestAddMonths(unittest.TestCase):\n",
    "\n",
    "    def test_add_months(self):\n",
    "        d1 = datetime(2004, 5, 31)\n",
    "\n",
    "        d2 = self.add_months(d1, 1)\n",
    "        self.assertEqual(30, d2.day)\n",
    "        self.assertEqual(6, d2.month)\n",
    "        self.assertEqual(2004, d2.year)\n",
    "\n",
    "        d3 = self.add_months(d1, 2)\n",
    "        self.assertEqual(31, d3.day)\n",
    "        self.assertEqual(7, d3.month)\n",
    "        self.assertEqual(2004, d3.year)\n",
    "\n",
    "        d4 = self.add_months(self.add_months(d1, 1), 1)\n",
    "        self.assertEqual(30, d4.day)\n",
    "        self.assertEqual(7, d4.month)\n",
    "        self.assertEqual(2004, d4.year)"
   ]
  },
  {
   "cell_type": "markdown",
   "id": "f90aa0bd",
   "metadata": {},
   "source": [
    "#### Clean Code"
   ]
  },
  {
   "cell_type": "code",
   "execution_count": 60,
   "id": "66d534e1",
   "metadata": {
    "ExecuteTime": {
     "end_time": "2023-06-16T13:10:25.946118Z",
     "start_time": "2023-06-16T13:10:25.943656Z"
    }
   },
   "outputs": [],
   "source": [
    "class TestAddMonths(unittest.TestCase):\n",
    "\n",
    "    def test_add_one_month_to_end_of_may(self):\n",
    "        d1 = datetime(2004, 5, 31)\n",
    "        d2 = self.add_months(d1, 1)\n",
    "        self.assertEqual(30, d2.day)\n",
    "        self.assertEqual(6, d2.month)\n",
    "        self.assertEqual(2004, d2.year)\n",
    "\n",
    "    def test_add_two_months_to_end_of_may(self):\n",
    "        d1 = datetime(2004, 5, 31)\n",
    "        d3 = self.add_months(d1, 2)\n",
    "        self.assertEqual(31, d3.day)\n",
    "        self.assertEqual(7, d3.month)\n",
    "        self.assertEqual(2004, d3.year)\n",
    "\n",
    "    def test_add_one_month_to_end_of_june(self):\n",
    "        d1 = datetime(2004, 6, 30)\n",
    "        d4 = self.add_months(d1, 1)\n",
    "        self.assertEqual(30, d4.day)\n",
    "        self.assertEqual(7, d4.month)\n",
    "        self.assertEqual(2004, d4.year)"
   ]
  },
  {
   "cell_type": "markdown",
   "id": "682315c3",
   "metadata": {},
   "source": [
    "### F.I.R.S.T"
   ]
  },
  {
   "cell_type": "markdown",
   "id": "fcb013bc",
   "metadata": {},
   "source": [
    "Clean tests follow five other rules that form this acronym.\n",
    "\n",
    "**Fast:** Tests should be fast and run quickly. If they run slow, you won't want to run them as often.\n",
    "\n",
    "**Independent:** Tests should not depend on each other, a test should not set up the conditions for the next. You need to be able to run them one by one on any order you want.\n",
    "\n",
    "**Repeatable:** Tests should be repeatable independent of the environment, in production, in QA, and in Developing. Don't make excuses for why they fail.\n",
    "\n",
    "**Self-Validating:** Tests should have a boolean output. Either they pass or fail, no need for a log file that requires you to read in order to tell.\n",
    "\n",
    "**Timely:** Tests need to be written in a timely fashion. Unit tests should be written *just* before the production code that makes them pass *(TDD)*."
   ]
  },
  {
   "cell_type": "markdown",
   "id": "e6186060",
   "metadata": {},
   "source": [
    "### Conclusion"
   ]
  },
  {
   "cell_type": "markdown",
   "id": "dda7a486",
   "metadata": {},
   "source": [
    "A whole book could be written about *Unit Tests*. They are as important for the health of a project as the production code is, and let you move with confidence when modifying your code.\n",
    "\n",
    "Keep them constantly clean, work to make them precise and succint and implement testing APIs that act as domain-specific language that help you when writing and reviewing them."
   ]
  },
  {
   "cell_type": "markdown",
   "id": "dd783897",
   "metadata": {},
   "source": [
    "## Classes"
   ]
  },
  {
   "cell_type": "markdown",
   "id": "abaaac52",
   "metadata": {},
   "source": [
    "So far we've reviewed how to write lines and blocks of code well, but for all the attention we put in, we still don't have claen code until we've paid attention to higher levels of code organization."
   ]
  },
  {
   "cell_type": "markdown",
   "id": "869d603d",
   "metadata": {},
   "source": [
    "### Classes Should be Small!"
   ]
  },
  {
   "cell_type": "markdown",
   "id": "532c1f1c",
   "metadata": {},
   "source": [
    "First rule is that classes should be small. Second rules is that they should be smaller than that.\n",
    "\n",
    "In functions it was the amount of lines that defined its size, with classes it is the amount of responsibilities that they have.\n",
    "\n",
    "The name should describe which responsibilities it fulfills. Starting with the class name is a good way to proceed, if we cannot derive a good specific name, it's probably to large."
   ]
  },
  {
   "cell_type": "markdown",
   "id": "13d5f8b2",
   "metadata": {},
   "source": [
    "### The Single Responsibility Principle"
   ]
  },
  {
   "cell_type": "markdown",
   "id": "7f8acda1",
   "metadata": {},
   "source": [
    "This principle states that a class or module should have one, and only one, reason to change.\n",
    "\n",
    "As functions do ***One Thing***, classes or modules should just ***One Reason to Change***. When writing classes that fulfill this premise, there's a much higher probability that they will be useful in other places and we reduce the complications derived from updating and maintaining the code.\n",
    "\n",
    "We want our systems to be composed of many small classes, not a few large ones. Each small class encapsulates a single responsibility, has a single reason to change, and collaborates with a few others to achieve the desired system behaviors."
   ]
  },
  {
   "cell_type": "markdown",
   "id": "101c57cd",
   "metadata": {},
   "source": [
    "### Cohesion"
   ]
  },
  {
   "cell_type": "markdown",
   "id": "35914371",
   "metadata": {},
   "source": [
    "Classes should have a small amount of instance variables. Each of the methods of a class should manipulate one or more of those variables. In general, the more variables a method manipulates the more cohesive the method is to its class.\n",
    "\n",
    "A class in which each variable is used by each method is maximally cohesive.\n",
    "\n",
    "It is obviously not possible, nor advisable, to create such a maximally cohesive class, but we would want cohesion to be high.\n",
    "\n",
    "When cohesion is high, the methods and variables of the class are co-dependent and work as a logical whole.\n",
    "\n",
    "This approach sometimes leads to a proliferation of instance variables that are used by a subset of methods. When this happens, is likely that there is at least one other class trying to emerge from the larger class."
   ]
  },
  {
   "cell_type": "markdown",
   "id": "5eff902c",
   "metadata": {},
   "source": [
    "### Maintaining Cohesion Results in Many Small Classes"
   ]
  },
  {
   "cell_type": "markdown",
   "id": "cf3a3dc1",
   "metadata": {},
   "source": [
    "Breaking large functions (or methods) into smaller functions often gives us the opportunity to split several smaller classes out as well. This gives our code a much more transparent and organized structure."
   ]
  },
  {
   "cell_type": "markdown",
   "id": "dce9935c",
   "metadata": {},
   "source": [
    "#### Raw Code"
   ]
  },
  {
   "cell_type": "code",
   "execution_count": 61,
   "id": "2550fd50",
   "metadata": {
    "ExecuteTime": {
     "end_time": "2023-06-16T13:10:25.955826Z",
     "start_time": "2023-06-16T13:10:25.946983Z"
    }
   },
   "outputs": [
    {
     "name": "stdout",
     "output_type": "stream",
     "text": [
      "The Prime Numbers --- Page 1\n",
      "\n",
      "         2       233       547       877\n",
      "         3       239       557       881\n",
      "         5       241       563       883\n",
      "         7       251       569       887\n",
      "        11       257       571       907\n",
      "        13       263       577       911\n",
      "        17       269       587       919\n",
      "        19       271       593       929\n",
      "        23       277       599       937\n",
      "        29       281       601       941\n",
      "        31       283       607       947\n",
      "        37       293       613       953\n",
      "        41       307       617       967\n",
      "        43       311       619       971\n",
      "        47       313       631       977\n",
      "        53       317       641       983\n",
      "        59       331       643       991\n",
      "        61       337       647       997\n",
      "        67       347       653      1009\n",
      "        71       349       659      1013\n",
      "        73       353       661      1019\n",
      "        79       359       673      1021\n",
      "        83       367       677      1031\n",
      "        89       373       683      1033\n",
      "        97       379       691      1039\n",
      "       101       383       701      1049\n",
      "       103       389       709      1051\n",
      "       107       397       719      1061\n",
      "       109       401       727      1063\n",
      "       113       409       733      1069\n",
      "       127       419       739      1087\n",
      "       131       421       743      1091\n",
      "       137       431       751      1093\n",
      "       139       433       757      1097\n",
      "       149       439       761      1103\n",
      "       151       443       769      1109\n",
      "       157       449       773      1117\n",
      "       163       457       787      1123\n",
      "       167       461       797      1129\n",
      "       173       463       809      1151\n",
      "       179       467       811      1153\n",
      "       181       479       821      1163\n",
      "       191       487       823      1171\n",
      "       193       491       827      1181\n",
      "       197       499       829      1187\n",
      "       199       503       839      1193\n",
      "       211       509       853      1201\n",
      "       223       521       857      1213\n",
      "       227       523       859      1217\n",
      "       229       541       863      1223\n",
      "\f",
      "\n",
      "The Prime Numbers --- Page 2\n",
      "\n",
      "      1229      1597      1993      2371\n",
      "      1231      1601      1997      2377\n",
      "      1237      1607      1999      2381\n",
      "      1249      1609      2003      2383\n",
      "      1259      1613      2011      2389\n",
      "      1277      1619      2017      2393\n",
      "      1279      1621      2027      2399\n",
      "      1283      1627      2029      2411\n",
      "      1289      1637      2039      2417\n",
      "      1291      1657      2053      2423\n",
      "      1297      1663      2063      2437\n",
      "      1301      1667      2069      2441\n",
      "      1303      1669      2081      2447\n",
      "      1307      1693      2083      2459\n",
      "      1319      1697      2087      2467\n",
      "      1321      1699      2089      2473\n",
      "      1327      1709      2099      2477\n",
      "      1361      1721      2111      2503\n",
      "      1367      1723      2113      2521\n",
      "      1373      1733      2129      2531\n",
      "      1381      1741      2131      2539\n",
      "      1399      1747      2137      2543\n",
      "      1409      1753      2141      2549\n",
      "      1423      1759      2143      2551\n",
      "      1427      1777      2153      2557\n",
      "      1429      1783      2161      2579\n",
      "      1433      1787      2179      2591\n",
      "      1439      1789      2203      2593\n",
      "      1447      1801      2207      2609\n",
      "      1451      1811      2213      2617\n",
      "      1453      1823      2221      2621\n",
      "      1459      1831      2237      2633\n",
      "      1471      1847      2239      2647\n",
      "      1481      1861      2243      2657\n",
      "      1483      1867      2251      2659\n",
      "      1487      1871      2267      2663\n",
      "      1489      1873      2269      2671\n",
      "      1493      1877      2273      2677\n",
      "      1499      1879      2281      2683\n",
      "      1511      1889      2287      2687\n",
      "      1523      1901      2293      2689\n",
      "      1531      1907      2297      2693\n",
      "      1543      1913      2309      2699\n",
      "      1549      1931      2311      2707\n",
      "      1553      1933      2333      2711\n",
      "      1559      1949      2339      2713\n",
      "      1567      1951      2341      2719\n",
      "      1571      1973      2347      2729\n",
      "      1579      1979      2351      2731\n",
      "      1583      1987      2357      2741\n",
      "\f",
      "\n",
      "The Prime Numbers --- Page 3\n",
      "\n",
      "      2749      3187      3581      4001\n",
      "      2753      3191      3583      4003\n",
      "      2767      3203      3593      4007\n",
      "      2777      3209      3607      4013\n",
      "      2789      3217      3613      4019\n",
      "      2791      3221      3617      4021\n",
      "      2797      3229      3623      4027\n",
      "      2801      3251      3631      4049\n",
      "      2803      3253      3637      4051\n",
      "      2819      3257      3643      4057\n",
      "      2833      3259      3659      4073\n",
      "      2837      3271      3671      4079\n",
      "      2843      3299      3673      4091\n",
      "      2851      3301      3677      4093\n",
      "      2857      3307      3691      4099\n",
      "      2861      3313      3697      4111\n",
      "      2879      3319      3701      4127\n",
      "      2887      3323      3709      4129\n",
      "      2897      3329      3719      4133\n",
      "      2903      3331      3727      4139\n",
      "      2909      3343      3733      4153\n",
      "      2917      3347      3739      4157\n",
      "      2927      3359      3761      4159\n",
      "      2939      3361      3767      4177\n",
      "      2953      3371      3769      4201\n",
      "      2957      3373      3779      4211\n",
      "      2963      3389      3793      4217\n",
      "      2969      3391      3797      4219\n",
      "      2971      3407      3803      4229\n",
      "      2999      3413      3821      4231\n",
      "      3001      3433      3823      4241\n",
      "      3011      3449      3833      4243\n",
      "      3019      3457      3847      4253\n",
      "      3023      3461      3851      4259\n",
      "      3037      3463      3853      4261\n",
      "      3041      3467      3863      4271\n",
      "      3049      3469      3877      4273\n",
      "      3061      3491      3881      4283\n",
      "      3067      3499      3889      4289\n",
      "      3079      3511      3907      4297\n",
      "      3083      3517      3911      4327\n",
      "      3089      3527      3917      4337\n",
      "      3109      3529      3919      4339\n",
      "      3119      3533      3923      4349\n",
      "      3121      3539      3929      4357\n",
      "      3137      3541      3931      4363\n",
      "      3163      3547      3943      4373\n",
      "      3167      3557      3947      4391\n",
      "      3169      3559      3967      4397\n",
      "      3181      3571      3989      4409\n",
      "\f",
      "\n",
      "The Prime Numbers --- Page 4\n",
      "\n",
      "      4421      4861      5281      5701\n",
      "      4423      4871      5297      5711\n",
      "      4441      4877      5303      5717\n",
      "      4447      4889      5309      5737\n",
      "      4451      4903      5323      5741\n",
      "      4457      4909      5333      5743\n",
      "      4463      4919      5347      5749\n",
      "      4481      4931      5351      5779\n",
      "      4483      4933      5381      5783\n",
      "      4493      4937      5387      5791\n",
      "      4507      4943      5393      5801\n",
      "      4513      4951      5399      5807\n",
      "      4517      4957      5407      5813\n",
      "      4519      4967      5413      5821\n",
      "      4523      4969      5417      5827\n",
      "      4547      4973      5419      5839\n",
      "      4549      4987      5431      5843\n",
      "      4561      4993      5437      5849\n",
      "      4567      4999      5441      5851\n",
      "      4583      5003      5443      5857\n",
      "      4591      5009      5449      5861\n",
      "      4597      5011      5471      5867\n",
      "      4603      5021      5477      5869\n",
      "      4621      5023      5479      5879\n",
      "      4637      5039      5483      5881\n",
      "      4639      5051      5501      5897\n",
      "      4643      5059      5503      5903\n",
      "      4649      5077      5507      5923\n",
      "      4651      5081      5519      5927\n",
      "      4657      5087      5521      5939\n",
      "      4663      5099      5527      5953\n",
      "      4673      5101      5531      5981\n",
      "      4679      5107      5557      5987\n",
      "      4691      5113      5563      6007\n",
      "      4703      5119      5569      6011\n",
      "      4721      5147      5573      6029\n",
      "      4723      5153      5581      6037\n",
      "      4729      5167      5591      6043\n",
      "      4733      5171      5623      6047\n",
      "      4751      5179      5639      6053\n",
      "      4759      5189      5641      6067\n",
      "      4783      5197      5647      6073\n",
      "      4787      5209      5651      6079\n",
      "      4789      5227      5653      6089\n",
      "      4793      5231      5657      6091\n",
      "      4799      5233      5659      6101\n",
      "      4801      5237      5669      6113\n",
      "      4813      5261      5683      6121\n",
      "      4817      5273      5689      6131\n",
      "      4831      5279      5693      6133\n",
      "\f",
      "\n",
      "The Prime Numbers --- Page 5\n",
      "\n",
      "      6143      6577      7001      7507\n",
      "      6151      6581      7013      7517\n",
      "      6163      6599      7019      7523\n",
      "      6173      6607      7027      7529\n",
      "      6197      6619      7039      7537\n",
      "      6199      6637      7043      7541\n",
      "      6203      6653      7057      7547\n",
      "      6211      6659      7069      7549\n",
      "      6217      6661      7079      7559\n",
      "      6221      6673      7103      7561\n",
      "      6229      6679      7109      7573\n",
      "      6247      6689      7121      7577\n",
      "      6257      6691      7127      7583\n",
      "      6263      6701      7129      7589\n",
      "      6269      6703      7151      7591\n",
      "      6271      6709      7159      7603\n",
      "      6277      6719      7177      7607\n",
      "      6287      6733      7187      7621\n",
      "      6299      6737      7193      7639\n",
      "      6301      6761      7207      7643\n",
      "      6311      6763      7211      7649\n",
      "      6317      6779      7213      7669\n",
      "      6323      6781      7219      7673\n",
      "      6329      6791      7229      7681\n",
      "      6337      6793      7237      7687\n",
      "      6343      6803      7243      7691\n",
      "      6353      6823      7247      7699\n",
      "      6359      6827      7253      7703\n",
      "      6361      6829      7283      7717\n",
      "      6367      6833      7297      7723\n",
      "      6373      6841      7307      7727\n",
      "      6379      6857      7309      7741\n",
      "      6389      6863      7321      7753\n",
      "      6397      6869      7331      7757\n",
      "      6421      6871      7333      7759\n",
      "      6427      6883      7349      7789\n",
      "      6449      6899      7351      7793\n",
      "      6451      6907      7369      7817\n",
      "      6469      6911      7393      7823\n",
      "      6473      6917      7411      7829\n",
      "      6481      6947      7417      7841\n",
      "      6491      6949      7433      7853\n",
      "      6521      6959      7451      7867\n",
      "      6529      6961      7457      7873\n",
      "      6547      6967      7459      7877\n",
      "      6551      6971      7477      7879\n",
      "      6553      6977      7481      7883\n",
      "      6563      6983      7487      7901\n",
      "      6569      6991      7489      7907\n",
      "      6571      6997      7499      7919\n",
      "\f",
      "\n"
     ]
    }
   ],
   "source": [
    "class PrintPrimes:\n",
    "    def __init__(self):\n",
    "        self.M = 1000\n",
    "        self.RR = 50\n",
    "        self.CC = 4\n",
    "        self.ORDMAX = 30\n",
    "        self.P = [0] * (self.M + 1)\n",
    "        self.MULT = [0] * (self.ORDMAX + 1)\n",
    "\n",
    "    def print_primes(self):\n",
    "        J = 1\n",
    "        K = 1\n",
    "        self.P[1] = 2\n",
    "        ORD = 2\n",
    "        SQUARE = 9\n",
    "\n",
    "        while K < self.M:\n",
    "            J += 2\n",
    "            if J == SQUARE:\n",
    "                ORD += 1\n",
    "                SQUARE = self.P[ORD] * self.P[ORD]\n",
    "                self.MULT[ORD - 1] = J\n",
    "\n",
    "            N = 2\n",
    "            JPRIME = True\n",
    "\n",
    "            while N < ORD and JPRIME:\n",
    "                while self.MULT[N] < J:\n",
    "                    self.MULT[N] += self.P[N] + self.P[N]\n",
    "                if self.MULT[N] == J:\n",
    "                    JPRIME = False\n",
    "                N += 1\n",
    "\n",
    "            if JPRIME:\n",
    "                K += 1\n",
    "                self.P[K] = J\n",
    "\n",
    "        PAGENUMBER = 1\n",
    "        PAGEOFFSET = 1\n",
    "\n",
    "        while PAGEOFFSET <= self.M:\n",
    "            print(\"The Prime Numbers --- Page\", PAGENUMBER)\n",
    "            print()\n",
    "            for ROWOFFSET in range(PAGEOFFSET, PAGEOFFSET + self.RR):\n",
    "                for C in range(self.CC):\n",
    "                    if ROWOFFSET + C * self.RR <= self.M:\n",
    "                        print(f\"{self.P[ROWOFFSET + C * self.RR]:10}\", end='')\n",
    "                print()\n",
    "            print(\"\\f\")\n",
    "            PAGENUMBER += 1\n",
    "            PAGEOFFSET += self.RR * self.CC\n",
    "\n",
    "\n",
    "if __name__ == \"__main__\":\n",
    "    print_primes = PrintPrimes()\n",
    "    print_primes.print_primes()\n"
   ]
  },
  {
   "cell_type": "markdown",
   "id": "c7c94e6a",
   "metadata": {},
   "source": [
    "#### Clean Code"
   ]
  },
  {
   "cell_type": "markdown",
   "id": "95afa5b8",
   "metadata": {},
   "source": [
    "##### PrimePrinter"
   ]
  },
  {
   "cell_type": "code",
   "execution_count": 62,
   "id": "2db7b1aa",
   "metadata": {
    "ExecuteTime": {
     "end_time": "2023-06-16T13:10:25.958608Z",
     "start_time": "2023-06-16T13:10:25.956678Z"
    }
   },
   "outputs": [],
   "source": [
    "class PrimePrinter:\n",
    "    @staticmethod\n",
    "    def main():\n",
    "        NUMBER_OF_PRIMES = 1000\n",
    "        primes = PrimeGenerator.generate(NUMBER_OF_PRIMES)\n",
    "        ROWS_PER_PAGE = 50\n",
    "        COLUMNS_PER_PAGE = 4\n",
    "        table_printer = RowColumnPagePrinter(ROWS_PER_PAGE, COLUMNS_PER_PAGE, \n",
    "                                             \"The First \" + str(NUMBER_OF_PRIMES) + \" Prime Numbers\")\n",
    "        print(primes)\n",
    "        "
   ]
  },
  {
   "cell_type": "markdown",
   "id": "2b9af596",
   "metadata": {},
   "source": [
    "##### RowColumnPagePrinter"
   ]
  },
  {
   "cell_type": "code",
   "execution_count": 63,
   "id": "c87c4c04",
   "metadata": {
    "ExecuteTime": {
     "end_time": "2023-06-16T13:10:25.962672Z",
     "start_time": "2023-06-16T13:10:25.959446Z"
    }
   },
   "outputs": [],
   "source": [
    "class RowColumnPagePrinter:\n",
    "    def __init__(self, rows_per_page, columns_per_page, page_header):\n",
    "        self.rows_per_page = rows_per_page\n",
    "        self.columns_per_page = columns_per_page\n",
    "        self.page_header = page_header\n",
    "        self.numbers_per_page = rows_per_page * columns_per_page\n",
    "\n",
    "    def print_data(self, data):\n",
    "        page_number = 1\n",
    "        for first_index_on_page in range(0, len(data), self.numbers_per_page):\n",
    "            last_index_on_page = min(first_index_on_page + self.numbers_per_page - 1, len(data) - 1)\n",
    "            self.print_page_header(self.page_header, page_number)\n",
    "            self.print_page(first_index_on_page, last_index_on_page, data)\n",
    "            print(\"\\f\")\n",
    "            page_number += 1\n",
    "\n",
    "    def print_page(self, first_index_on_page, last_index_on_page, data):\n",
    "        first_index_of_last_row_on_page = first_index_on_page + self.rows_per_page - 1\n",
    "        for first_index_in_row in range(first_index_on_page, first_index_of_last_row_on_page + 1):\n",
    "            self.print_row(first_index_in_row, last_index_on_page, data)\n",
    "            print(\"\")\n",
    "\n",
    "    def print_row(self, first_index_in_row, last_index_on_page, data):\n",
    "        for column in range(0, self.columns_per_page):\n",
    "            index = first_index_in_row + column * self.rows_per_page\n",
    "            if index <= last_index_on_page:\n",
    "                print(\"{:10}\".format(data[index]), end=' ')\n",
    "\n",
    "    def print_page_header(self, page_header, page_number):\n",
    "        print(page_header + \" --- Page \" + str(page_number))\n",
    "        print(\"\")\n"
   ]
  },
  {
   "cell_type": "markdown",
   "id": "1ee453b1",
   "metadata": {},
   "source": [
    "##### PrimeGenerator"
   ]
  },
  {
   "cell_type": "code",
   "execution_count": 64,
   "id": "62cf8413",
   "metadata": {
    "ExecuteTime": {
     "end_time": "2023-06-16T13:10:25.967195Z",
     "start_time": "2023-06-16T13:10:25.963555Z"
    }
   },
   "outputs": [],
   "source": [
    "class PrimeGenerator:\n",
    "    def __init__(self):\n",
    "        self.primes = []\n",
    "        self.multiples_of_prime_factors = []\n",
    "\n",
    "    @staticmethod\n",
    "    def generate(n):\n",
    "        generator = PrimeGenerator()\n",
    "        generator.set_2_as_first_prime()\n",
    "        generator.check_odd_numbers_for_subsequent_primes(n)\n",
    "        return generator.primes\n",
    "\n",
    "    def set_2_as_first_prime(self):\n",
    "        self.primes.append(2)\n",
    "        self.multiples_of_prime_factors.append(2)\n",
    "\n",
    "    def check_odd_numbers_for_subsequent_primes(self, n):\n",
    "        candidate = 3\n",
    "        while len(self.primes) < n:\n",
    "            if self.is_prime(candidate):\n",
    "                self.primes.append(candidate)\n",
    "            candidate += 2\n",
    "\n",
    "    def is_prime(self, candidate):\n",
    "        if self.is_least_relevant_multiple_of_next_larger_prime_factor(candidate):\n",
    "            self.multiples_of_prime_factors.append(candidate)\n",
    "            return False\n",
    "        return self.is_not_multiple_of_any_previous_prime_factor(candidate)\n",
    "\n",
    "    def is_least_relevant_multiple_of_next_larger_prime_factor(self, candidate):\n",
    "        next_larger_prime_factor = self.primes[len(self.multiples_of_prime_factors)-1]\n",
    "        least_relevant_multiple = next_larger_prime_factor * next_larger_prime_factor\n",
    "        return candidate == least_relevant_multiple\n",
    "\n",
    "    def is_not_multiple_of_any_previous_prime_factor(self, candidate):\n",
    "        for n in range(1, len(self.multiples_of_prime_factors)):\n",
    "            if self.is_multiple_of_nth_prime_factor(candidate, n):\n",
    "                return False\n",
    "        return True\n",
    "\n",
    "    def is_multiple_of_nth_prime_factor(self, candidate, n):\n",
    "        return candidate == self.smallest_odd_nth_multiple_not_less_than_candidate(candidate, n)\n",
    "\n",
    "    def smallest_odd_nth_multiple_not_less_than_candidate(self, candidate, n):\n",
    "        multiple = self.multiples_of_prime_factors[n]\n",
    "        while multiple < candidate:\n",
    "            multiple += 2 * self.primes[n]\n",
    "        self.multiples_of_prime_factors[n] = multiple\n",
    "        return multiple\n"
   ]
  },
  {
   "cell_type": "code",
   "execution_count": 65,
   "id": "bfdf4da5",
   "metadata": {
    "ExecuteTime": {
     "end_time": "2023-06-16T13:10:25.970368Z",
     "start_time": "2023-06-16T13:10:25.968093Z"
    },
    "scrolled": true
   },
   "outputs": [
    {
     "name": "stdout",
     "output_type": "stream",
     "text": [
      "[2, 3, 5, 7, 9, 11, 13, 15, 17, 19, 21, 23, 25, 27, 29, 31, 33, 35, 37, 39, 41, 43, 45, 47, 49, 51, 53, 55, 57, 59, 61, 63, 65, 67, 69, 71, 73, 75, 77, 79, 81, 83, 85, 87, 89, 91, 93, 95, 97, 99, 101, 103, 105, 107, 109, 111, 113, 115, 117, 119, 121, 123, 125, 127, 129, 131, 133, 135, 137, 139, 141, 143, 145, 147, 149, 151, 153, 155, 157, 159, 161, 163, 165, 167, 169, 171, 173, 175, 177, 179, 181, 183, 185, 187, 189, 191, 193, 195, 197, 199, 201, 203, 205, 207, 209, 211, 213, 215, 217, 219, 221, 223, 225, 227, 229, 231, 233, 235, 237, 239, 241, 243, 245, 247, 249, 251, 253, 255, 257, 259, 261, 263, 265, 267, 269, 271, 273, 275, 277, 279, 281, 283, 285, 287, 289, 291, 293, 295, 297, 299, 301, 303, 305, 307, 309, 311, 313, 315, 317, 319, 321, 323, 325, 327, 329, 331, 333, 335, 337, 339, 341, 343, 345, 347, 349, 351, 353, 355, 357, 359, 361, 363, 365, 367, 369, 371, 373, 375, 377, 379, 381, 383, 385, 387, 389, 391, 393, 395, 397, 399, 401, 403, 405, 407, 409, 411, 413, 415, 417, 419, 421, 423, 425, 427, 429, 431, 433, 435, 437, 439, 441, 443, 445, 447, 449, 451, 453, 455, 457, 459, 461, 463, 465, 467, 469, 471, 473, 475, 477, 479, 481, 483, 485, 487, 489, 491, 493, 495, 497, 499, 501, 503, 505, 507, 509, 511, 513, 515, 517, 519, 521, 523, 525, 527, 529, 531, 533, 535, 537, 539, 541, 543, 545, 547, 549, 551, 553, 555, 557, 559, 561, 563, 565, 567, 569, 571, 573, 575, 577, 579, 581, 583, 585, 587, 589, 591, 593, 595, 597, 599, 601, 603, 605, 607, 609, 611, 613, 615, 617, 619, 621, 623, 625, 627, 629, 631, 633, 635, 637, 639, 641, 643, 645, 647, 649, 651, 653, 655, 657, 659, 661, 663, 665, 667, 669, 671, 673, 675, 677, 679, 681, 683, 685, 687, 689, 691, 693, 695, 697, 699, 701, 703, 705, 707, 709, 711, 713, 715, 717, 719, 721, 723, 725, 727, 729, 731, 733, 735, 737, 739, 741, 743, 745, 747, 749, 751, 753, 755, 757, 759, 761, 763, 765, 767, 769, 771, 773, 775, 777, 779, 781, 783, 785, 787, 789, 791, 793, 795, 797, 799, 801, 803, 805, 807, 809, 811, 813, 815, 817, 819, 821, 823, 825, 827, 829, 831, 833, 835, 837, 839, 841, 843, 845, 847, 849, 851, 853, 855, 857, 859, 861, 863, 865, 867, 869, 871, 873, 875, 877, 879, 881, 883, 885, 887, 889, 891, 893, 895, 897, 899, 901, 903, 905, 907, 909, 911, 913, 915, 917, 919, 921, 923, 925, 927, 929, 931, 933, 935, 937, 939, 941, 943, 945, 947, 949, 951, 953, 955, 957, 959, 961, 963, 965, 967, 969, 971, 973, 975, 977, 979, 981, 983, 985, 987, 989, 991, 993, 995, 997, 999, 1001, 1003, 1005, 1007, 1009, 1011, 1013, 1015, 1017, 1019, 1021, 1023, 1025, 1027, 1029, 1031, 1033, 1035, 1037, 1039, 1041, 1043, 1045, 1047, 1049, 1051, 1053, 1055, 1057, 1059, 1061, 1063, 1065, 1067, 1069, 1071, 1073, 1075, 1077, 1079, 1081, 1083, 1085, 1087, 1089, 1091, 1093, 1095, 1097, 1099, 1101, 1103, 1105, 1107, 1109, 1111, 1113, 1115, 1117, 1119, 1121, 1123, 1125, 1127, 1129, 1131, 1133, 1135, 1137, 1139, 1141, 1143, 1145, 1147, 1149, 1151, 1153, 1155, 1157, 1159, 1161, 1163, 1165, 1167, 1169, 1171, 1173, 1175, 1177, 1179, 1181, 1183, 1185, 1187, 1189, 1191, 1193, 1195, 1197, 1199, 1201, 1203, 1205, 1207, 1209, 1211, 1213, 1215, 1217, 1219, 1221, 1223, 1225, 1227, 1229, 1231, 1233, 1235, 1237, 1239, 1241, 1243, 1245, 1247, 1249, 1251, 1253, 1255, 1257, 1259, 1261, 1263, 1265, 1267, 1269, 1271, 1273, 1275, 1277, 1279, 1281, 1283, 1285, 1287, 1289, 1291, 1293, 1295, 1297, 1299, 1301, 1303, 1305, 1307, 1309, 1311, 1313, 1315, 1317, 1319, 1321, 1323, 1325, 1327, 1329, 1331, 1333, 1335, 1337, 1339, 1341, 1343, 1345, 1347, 1349, 1351, 1353, 1355, 1357, 1359, 1361, 1363, 1365, 1367, 1369, 1371, 1373, 1375, 1377, 1379, 1381, 1383, 1385, 1387, 1389, 1391, 1393, 1395, 1397, 1399, 1401, 1403, 1405, 1407, 1409, 1411, 1413, 1415, 1417, 1419, 1421, 1423, 1425, 1427, 1429, 1431, 1433, 1435, 1437, 1439, 1441, 1443, 1445, 1447, 1449, 1451, 1453, 1455, 1457, 1459, 1461, 1463, 1465, 1467, 1469, 1471, 1473, 1475, 1477, 1479, 1481, 1483, 1485, 1487, 1489, 1491, 1493, 1495, 1497, 1499, 1501, 1503, 1505, 1507, 1509, 1511, 1513, 1515, 1517, 1519, 1521, 1523, 1525, 1527, 1529, 1531, 1533, 1535, 1537, 1539, 1541, 1543, 1545, 1547, 1549, 1551, 1553, 1555, 1557, 1559, 1561, 1563, 1565, 1567, 1569, 1571, 1573, 1575, 1577, 1579, 1581, 1583, 1585, 1587, 1589, 1591, 1593, 1595, 1597, 1599, 1601, 1603, 1605, 1607, 1609, 1611, 1613, 1615, 1617, 1619, 1621, 1623, 1625, 1627, 1629, 1631, 1633, 1635, 1637, 1639, 1641, 1643, 1645, 1647, 1649, 1651, 1653, 1655, 1657, 1659, 1661, 1663, 1665, 1667, 1669, 1671, 1673, 1675, 1677, 1679, 1681, 1683, 1685, 1687, 1689, 1691, 1693, 1695, 1697, 1699, 1701, 1703, 1705, 1707, 1709, 1711, 1713, 1715, 1717, 1719, 1721, 1723, 1725, 1727, 1729, 1731, 1733, 1735, 1737, 1739, 1741, 1743, 1745, 1747, 1749, 1751, 1753, 1755, 1757, 1759, 1761, 1763, 1765, 1767, 1769, 1771, 1773, 1775, 1777, 1779, 1781, 1783, 1785, 1787, 1789, 1791, 1793, 1795, 1797, 1799, 1801, 1803, 1805, 1807, 1809, 1811, 1813, 1815, 1817, 1819, 1821, 1823, 1825, 1827, 1829, 1831, 1833, 1835, 1837, 1839, 1841, 1843, 1845, 1847, 1849, 1851, 1853, 1855, 1857, 1859, 1861, 1863, 1865, 1867, 1869, 1871, 1873, 1875, 1877, 1879, 1881, 1883, 1885, 1887, 1889, 1891, 1893, 1895, 1897, 1899, 1901, 1903, 1905, 1907, 1909, 1911, 1913, 1915, 1917, 1919, 1921, 1923, 1925, 1927, 1929, 1931, 1933, 1935, 1937, 1939, 1941, 1943, 1945, 1947, 1949, 1951, 1953, 1955, 1957, 1959, 1961, 1963, 1965, 1967, 1969, 1971, 1973, 1975, 1977, 1979, 1981, 1983, 1985, 1987, 1989, 1991, 1993, 1995, 1997, 1999]\n"
     ]
    }
   ],
   "source": [
    "PrimePrinter().main()"
   ]
  },
  {
   "cell_type": "markdown",
   "id": "2c9c5e9b",
   "metadata": {},
   "source": [
    "It is clear that the amount of code increased a lot. Longer and more descriptive variable names, more methods with clearer names that add context and information, and more classes with clearer and contained resposibilities.\n",
    "\n",
    "But the algorithm didn't change!"
   ]
  },
  {
   "cell_type": "markdown",
   "id": "d81b1528",
   "metadata": {},
   "source": [
    "### Organizing for Change"
   ]
  },
  {
   "cell_type": "markdown",
   "id": "c0098a8e",
   "metadata": {},
   "source": [
    "Change is continual and every change subjects us to the risk that the remainder of the system no longer work as intended. In a clean system, we organize our classes so as to reduce the risk of change."
   ]
  },
  {
   "cell_type": "markdown",
   "id": "f5dbae92",
   "metadata": {},
   "source": [
    "#### Raw Code"
   ]
  },
  {
   "cell_type": "code",
   "execution_count": 66,
   "id": "9c67a6b5",
   "metadata": {
    "ExecuteTime": {
     "end_time": "2023-06-16T13:10:25.973655Z",
     "start_time": "2023-06-16T13:10:25.971167Z"
    }
   },
   "outputs": [],
   "source": [
    "class Sql:\n",
    "    def __init__(self, table, columns):\n",
    "        pass\n",
    "\n",
    "    def create(self):\n",
    "        pass\n",
    "\n",
    "    def insert(self, fields):\n",
    "        pass\n",
    "\n",
    "    def select_all(self):\n",
    "        pass\n",
    "\n",
    "    def find_by_key(self, key_column, key_value):\n",
    "        pass\n",
    "\n",
    "    def select(self, column, pattern):\n",
    "        pass\n",
    "\n",
    "    def select_by_criteria(self, criteria):\n",
    "        pass\n",
    "\n",
    "    def prepared_insert(self):\n",
    "        pass\n",
    "\n",
    "    def _column_list(self, columns):\n",
    "        pass\n",
    "\n",
    "    def _values_list(self, fields, columns):\n",
    "        pass\n",
    "\n",
    "    def _select_with_criteria(self, criteria):\n",
    "        pass\n",
    "\n",
    "    def _placeholder_list(self, columns):\n",
    "        pass\n"
   ]
  },
  {
   "cell_type": "markdown",
   "id": "416c0aeb",
   "metadata": {},
   "source": [
    "#### Clean Code"
   ]
  },
  {
   "cell_type": "code",
   "execution_count": 67,
   "id": "9b507531",
   "metadata": {
    "ExecuteTime": {
     "end_time": "2023-06-16T13:10:25.978713Z",
     "start_time": "2023-06-16T13:10:25.974395Z"
    }
   },
   "outputs": [],
   "source": [
    "from abc import ABC, abstractmethod\n",
    "\n",
    "class Sql(ABC):\n",
    "    def __init__(self, table, columns):\n",
    "        pass\n",
    "\n",
    "    @abstractmethod\n",
    "    def generate(self):\n",
    "        pass\n",
    "\n",
    "class CreateSql(Sql):\n",
    "    def __init__(self, table, columns):\n",
    "        super().__init__(table, columns)\n",
    "\n",
    "    def generate(self):\n",
    "        pass\n",
    "\n",
    "class SelectSql(Sql):\n",
    "    def __init__(self, table, columns):\n",
    "        super().__init__(table, columns)\n",
    "\n",
    "    def generate(self):\n",
    "        pass\n",
    "\n",
    "class InsertSql(Sql):\n",
    "    def __init__(self, table, columns, fields):\n",
    "        super().__init__(table, columns)\n",
    "\n",
    "    def generate(self):\n",
    "        pass\n",
    "\n",
    "    def _values_list(self, fields, columns):\n",
    "        pass\n",
    "\n",
    "class SelectWithCriteriaSql(Sql):\n",
    "    def __init__(self, table, columns, criteria):\n",
    "        super().__init__(table, columns)\n",
    "\n",
    "    def generate(self):\n",
    "        pass\n",
    "\n",
    "class SelectWithMatchSql(Sql):\n",
    "    def __init__(self, table, columns, column, pattern):\n",
    "        super().__init__(table, columns)\n",
    "\n",
    "    def generate(self):\n",
    "        pass\n",
    "\n",
    "class FindByKeySql(Sql):\n",
    "    def __init__(self, table, columns, key_column, key_value):\n",
    "        super().__init__(table, columns)\n",
    "\n",
    "    def generate(self):\n",
    "        pass\n",
    "\n",
    "class PreparedInsertSql(Sql):\n",
    "    def __init__(self, table, columns):\n",
    "        super().__init__(table, columns)\n",
    "\n",
    "    def generate(self):\n",
    "        pass\n",
    "\n",
    "    def _placeholder_list(self, columns):\n",
    "        pass\n",
    "\n",
    "class Where:\n",
    "    def __init__(self, criteria):\n",
    "        pass\n",
    "\n",
    "    def generate(self):\n",
    "        pass\n",
    "\n",
    "class ColumnList:\n",
    "    def __init__(self, columns):\n",
    "        pass\n",
    "\n",
    "    def generate(self):\n",
    "        pass\n"
   ]
  },
  {
   "cell_type": "markdown",
   "id": "9918fdc1",
   "metadata": {},
   "source": [
    "The code in each class becomes extremely simple. The time required to understand what each is doing is almost zero and the risk that a function breaks another functions is extremely small. From a tests standpoint, it also becomes much easier to test.\n",
    "\n",
    "And most importantly, when we want to add new functionality, we just add another class! No need to modifiy, re-test and verify what we already have.\n",
    "\n",
    "In an ideal system, we incorporate changes by adding to the system, not by modifying it."
   ]
  },
  {
   "cell_type": "markdown",
   "id": "9b21d1a9",
   "metadata": {},
   "source": [
    "### Isolating from Change"
   ]
  },
  {
   "cell_type": "markdown",
   "id": "b1cef12b",
   "metadata": {},
   "source": [
    "Need will change, so code will change. We can implement interfaes and abstract clases to help isolate the impact of change.\n",
    "\n",
    "Use interfaces to avoid dependencies, allowing for tests that don't rely on the dependencies of our code.\n",
    "\n",
    "If a system is decoupled enough to be tested in this way, it will also be more flexible and promote reusability. Our classes would adhere to the Dependency Inversion Principle, by depending on abstractions, not on concrete details, and our objects would be isolated in the case that we would need to make future changes."
   ]
  },
  {
   "cell_type": "markdown",
   "id": "bf77b760",
   "metadata": {},
   "source": [
    "## Systems"
   ]
  },
  {
   "cell_type": "code",
   "execution_count": null,
   "id": "004ba4d9",
   "metadata": {},
   "outputs": [],
   "source": []
  },
  {
   "cell_type": "code",
   "execution_count": null,
   "id": "8bdd3833",
   "metadata": {},
   "outputs": [],
   "source": []
  },
  {
   "cell_type": "code",
   "execution_count": null,
   "id": "51f9daa0",
   "metadata": {},
   "outputs": [],
   "source": []
  },
  {
   "cell_type": "code",
   "execution_count": null,
   "id": "2717f8d0",
   "metadata": {},
   "outputs": [],
   "source": []
  },
  {
   "cell_type": "code",
   "execution_count": null,
   "id": "460c7294",
   "metadata": {},
   "outputs": [],
   "source": []
  },
  {
   "cell_type": "code",
   "execution_count": null,
   "id": "9a047a77",
   "metadata": {},
   "outputs": [],
   "source": []
  },
  {
   "cell_type": "code",
   "execution_count": null,
   "id": "c45a448c",
   "metadata": {},
   "outputs": [],
   "source": []
  },
  {
   "cell_type": "code",
   "execution_count": null,
   "id": "c14006f5",
   "metadata": {},
   "outputs": [],
   "source": []
  },
  {
   "cell_type": "code",
   "execution_count": null,
   "id": "0808a374",
   "metadata": {},
   "outputs": [],
   "source": []
  }
 ],
 "metadata": {
  "kernelspec": {
   "display_name": "todai",
   "language": "python",
   "name": "todai"
  },
  "language_info": {
   "codemirror_mode": {
    "name": "ipython",
    "version": 3
   },
   "file_extension": ".py",
   "mimetype": "text/x-python",
   "name": "python",
   "nbconvert_exporter": "python",
   "pygments_lexer": "ipython3",
   "version": "3.10.5"
  },
  "toc": {
   "base_numbering": 1,
   "nav_menu": {},
   "number_sections": true,
   "sideBar": true,
   "skip_h1_title": false,
   "title_cell": "Table of Contents",
   "title_sidebar": "Contents",
   "toc_cell": false,
   "toc_position": {
    "height": "calc(100% - 180px)",
    "left": "10px",
    "top": "150px",
    "width": "480px"
   },
   "toc_section_display": true,
   "toc_window_display": false
  }
 },
 "nbformat": 4,
 "nbformat_minor": 5
}
