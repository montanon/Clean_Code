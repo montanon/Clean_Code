{
 "cells": [
  {
   "cell_type": "code",
   "execution_count": null,
   "id": "1acd9630",
   "metadata": {
    "ExecuteTime": {
     "end_time": "2023-05-07T14:09:43.772128Z",
     "start_time": "2023-05-07T14:09:43.767614Z"
    }
   },
   "outputs": [],
   "source": [
    "import numpy as np\n",
    "import os\n",
    "import pandas as pd"
   ]
  },
  {
   "cell_type": "markdown",
   "id": "74c8b822",
   "metadata": {},
   "source": [
    "# Clean Code: A Handbook of Agile software Craftsmanship"
   ]
  },
  {
   "cell_type": "markdown",
   "id": "add8f52b",
   "metadata": {},
   "source": [
    "## Clean Code"
   ]
  },
  {
   "cell_type": "markdown",
   "id": "1062aea9",
   "metadata": {},
   "source": [
    "Elegant, efficient, straightforward, simple, direct, readable, minimal dependencies, clear, with care."
   ]
  },
  {
   "cell_type": "markdown",
   "id": "b3da21b9",
   "metadata": {},
   "source": [
    "## Meaningful Names"
   ]
  },
  {
   "cell_type": "markdown",
   "id": "0196294a",
   "metadata": {},
   "source": [
    "Variables, functions, arguments, classes, packages, source files, directories... We better do it well."
   ]
  },
  {
   "cell_type": "markdown",
   "id": "3a35da0d",
   "metadata": {},
   "source": [
    "### Intention-Revealing names:"
   ]
  },
  {
   "cell_type": "markdown",
   "id": "227ad207",
   "metadata": {},
   "source": [
    " - `d < elapsedTimeInDays`"
   ]
  },
  {
   "cell_type": "markdown",
   "id": "c90a28c5",
   "metadata": {},
   "source": [
    "#### Unclear Naming Code"
   ]
  },
  {
   "cell_type": "code",
   "execution_count": null,
   "id": "724ca290",
   "metadata": {
    "ExecuteTime": {
     "end_time": "2023-05-07T14:09:43.781425Z",
     "start_time": "2023-05-07T14:09:43.775605Z"
    }
   },
   "outputs": [],
   "source": [
    "def get_them(the_list):\n",
    "    list1 = []\n",
    "    for x in the_list:\n",
    "        if x[0] == 4:\n",
    "            list1.append(x)\n",
    "    return list1"
   ]
  },
  {
   "cell_type": "markdown",
   "id": "cae27ed5",
   "metadata": {},
   "source": [
    "#### Intention-Revealing Naming Code"
   ]
  },
  {
   "cell_type": "code",
   "execution_count": null,
   "id": "a71012fb",
   "metadata": {
    "ExecuteTime": {
     "end_time": "2023-05-07T14:09:43.787751Z",
     "start_time": "2023-05-07T14:09:43.784572Z"
    }
   },
   "outputs": [],
   "source": [
    "def get_flagged_cells(gameboard):\n",
    "    flaggedCells = []\n",
    "    for cell in gameboard:\n",
    "        if cell.isFlagged():\n",
    "            flaggedCells.append(cell)\n",
    "    return flaggedCells"
   ]
  },
  {
   "cell_type": "markdown",
   "id": "ba6cf956",
   "metadata": {},
   "source": [
    "### Make Meaningful Distinctios"
   ]
  },
  {
   "cell_type": "markdown",
   "id": "27ae087c",
   "metadata": {},
   "source": [
    "If names must be different, they should also mean something different. Distinguish names in such a way that the reader knows what the difference offers."
   ]
  },
  {
   "cell_type": "markdown",
   "id": "532c1001",
   "metadata": {},
   "source": [
    "#### Unclear Naming Code"
   ]
  },
  {
   "cell_type": "code",
   "execution_count": null,
   "id": "e1598dd6",
   "metadata": {
    "ExecuteTime": {
     "end_time": "2023-05-07T14:09:43.791370Z",
     "start_time": "2023-05-07T14:09:43.788995Z"
    }
   },
   "outputs": [],
   "source": [
    "def copy_chars(a1, a2):\n",
    "    for i in range(len(a1)):\n",
    "        a2[i] = a1[i]"
   ]
  },
  {
   "cell_type": "markdown",
   "id": "ee9bebe3",
   "metadata": {},
   "source": [
    "#### Meaningful Distinctions Code"
   ]
  },
  {
   "cell_type": "code",
   "execution_count": null,
   "id": "9f9740a8",
   "metadata": {
    "ExecuteTime": {
     "end_time": "2023-05-07T14:09:43.795932Z",
     "start_time": "2023-05-07T14:09:43.793953Z"
    }
   },
   "outputs": [],
   "source": [
    "def copy_chars(source, destination):\n",
    "    for i in range(len(source)):\n",
    "        destination[i] = source[i]"
   ]
  },
  {
   "cell_type": "markdown",
   "id": "6778fa0c",
   "metadata": {},
   "source": [
    "#### Examples"
   ]
  },
  {
   "cell_type": "markdown",
   "id": "46c12ac8",
   "metadata": {},
   "source": [
    "- `name > nameString`\n",
    "- `variable` should never appear in a variable name\n",
    "- `table` should never appear in a table name\n",
    "- `dataframe` should never appear in a dataframe name\n",
    "- `money == moneyAmount`, `customer == customerData`, `account == accountInfo`"
   ]
  },
  {
   "cell_type": "markdown",
   "id": "85454653",
   "metadata": {},
   "source": [
    "### Use Pronounceable Names"
   ]
  },
  {
   "cell_type": "markdown",
   "id": "25e1b9b5",
   "metadata": {},
   "source": [
    "#### Unclear Naming Code"
   ]
  },
  {
   "cell_type": "code",
   "execution_count": null,
   "id": "d7809ccb",
   "metadata": {
    "ExecuteTime": {
     "end_time": "2023-05-07T14:09:43.799139Z",
     "start_time": "2023-05-07T14:09:43.796990Z"
    }
   },
   "outputs": [],
   "source": [
    "class DtaRcrd102:\n",
    "    def __init__(data):\n",
    "        genymdhms = data[0]\n",
    "        modymdhms = data[1]\n",
    "        pszqint = '102'\n",
    "    # Blah Blah"
   ]
  },
  {
   "cell_type": "markdown",
   "id": "204ff0f3",
   "metadata": {},
   "source": [
    "#### Pronounceable Names Code"
   ]
  },
  {
   "cell_type": "code",
   "execution_count": null,
   "id": "348f2426",
   "metadata": {
    "ExecuteTime": {
     "end_time": "2023-05-07T14:09:43.802509Z",
     "start_time": "2023-05-07T14:09:43.800447Z"
    }
   },
   "outputs": [],
   "source": [
    "class Customer:\n",
    "    def __init__(data):\n",
    "        generationTimestamp = data[0]\n",
    "        modificationTimestamp = data[1]\n",
    "        recordId = '102'\n",
    "    # Blah Blah"
   ]
  },
  {
   "cell_type": "markdown",
   "id": "3cd98523",
   "metadata": {},
   "source": [
    "*Hey, Mikey, take a look at this record! the `generationTimestamp` is set to tomorrow's date! How can that be?*"
   ]
  },
  {
   "cell_type": "markdown",
   "id": "0add2a10",
   "metadata": {},
   "source": [
    "### Class Names"
   ]
  },
  {
   "cell_type": "markdown",
   "id": "cc981f0f",
   "metadata": {},
   "source": [
    "- Classes and Objects should have noun or noun phrase names:\n",
    "    - `Customer`, `WikiPage`, `Account`, `Data`, `Info`, ..."
   ]
  },
  {
   "cell_type": "markdown",
   "id": "c8234570",
   "metadata": {},
   "source": [
    "### Method Names"
   ]
  },
  {
   "cell_type": "markdown",
   "id": "78891a61",
   "metadata": {},
   "source": [
    "- Methods should have verb or verb phrase names:\n",
    "    - `postPayment`, `deletePage`, `save`, ..."
   ]
  },
  {
   "cell_type": "markdown",
   "id": "7d2eaa59",
   "metadata": {},
   "source": [
    "- Accessors, mutators, and predicates should be names for their value and prefixed with:\n",
    "    - `get_`, `set_`, `is_`, ..."
   ]
  },
  {
   "cell_type": "markdown",
   "id": "7f2178a6",
   "metadata": {},
   "source": [
    "#### Contructors as Enforcements:"
   ]
  },
  {
   "cell_type": "markdown",
   "id": "f197c43d",
   "metadata": {},
   "source": [
    "`fulcrumPoint = Complex.FromRealNumber(23.0)`\n",
    "\n",
    "is better than:\n",
    "\n",
    "`fulcrumPoints = Complex(23.0)`\n",
    "\n",
    "<font color='red'>Use can be enforced by setting constructors as private.</font>"
   ]
  },
  {
   "cell_type": "markdown",
   "id": "b7729062",
   "metadata": {},
   "source": [
    "### Pick One Word per Concept"
   ]
  },
  {
   "cell_type": "markdown",
   "id": "2022f0ad",
   "metadata": {},
   "source": [
    "- `fetch == retrieve == get`, pick one!\n",
    "- `controller == manager == driver`, pick one!"
   ]
  },
  {
   "cell_type": "markdown",
   "id": "94d95954",
   "metadata": {},
   "source": [
    "### Add Meaningful Context"
   ]
  },
  {
   "cell_type": "markdown",
   "id": "097250bf",
   "metadata": {},
   "source": [
    "#### Unclear Context Code"
   ]
  },
  {
   "cell_type": "code",
   "execution_count": null,
   "id": "e50787b0",
   "metadata": {
    "ExecuteTime": {
     "end_time": "2023-05-07T14:09:43.806344Z",
     "start_time": "2023-05-07T14:09:43.803752Z"
    }
   },
   "outputs": [],
   "source": [
    "def print_guess_statistics(candidate, count):\n",
    "    if count == 0:\n",
    "        number = 'no'\n",
    "        verb = 'are'\n",
    "        pluralModifier = 's'\n",
    "    elif count == 1:\n",
    "        number = '1'\n",
    "        verb = 'is'\n",
    "        pluralModifier = ''\n",
    "    else:\n",
    "        number = str(count)\n",
    "        verb = 'are'\n",
    "        pluralModifier = 's'\n",
    "    message = f'There {verb} {number} {candidate}{pluralModifier}'\n",
    "    print(message)"
   ]
  },
  {
   "cell_type": "markdown",
   "id": "ddeb183e",
   "metadata": {},
   "source": [
    "#### Meaningful Context Code"
   ]
  },
  {
   "cell_type": "code",
   "execution_count": null,
   "id": "07bfde69",
   "metadata": {
    "ExecuteTime": {
     "end_time": "2023-05-07T14:09:43.812006Z",
     "start_time": "2023-05-07T14:09:43.808202Z"
    }
   },
   "outputs": [],
   "source": [
    "class GuessStatisticsMessage:\n",
    "    \n",
    "    def make(self, candidate, count):\n",
    "        self.create_plural_dependent_message_parts(count)\n",
    "        return f'There {self.verb} {self.number} {candidate}{self.pluralModifier}'\n",
    "    \n",
    "    def create_plural_dependent_message_parts(self, count):\n",
    "        if count == 0:\n",
    "            self.there_are_no_letters()\n",
    "        elif count == 1:\n",
    "            self.there_is_one_letter()\n",
    "        else:\n",
    "            self.there_are_many_letters(count)\n",
    "            \n",
    "    def there_are_many_letters(self, count):\n",
    "        self.number = str(count)\n",
    "        self.verb = 'are'\n",
    "        self.pluralModifier = 's'\n",
    "        \n",
    "    def there_is_one_letter(self):\n",
    "        self.number = '1'\n",
    "        self.verb = 'is'\n",
    "        self.pluralModifier = ''\n",
    "        \n",
    "    def there_are_no_letters(self):\n",
    "        self.number = 'no'\n",
    "        selfverb = 'are'\n",
    "        self.pluralModifier = 's'\n",
    "    "
   ]
  },
  {
   "cell_type": "code",
   "execution_count": null,
   "id": "43a3152f",
   "metadata": {
    "ExecuteTime": {
     "end_time": "2023-05-07T14:09:43.815707Z",
     "start_time": "2023-05-07T14:09:43.813084Z"
    }
   },
   "outputs": [],
   "source": [
    "GuessStatisticsMessage().make('AAAA', 10)"
   ]
  },
  {
   "cell_type": "markdown",
   "id": "fe8fc3b0",
   "metadata": {},
   "source": [
    "### Others"
   ]
  },
  {
   "cell_type": "markdown",
   "id": "5a158bdd",
   "metadata": {},
   "source": [
    "- Avoid Disinformation/Misinformation\n",
    "- Use Searchable Names\n",
    "- Avoid Encodings\n",
    "- Avoid Mental Mapping\n",
    "- Don't be Cute\n",
    "- Don't Pun\n",
    "- Use Problem Domain Names\n",
    "- Don't Add Gratuitous Context\n",
    "- Rename if you can make it better"
   ]
  },
  {
   "cell_type": "markdown",
   "id": "24dacd95",
   "metadata": {},
   "source": [
    "## Functions"
   ]
  },
  {
   "cell_type": "markdown",
   "id": "a044e6ab",
   "metadata": {},
   "source": [
    "### Small!"
   ]
  },
  {
   "cell_type": "markdown",
   "id": "e045dad9",
   "metadata": {},
   "source": [
    "- Functions **NEED** to be small\n",
    "    - *Hardly ever bee 20 lines long*\n",
    "- Each should be transparently obvios\n",
    "- Avoid nested `if, else, while` statements\n",
    "- `if, else, while` conditions should be a single line long\n",
    "    - If they are complex, build a function for it\n"
   ]
  },
  {
   "cell_type": "markdown",
   "id": "749f034d",
   "metadata": {},
   "source": [
    "### Do One Thing"
   ]
  },
  {
   "cell_type": "markdown",
   "id": "5fcb4449",
   "metadata": {},
   "source": [
    "**Functions should do one thing. They should do it well. They should do it only.**\n",
    "\n",
    "It's hard to define what **One Thing**, but doing only things one *step* of abstraction below is a good guide.\n",
    "\n",
    "If you can extract another function from it with singular name, or if you can divide it into sections, your function is doing more than **One Thing**."
   ]
  },
  {
   "cell_type": "markdown",
   "id": "92ffe812",
   "metadata": {},
   "source": [
    "### One Level of Abstraction per Function"
   ]
  },
  {
   "cell_type": "markdown",
   "id": "bba50388",
   "metadata": {},
   "source": [
    "Make sure that all statements within your function are at the same level of abstraction."
   ]
  },
  {
   "cell_type": "markdown",
   "id": "4920e10d",
   "metadata": {},
   "source": [
    "### Reading Code from Top to Bottom: *The Stepdown* Rule"
   ]
  },
  {
   "cell_type": "markdown",
   "id": "9aff5929",
   "metadata": {},
   "source": [
    "Code should follow a **top-down** narrative. Every function should be followed by those at the next level of abstraction so that the program can be read descending one level of abstraction at a time."
   ]
  },
  {
   "cell_type": "markdown",
   "id": "2928416c",
   "metadata": {},
   "source": [
    "### Switch Statements (Conditional Mapping)"
   ]
  },
  {
   "cell_type": "markdown",
   "id": "c3dbaafe",
   "metadata": {},
   "source": [
    "#### Raw Code"
   ]
  },
  {
   "cell_type": "code",
   "execution_count": null,
   "id": "b705ceac",
   "metadata": {
    "ExecuteTime": {
     "end_time": "2023-05-07T14:09:43.819366Z",
     "start_time": "2023-05-07T14:09:43.816613Z"
    }
   },
   "outputs": [],
   "source": [
    "class InvalidEmployeeType(Exception):\n",
    "    def __init__(self, employee_type):\n",
    "        super().__init__(f\"Invalid employee type: {employee_type}\")\n",
    "\n",
    "def calculate_pay(e):\n",
    "    if e.type == \"COMMISSIONED\":\n",
    "        return calculate_commissioned_pay(e)\n",
    "    elif e.type == \"HOURLY\":\n",
    "        return calculate_hourly_pay(e)\n",
    "    elif e.type == \"SALARIED\":\n",
    "        return calculate_salaried_pay(e)\n",
    "    else:\n",
    "        raise InvalidEmployeeType(e.type)"
   ]
  },
  {
   "cell_type": "markdown",
   "id": "8cff3683",
   "metadata": {},
   "source": [
    "- Function is large\n",
    "- If new `EmployeeTypes` are added, the function must grow \n",
    "    - Violates *Open Closed Principle*\n",
    "- Does more than **One Thing**\n",
    "- Many functions in the codebase must be similar in order for this one to work"
   ]
  },
  {
   "cell_type": "markdown",
   "id": "acf6707a",
   "metadata": {},
   "source": [
    "#### Abstracted Code"
   ]
  },
  {
   "cell_type": "markdown",
   "id": "7d0a75b1",
   "metadata": {},
   "source": [
    "Solution is to bury the conditional mapping in to an abstract class (*Polymorphism*)."
   ]
  },
  {
   "cell_type": "code",
   "execution_count": null,
   "id": "e229b83a",
   "metadata": {
    "ExecuteTime": {
     "end_time": "2023-05-07T14:09:43.823215Z",
     "start_time": "2023-05-07T14:09:43.820240Z"
    }
   },
   "outputs": [],
   "source": [
    "from abc import ABC, abstractmethod\n",
    "\n",
    "class Employee(ABC):\n",
    "    @abstractmethod\n",
    "    def is_payday(self):\n",
    "        pass\n",
    "\n",
    "    @abstractmethod\n",
    "    def calculate_pay(self):\n",
    "        pass\n",
    "\n",
    "    @abstractmethod\n",
    "    def deliver_pay(self, pay):\n",
    "        pass\n",
    "\n",
    "class EmployeeFactory:\n",
    "    @abstractmethod\n",
    "    def make_employee(self, r):\n",
    "        pass\n",
    "\n",
    "class EmployeeFactoryImpl(EmployeeFactory):\n",
    "    def make_employee(self, r):\n",
    "        if r.type == \"COMMISSIONED\":\n",
    "            return CommissionedEmployee(r)\n",
    "        elif r.type == \"HOURLY\":\n",
    "            return HourlyEmployee(r)\n",
    "        elif r.type == \"SALARIED\":\n",
    "            return SalariedEmployee(r)\n",
    "        else:\n",
    "            raise InvalidEmployeeType(r.type)"
   ]
  },
  {
   "cell_type": "markdown",
   "id": "73ee3d97",
   "metadata": {},
   "source": [
    "### Use Descriptive Names"
   ]
  },
  {
   "cell_type": "markdown",
   "id": "9073c759",
   "metadata": {},
   "source": [
    "With **Single Responsability functions**, the name must clearly state what the function does.\n",
    "\n",
    "The smaller and more focused the function is, the easier it is to choose a descriptive name.\n",
    "\n",
    "Don't be afraid of making the name long, descriptive is better than short.\n",
    "\n",
    "Be consistent, use the same phrases, nouns, and verbs in the function names you choose for a module."
   ]
  },
  {
   "cell_type": "markdown",
   "id": "4a989104",
   "metadata": {},
   "source": [
    "### Function Arguments"
   ]
  },
  {
   "cell_type": "markdown",
   "id": "74e82aed",
   "metadata": {},
   "source": [
    "The ideal number of arguments for a function is zero, then one, then two. Three is hard to justify.\n",
    "\n",
    "This makes testing easier and easier to understand."
   ]
  },
  {
   "cell_type": "markdown",
   "id": "bf5255cf",
   "metadata": {},
   "source": [
    "### Common Monadic Forms"
   ]
  },
  {
   "cell_type": "markdown",
   "id": "6f5570ad",
   "metadata": {},
   "source": [
    "Two good reasons to pass a single argument are:\n",
    "\n",
    "- You may be asking a question about that argument: `os.path.exists(arg)`\n",
    "- You may be operating on that argument: `add_two(arg)`\n",
    "\n",
    "Both cases benefit for knowing what you are doing and to whom, which is much easier with a single argument."
   ]
  },
  {
   "cell_type": "markdown",
   "id": "6b808a34",
   "metadata": {},
   "source": [
    "### Flag Arguments"
   ]
  },
  {
   "cell_type": "markdown",
   "id": "b6e7b382",
   "metadata": {},
   "source": [
    "Passing `boolean` arguments to a function is a truly terrible practice. Complicates the signature of the method, and *SCREAMS* that the function is doing more than **One Thing**.\n",
    "\n",
    "Separate that function into two."
   ]
  },
  {
   "cell_type": "markdown",
   "id": "3fa9b00f",
   "metadata": {},
   "source": [
    "### Dyadic functions"
   ]
  },
  {
   "cell_type": "markdown",
   "id": "4917ad01",
   "metadata": {},
   "source": [
    "Dyads aren't evil, and are needed sometimes, but be aware that they come at a cost, and you should be aware of what mechanisms may be available to you to convert them into monads."
   ]
  },
  {
   "cell_type": "markdown",
   "id": "d90273df",
   "metadata": {},
   "source": [
    "### Triads"
   ]
  },
  {
   "cell_type": "markdown",
   "id": "9890918b",
   "metadata": {},
   "source": [
    "Three arguments are significantly harder to understand than dyads. Issues of ordering, pausing, and ingoring are more than doubled, so there should be careful consideration before writing one."
   ]
  },
  {
   "cell_type": "markdown",
   "id": "f2729068",
   "metadata": {},
   "source": [
    "### Argument Objects"
   ]
  },
  {
   "cell_type": "markdown",
   "id": "c6c3a287",
   "metadata": {},
   "source": [
    "When a function *Needs* more than two or three arguments, it is likely that some of those arguments ought to be wrapped in a class of their own."
   ]
  },
  {
   "cell_type": "markdown",
   "id": "e519fcc6",
   "metadata": {},
   "source": [
    "#### Multiple Arguments Code"
   ]
  },
  {
   "cell_type": "code",
   "execution_count": null,
   "id": "d3cd0faa",
   "metadata": {
    "ExecuteTime": {
     "end_time": "2023-05-07T14:09:43.827123Z",
     "start_time": "2023-05-07T14:09:43.825570Z"
    }
   },
   "outputs": [],
   "source": [
    "def make_circle(x, y, r):\n",
    "    pass"
   ]
  },
  {
   "cell_type": "markdown",
   "id": "16f8bbf9",
   "metadata": {},
   "source": [
    "#### Object Arguments Code"
   ]
  },
  {
   "cell_type": "code",
   "execution_count": null,
   "id": "ebf12df8",
   "metadata": {
    "ExecuteTime": {
     "end_time": "2023-05-07T14:09:43.829567Z",
     "start_time": "2023-05-07T14:09:43.828025Z"
    }
   },
   "outputs": [],
   "source": [
    "def make_circle(center, r):\n",
    "    pass"
   ]
  },
  {
   "cell_type": "markdown",
   "id": "46774871",
   "metadata": {},
   "source": [
    "Those arguments that are better turn into objects, usually are part of a concept that deserves a name of its own."
   ]
  },
  {
   "cell_type": "markdown",
   "id": "e77722dd",
   "metadata": {},
   "source": [
    "### Argument Lists"
   ]
  },
  {
   "cell_type": "markdown",
   "id": "5a638ac8",
   "metadata": {},
   "source": [
    "If the variable arguments are all treated identically, then they are equivalent to a single argument of type `List`."
   ]
  },
  {
   "cell_type": "markdown",
   "id": "b4ca1836",
   "metadata": {},
   "source": [
    "### Verbs and Keywords"
   ]
  },
  {
   "cell_type": "markdown",
   "id": "02bd5a54",
   "metadata": {},
   "source": [
    "In the case of mondas, function name should be a clear `verb(noun)` pair. By adding keywords, the name can be made even more explicit."
   ]
  },
  {
   "cell_type": "markdown",
   "id": "a6b864d3",
   "metadata": {},
   "source": [
    "### Have No Side Effects"
   ]
  },
  {
   "cell_type": "markdown",
   "id": "cb98a69a",
   "metadata": {},
   "source": [
    "Function must do **One Thing**, so it can't do other *Hidden Things* like make unexpected changes to the variables of its own class.\n",
    "\n",
    "This leads to strange temporal couplings and other dependencies."
   ]
  },
  {
   "cell_type": "markdown",
   "id": "1c170993",
   "metadata": {},
   "source": [
    "#### Raw Code"
   ]
  },
  {
   "cell_type": "code",
   "execution_count": null,
   "id": "f90ea940",
   "metadata": {
    "ExecuteTime": {
     "end_time": "2023-05-07T14:09:43.833008Z",
     "start_time": "2023-05-07T14:09:43.830476Z"
    }
   },
   "outputs": [],
   "source": [
    "class UserValidator:\n",
    "    def __init__(self, cryptographer):\n",
    "        self.cryptographer = cryptographer\n",
    "\n",
    "    def check_password(self, user_name, password):\n",
    "        user = UserGateway.find_by_name(user_name)\n",
    "        if user != User.NULL:\n",
    "            coded_phrase = user.get_phrase_encoded_by_password()\n",
    "            phrase = self.cryptographer.decrypt(coded_phrase, password)\n",
    "            if phrase == \"Valid Password\":\n",
    "                Session.initialize() # !!!!!\n",
    "                return True\n",
    "        return False"
   ]
  },
  {
   "cell_type": "markdown",
   "id": "a5d7df07",
   "metadata": {},
   "source": [
    "Functions does `Session.initialize()`, which is not clear in any way and breaks the fact that the function is supposed to do **One Thing** and creates a temporal coupling with the `Session` and the `check_password` method."
   ]
  },
  {
   "cell_type": "markdown",
   "id": "ca55bf7e",
   "metadata": {},
   "source": [
    "#### Refactored Code"
   ]
  },
  {
   "cell_type": "code",
   "execution_count": null,
   "id": "dcf1de81",
   "metadata": {
    "ExecuteTime": {
     "end_time": "2023-05-07T14:09:43.836119Z",
     "start_time": "2023-05-07T14:09:43.833907Z"
    }
   },
   "outputs": [],
   "source": [
    "class UserValidator:\n",
    "    def __init__(self, cryptographer):\n",
    "        self.cryptographer = cryptographer\n",
    "\n",
    "    def check_password_and_init_session(self, user_name, password):\n",
    "        user = UserGateway.find_by_name(user_name)\n",
    "        if user != User.NULL:\n",
    "            coded_phrase = user.get_phrase_encoded_by_password()\n",
    "            phrase = self.cryptographer.decrypt(coded_phrase, password)\n",
    "            if phrase == \"Valid Password\":\n",
    "                Session.initialize() # !!!!!\n",
    "                return True\n",
    "        return False"
   ]
  },
  {
   "cell_type": "markdown",
   "id": "4545dbc8",
   "metadata": {},
   "source": [
    "This makes it clear, though it still violates that a function can only do **One Thing**."
   ]
  },
  {
   "cell_type": "markdown",
   "id": "a3d0d64b",
   "metadata": {},
   "source": [
    "### Output Arguments"
   ]
  },
  {
   "cell_type": "markdown",
   "id": "6f4af150",
   "metadata": {},
   "source": [
    "Anything that forces you to check the function signature for its definition should be regarded as a double-take. A cognitive break and should be avoided.\n",
    "\n",
    "If a function **must** change the state of something, have it change the state of its owning object."
   ]
  },
  {
   "cell_type": "markdown",
   "id": "74f067af",
   "metadata": {},
   "source": [
    "### Command Query Separation"
   ]
  },
  {
   "cell_type": "markdown",
   "id": "451353ed",
   "metadata": {},
   "source": [
    "Functions should either **Do Something** or **Answer Something**, but not both.\n",
    "\n",
    "Either functions should **Change the State of an Object** or **Return Information of an Object**, but not both.\n",
    "\n",
    "Doing both leads to confusion."
   ]
  },
  {
   "cell_type": "markdown",
   "id": "b9be5d73",
   "metadata": {},
   "source": [
    "#### Raw Code"
   ]
  },
  {
   "cell_type": "code",
   "execution_count": null,
   "id": "f084e586",
   "metadata": {
    "ExecuteTime": {
     "end_time": "2023-05-07T14:09:43.838533Z",
     "start_time": "2023-05-07T14:09:43.836865Z"
    }
   },
   "outputs": [],
   "source": [
    "def _set(attribute, value):\n",
    "    try:\n",
    "        # Blah Blah\n",
    "        return True\n",
    "    except Exception:\n",
    "        return False\n",
    "    \n",
    "if _set('username', 'unclebob'):\n",
    "    pass"
   ]
  },
  {
   "cell_type": "markdown",
   "id": "d0b6c676",
   "metadata": {},
   "source": [
    "What does it mean?\n",
    "\n",
    "- The `'username'` attribute was previously set to `'unclebob'`?\n",
    "- The `'username'` attribute was succesfully set to `'unclebob'`?"
   ]
  },
  {
   "cell_type": "markdown",
   "id": "498013e7",
   "metadata": {},
   "source": [
    "#### Refactored Code"
   ]
  },
  {
   "cell_type": "code",
   "execution_count": null,
   "id": "18c06279",
   "metadata": {
    "ExecuteTime": {
     "end_time": "2023-05-07T14:09:43.841159Z",
     "start_time": "2023-05-07T14:09:43.839269Z"
    }
   },
   "outputs": [],
   "source": [
    "def attribute_exists(attribute):\n",
    "    try:\n",
    "        # Blah Blah\n",
    "        return True\n",
    "    except Exception:\n",
    "        return False\n",
    "    \n",
    "def _set(attribute, value):\n",
    "    pass\n",
    "\n",
    "if attribute_exists('username'):\n",
    "    _set('username', 'unclebob')\n"
   ]
  },
  {
   "cell_type": "markdown",
   "id": "35e07100",
   "metadata": {},
   "source": [
    "### Prefer Exceptions to Returning Error Codes"
   ]
  },
  {
   "cell_type": "markdown",
   "id": "a35eb2fb",
   "metadata": {},
   "source": [
    "Returning error codes from command functions is a subtle violation of command query separation. It promotes commands being used as expressions in the predicates of `if` estatements."
   ]
  },
  {
   "cell_type": "markdown",
   "id": "e5b11156",
   "metadata": {},
   "source": [
    "#### Raw Code"
   ]
  },
  {
   "cell_type": "code",
   "execution_count": null,
   "id": "9cea6c1b",
   "metadata": {
    "ExecuteTime": {
     "end_time": "2023-05-07T14:09:43.844921Z",
     "start_time": "2023-05-07T14:09:43.843154Z"
    }
   },
   "outputs": [],
   "source": [
    "def delete_page(page):\n",
    "    try:\n",
    "        return 'OK'\n",
    "    except Exception:\n",
    "        return 'ERROR'\n",
    "    \n",
    "if delete_page('page') == 'OK':\n",
    "    print('All OK')"
   ]
  },
  {
   "cell_type": "markdown",
   "id": "cec6020a",
   "metadata": {},
   "source": [
    "This leads to deeply nested structures. By creating an error code, the caller must deal with the error inmmediately."
   ]
  },
  {
   "cell_type": "code",
   "execution_count": null,
   "id": "96d6fdd4",
   "metadata": {
    "ExecuteTime": {
     "end_time": "2023-05-07T14:09:43.848527Z",
     "start_time": "2023-05-07T14:09:43.845798Z"
    }
   },
   "outputs": [],
   "source": [
    "def delete_reference(reference):\n",
    "    # Random Success/Error\n",
    "    return np.random.choice(['OK', 'ERROR'])\n",
    "\n",
    "def delete_key(key):\n",
    "    # Random Success/Error\n",
    "    return np.random.choice(['OK', 'ERROR'])\n",
    "\n",
    "if delete_page('page') == 'OK':\n",
    "    if delete_reference('pageReference') == 'OK':\n",
    "        if delete_key('configKey') == 'OK':\n",
    "            print(\"All OK, page deleted\")\n",
    "        else:\n",
    "            print(\"configKey raised an error\")\n",
    "    else:\n",
    "        print(\"pageReference raised an error\")\n",
    "else:\n",
    "    print(\"ERROR: delete_page failed\")"
   ]
  },
  {
   "cell_type": "markdown",
   "id": "c7ba6a56",
   "metadata": {},
   "source": [
    "#### Refactored Code"
   ]
  },
  {
   "cell_type": "code",
   "execution_count": null,
   "id": "a564e95f",
   "metadata": {
    "ExecuteTime": {
     "end_time": "2023-05-07T14:09:43.852428Z",
     "start_time": "2023-05-07T14:09:43.849769Z"
    }
   },
   "outputs": [],
   "source": [
    "def delete_page(reference):\n",
    "    result = np.random.choice(['OK', Exception('Error in delete_page')])\n",
    "    if result != 'OK':\n",
    "        raise result\n",
    "    return result\n",
    "\n",
    "def delete_reference(reference):\n",
    "    result = np.random.choice(['OK', Exception('Error in delete_reference')])\n",
    "    if result != 'OK':\n",
    "        raise result\n",
    "    return result\n",
    "\n",
    "def delete_key(key):\n",
    "    result = np.random.choice(['OK', Exception('Error in delete_key')])\n",
    "    if result != 'OK':\n",
    "        raise result\n",
    "    return result\n",
    "\n",
    "try:\n",
    "    delete_page('page')\n",
    "    delete_reference('pageReference')\n",
    "    delete_key('configKey')\n",
    "except Exception as e:\n",
    "    print(e)"
   ]
  },
  {
   "cell_type": "markdown",
   "id": "fe3e6a12",
   "metadata": {},
   "source": [
    "### Extract Try/Catch (Try/Except) Blocks"
   ]
  },
  {
   "cell_type": "markdown",
   "id": "d5da1a54",
   "metadata": {},
   "source": [
    "`try/excepts` are ugly in their own right, confusing the code and mixing `Exception` handling with normal processing.\n",
    "\n",
    "Its better to extract the bodies of the `try/except` blocks out into functions of their own."
   ]
  },
  {
   "cell_type": "markdown",
   "id": "ecabbb25",
   "metadata": {},
   "source": [
    "#### Refactored Code"
   ]
  },
  {
   "cell_type": "code",
   "execution_count": null,
   "id": "981b4e8a",
   "metadata": {
    "ExecuteTime": {
     "end_time": "2023-05-07T14:09:43.855905Z",
     "start_time": "2023-05-07T14:09:43.853317Z"
    }
   },
   "outputs": [],
   "source": [
    "def delete(page):\n",
    "    try:\n",
    "        delete_page_references_and_keys(page)\n",
    "    except Exception as e:\n",
    "        log_error(e)\n",
    "        \n",
    "def delete_page_references_and_keys(page):\n",
    "    delete_page('page')\n",
    "    delete_reference('pageReference')\n",
    "    delete_key('configKey')\n",
    "    \n",
    "def log_error(e):\n",
    "    print(e)\n",
    "    \n",
    "delete('page')"
   ]
  },
  {
   "cell_type": "markdown",
   "id": "cf42c8ae",
   "metadata": {},
   "source": [
    "The `delete` function is easy to understand and ignore, all focus is in the `delete_page_references_and_keys` which has all the functionality inside."
   ]
  },
  {
   "cell_type": "code",
   "execution_count": null,
   "id": "67ae7e2b",
   "metadata": {},
   "outputs": [],
   "source": []
  },
  {
   "cell_type": "code",
   "execution_count": null,
   "id": "a6b4e1c6",
   "metadata": {},
   "outputs": [],
   "source": []
  },
  {
   "cell_type": "code",
   "execution_count": null,
   "id": "ee02cf54",
   "metadata": {},
   "outputs": [],
   "source": []
  },
  {
   "cell_type": "code",
   "execution_count": null,
   "id": "f3f2a122",
   "metadata": {},
   "outputs": [],
   "source": []
  },
  {
   "cell_type": "code",
   "execution_count": null,
   "id": "e87cc57c",
   "metadata": {},
   "outputs": [],
   "source": []
  },
  {
   "cell_type": "code",
   "execution_count": null,
   "id": "380a2245",
   "metadata": {},
   "outputs": [],
   "source": []
  },
  {
   "cell_type": "code",
   "execution_count": null,
   "id": "c54e9091",
   "metadata": {},
   "outputs": [],
   "source": []
  },
  {
   "cell_type": "code",
   "execution_count": null,
   "id": "0d07b6f3",
   "metadata": {},
   "outputs": [],
   "source": []
  },
  {
   "cell_type": "code",
   "execution_count": null,
   "id": "e3bd10ad",
   "metadata": {},
   "outputs": [],
   "source": []
  },
  {
   "cell_type": "code",
   "execution_count": null,
   "id": "55da6fec",
   "metadata": {},
   "outputs": [],
   "source": []
  },
  {
   "cell_type": "code",
   "execution_count": null,
   "id": "97cf4136",
   "metadata": {},
   "outputs": [],
   "source": []
  },
  {
   "cell_type": "code",
   "execution_count": null,
   "id": "8846f19e",
   "metadata": {},
   "outputs": [],
   "source": []
  },
  {
   "cell_type": "code",
   "execution_count": null,
   "id": "a2dcd4bc",
   "metadata": {},
   "outputs": [],
   "source": []
  },
  {
   "cell_type": "code",
   "execution_count": null,
   "id": "5c110fd3",
   "metadata": {},
   "outputs": [],
   "source": []
  },
  {
   "cell_type": "code",
   "execution_count": null,
   "id": "212f929a",
   "metadata": {},
   "outputs": [],
   "source": []
  },
  {
   "cell_type": "code",
   "execution_count": null,
   "id": "f7443697",
   "metadata": {},
   "outputs": [],
   "source": []
  },
  {
   "cell_type": "code",
   "execution_count": null,
   "id": "67a58946",
   "metadata": {},
   "outputs": [],
   "source": []
  },
  {
   "cell_type": "code",
   "execution_count": null,
   "id": "73fd8260",
   "metadata": {},
   "outputs": [],
   "source": []
  },
  {
   "cell_type": "code",
   "execution_count": null,
   "id": "2ebed417",
   "metadata": {},
   "outputs": [],
   "source": []
  },
  {
   "cell_type": "code",
   "execution_count": null,
   "id": "82e75a7b",
   "metadata": {},
   "outputs": [],
   "source": []
  },
  {
   "cell_type": "code",
   "execution_count": null,
   "id": "48f23682",
   "metadata": {},
   "outputs": [],
   "source": []
  }
 ],
 "metadata": {
  "kernelspec": {
   "display_name": "todai",
   "language": "python",
   "name": "todai"
  },
  "language_info": {
   "codemirror_mode": {
    "name": "ipython",
    "version": 3
   },
   "file_extension": ".py",
   "mimetype": "text/x-python",
   "name": "python",
   "nbconvert_exporter": "python",
   "pygments_lexer": "ipython3",
   "version": "3.10.5"
  },
  "toc": {
   "base_numbering": 1,
   "nav_menu": {},
   "number_sections": true,
   "sideBar": true,
   "skip_h1_title": false,
   "title_cell": "Table of Contents",
   "title_sidebar": "Contents",
   "toc_cell": false,
   "toc_position": {
    "height": "calc(100% - 180px)",
    "left": "10px",
    "top": "150px",
    "width": "480px"
   },
   "toc_section_display": true,
   "toc_window_display": true
  }
 },
 "nbformat": 4,
 "nbformat_minor": 5
}
