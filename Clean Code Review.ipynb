{
 "cells": [
  {
   "cell_type": "code",
   "execution_count": 69,
   "id": "795364a3",
   "metadata": {
    "ExecuteTime": {
     "end_time": "2023-06-09T15:15:54.580769Z",
     "start_time": "2023-06-09T15:15:54.574093Z"
    }
   },
   "outputs": [],
   "source": [
    "import os\n",
    "import math\n",
    "import sys\n",
    "import unittest\n",
    "from unittest.mock import patch\n",
    "from io import StringIO\n",
    "\n",
    "import pandas as pd\n",
    "import numpy as np\n",
    "\n",
    "from math import pi\n",
    "from abc import ABC, abstractmethod"
   ]
  },
  {
   "cell_type": "markdown",
   "id": "ddb0006d",
   "metadata": {},
   "source": [
    "# Clean Code: A Handbook of Agile software Craftsmanship"
   ]
  },
  {
   "cell_type": "markdown",
   "id": "74817271",
   "metadata": {},
   "source": [
    "## Clean Code"
   ]
  },
  {
   "cell_type": "markdown",
   "id": "fc773ad1",
   "metadata": {},
   "source": [
    "Elegant, efficient, straightforward, simple, direct, readable, minimal dependencies, clear, with care."
   ]
  },
  {
   "cell_type": "markdown",
   "id": "bdd8f37d",
   "metadata": {},
   "source": [
    "## Meaningful Names"
   ]
  },
  {
   "cell_type": "markdown",
   "id": "7718ded5",
   "metadata": {},
   "source": [
    "Variables, functions, arguments, classes, packages, source files, directories... We better do it well."
   ]
  },
  {
   "cell_type": "markdown",
   "id": "2c3fb7de",
   "metadata": {},
   "source": [
    "### Intention-Revealing names:"
   ]
  },
  {
   "cell_type": "markdown",
   "id": "f6b441cf",
   "metadata": {},
   "source": [
    " - `d < elapsedTimeInDays`"
   ]
  },
  {
   "cell_type": "markdown",
   "id": "0a751ef4",
   "metadata": {},
   "source": [
    "#### Unclear Naming Code"
   ]
  },
  {
   "cell_type": "code",
   "execution_count": 2,
   "id": "56cc6973",
   "metadata": {
    "ExecuteTime": {
     "end_time": "2023-06-09T13:17:57.169907Z",
     "start_time": "2023-06-09T13:17:57.168279Z"
    }
   },
   "outputs": [],
   "source": [
    "def get_them(the_list):\n",
    "    list1 = []\n",
    "    for x in the_list:\n",
    "        if x[0] == 4:\n",
    "            list1.append(x)\n",
    "    return list1"
   ]
  },
  {
   "cell_type": "markdown",
   "id": "aec8af23",
   "metadata": {},
   "source": [
    "#### Intention-Revealing Naming Code"
   ]
  },
  {
   "cell_type": "code",
   "execution_count": 3,
   "id": "ff6a088d",
   "metadata": {
    "ExecuteTime": {
     "end_time": "2023-06-09T13:17:57.172789Z",
     "start_time": "2023-06-09T13:17:57.171259Z"
    }
   },
   "outputs": [],
   "source": [
    "def get_flagged_cells(gameboard):\n",
    "    flaggedCells = []\n",
    "    for cell in gameboard:\n",
    "        if cell.isFlagged():\n",
    "            flaggedCells.append(cell)\n",
    "    return flaggedCells"
   ]
  },
  {
   "cell_type": "markdown",
   "id": "6c511755",
   "metadata": {},
   "source": [
    "### Make Meaningful Distinctios"
   ]
  },
  {
   "cell_type": "markdown",
   "id": "d9120652",
   "metadata": {},
   "source": [
    "If names must be different, they should also mean something different. Distinguish names in such a way that the reader knows what the difference offers."
   ]
  },
  {
   "cell_type": "markdown",
   "id": "9e7a80d4",
   "metadata": {},
   "source": [
    "#### Unclear Naming Code"
   ]
  },
  {
   "cell_type": "code",
   "execution_count": 4,
   "id": "17cca04b",
   "metadata": {
    "ExecuteTime": {
     "end_time": "2023-06-09T13:17:57.175002Z",
     "start_time": "2023-06-09T13:17:57.173561Z"
    }
   },
   "outputs": [],
   "source": [
    "def copy_chars(a1, a2):\n",
    "    for i in range(len(a1)):\n",
    "        a2[i] = a1[i]"
   ]
  },
  {
   "cell_type": "markdown",
   "id": "0fb855e6",
   "metadata": {},
   "source": [
    "#### Meaningful Distinctions Code"
   ]
  },
  {
   "cell_type": "code",
   "execution_count": 5,
   "id": "658d4f0b",
   "metadata": {
    "ExecuteTime": {
     "end_time": "2023-06-09T13:17:57.177179Z",
     "start_time": "2023-06-09T13:17:57.175768Z"
    }
   },
   "outputs": [],
   "source": [
    "def copy_chars(source, destination):\n",
    "    for i in range(len(source)):\n",
    "        destination[i] = source[i]"
   ]
  },
  {
   "cell_type": "markdown",
   "id": "cf2350f6",
   "metadata": {},
   "source": [
    "#### Examples"
   ]
  },
  {
   "cell_type": "markdown",
   "id": "2fab4b3f",
   "metadata": {},
   "source": [
    "- `name > nameString`\n",
    "- `variable` should never appear in a variable name\n",
    "- `table` should never appear in a table name\n",
    "- `dataframe` should never appear in a dataframe name\n",
    "- `money == moneyAmount`, `customer == customerData`, `account == accountInfo`"
   ]
  },
  {
   "cell_type": "markdown",
   "id": "857d6748",
   "metadata": {},
   "source": [
    "### Use Pronounceable Names"
   ]
  },
  {
   "cell_type": "markdown",
   "id": "304006c7",
   "metadata": {},
   "source": [
    "#### Unclear Naming Code"
   ]
  },
  {
   "cell_type": "code",
   "execution_count": 6,
   "id": "fbff0a4f",
   "metadata": {
    "ExecuteTime": {
     "end_time": "2023-06-09T13:17:57.180093Z",
     "start_time": "2023-06-09T13:17:57.177888Z"
    }
   },
   "outputs": [],
   "source": [
    "class DtaRcrd102:\n",
    "    def __init__(data):\n",
    "        genymdhms = data[0]\n",
    "        modymdhms = data[1]\n",
    "        pszqint = '102'\n",
    "    # Blah Blah"
   ]
  },
  {
   "cell_type": "markdown",
   "id": "4facf0c3",
   "metadata": {},
   "source": [
    "#### Pronounceable Names Code"
   ]
  },
  {
   "cell_type": "code",
   "execution_count": 7,
   "id": "1e6e2100",
   "metadata": {
    "ExecuteTime": {
     "end_time": "2023-06-09T13:17:57.183569Z",
     "start_time": "2023-06-09T13:17:57.181441Z"
    }
   },
   "outputs": [],
   "source": [
    "class Customer:\n",
    "    def __init__(data):\n",
    "        generationTimestamp = data[0]\n",
    "        modificationTimestamp = data[1]\n",
    "        recordId = '102'\n",
    "    # Blah Blah"
   ]
  },
  {
   "cell_type": "markdown",
   "id": "4c9ae154",
   "metadata": {},
   "source": [
    "*Hey, Mikey, take a look at this record! the `generationTimestamp` is set to tomorrow's date! How can that be?*"
   ]
  },
  {
   "cell_type": "markdown",
   "id": "81c3d23e",
   "metadata": {},
   "source": [
    "### Class Names"
   ]
  },
  {
   "cell_type": "markdown",
   "id": "f1edd829",
   "metadata": {},
   "source": [
    "- Classes and Objects should have noun or noun phrase names:\n",
    "    - `Customer`, `WikiPage`, `Account`, `Data`, `Info`, ..."
   ]
  },
  {
   "cell_type": "markdown",
   "id": "405c34bf",
   "metadata": {},
   "source": [
    "### Method Names"
   ]
  },
  {
   "cell_type": "markdown",
   "id": "b4fe17b3",
   "metadata": {},
   "source": [
    "- Methods should have verb or verb phrase names:\n",
    "    - `postPayment`, `deletePage`, `save`, ..."
   ]
  },
  {
   "cell_type": "markdown",
   "id": "ee7c86d7",
   "metadata": {},
   "source": [
    "- Accessors, mutators, and predicates should be names for their value and prefixed with:\n",
    "    - `get_`, `set_`, `is_`, ..."
   ]
  },
  {
   "cell_type": "markdown",
   "id": "cad85827",
   "metadata": {},
   "source": [
    "#### Contructors as Enforcements:"
   ]
  },
  {
   "cell_type": "markdown",
   "id": "49976da3",
   "metadata": {},
   "source": [
    "`fulcrumPoint = Complex.FromRealNumber(23.0)`\n",
    "\n",
    "is better than:\n",
    "\n",
    "`fulcrumPoints = Complex(23.0)`\n",
    "\n",
    "<font color='red'>Use can be enforced by setting constructors as private.</font>"
   ]
  },
  {
   "cell_type": "markdown",
   "id": "d99a8ff0",
   "metadata": {},
   "source": [
    "### Pick One Word per Concept"
   ]
  },
  {
   "cell_type": "markdown",
   "id": "6df2c3a0",
   "metadata": {},
   "source": [
    "- `fetch == retrieve == get`, pick one!\n",
    "- `controller == manager == driver`, pick one!"
   ]
  },
  {
   "cell_type": "markdown",
   "id": "bbcd5197",
   "metadata": {},
   "source": [
    "### Add Meaningful Context"
   ]
  },
  {
   "cell_type": "markdown",
   "id": "6224c5a8",
   "metadata": {},
   "source": [
    "#### Unclear Context Code"
   ]
  },
  {
   "cell_type": "code",
   "execution_count": 8,
   "id": "60e0ff15",
   "metadata": {
    "ExecuteTime": {
     "end_time": "2023-06-09T13:17:57.187762Z",
     "start_time": "2023-06-09T13:17:57.184908Z"
    }
   },
   "outputs": [],
   "source": [
    "def print_guess_statistics(candidate, count):\n",
    "    if count == 0:\n",
    "        number = 'no'\n",
    "        verb = 'are'\n",
    "        pluralModifier = 's'\n",
    "    elif count == 1:\n",
    "        number = '1'\n",
    "        verb = 'is'\n",
    "        pluralModifier = ''\n",
    "    else:\n",
    "        number = str(count)\n",
    "        verb = 'are'\n",
    "        pluralModifier = 's'\n",
    "    message = f'There {verb} {number} {candidate}{pluralModifier}'\n",
    "    print(message)"
   ]
  },
  {
   "cell_type": "markdown",
   "id": "50dbb5e8",
   "metadata": {},
   "source": [
    "#### Meaningful Context Code"
   ]
  },
  {
   "cell_type": "code",
   "execution_count": 9,
   "id": "5167d6bc",
   "metadata": {
    "ExecuteTime": {
     "end_time": "2023-06-09T13:17:57.194287Z",
     "start_time": "2023-06-09T13:17:57.191508Z"
    }
   },
   "outputs": [],
   "source": [
    "class GuessStatisticsMessage:\n",
    "    \n",
    "    def make(self, candidate, count):\n",
    "        self.create_plural_dependent_message_parts(count)\n",
    "        return f'There {self.verb} {self.number} {candidate}{self.pluralModifier}'\n",
    "    \n",
    "    def create_plural_dependent_message_parts(self, count):\n",
    "        if count == 0:\n",
    "            self.there_are_no_letters()\n",
    "        elif count == 1:\n",
    "            self.there_is_one_letter()\n",
    "        else:\n",
    "            self.there_are_many_letters(count)\n",
    "            \n",
    "    def there_are_many_letters(self, count):\n",
    "        self.number = str(count)\n",
    "        self.verb = 'are'\n",
    "        self.pluralModifier = 's'\n",
    "        \n",
    "    def there_is_one_letter(self):\n",
    "        self.number = '1'\n",
    "        self.verb = 'is'\n",
    "        self.pluralModifier = ''\n",
    "        \n",
    "    def there_are_no_letters(self):\n",
    "        self.number = 'no'\n",
    "        selfverb = 'are'\n",
    "        self.pluralModifier = 's'\n",
    "    "
   ]
  },
  {
   "cell_type": "code",
   "execution_count": 10,
   "id": "b022375f",
   "metadata": {
    "ExecuteTime": {
     "end_time": "2023-06-09T13:17:57.199213Z",
     "start_time": "2023-06-09T13:17:57.195168Z"
    }
   },
   "outputs": [
    {
     "data": {
      "text/plain": [
       "'There are 10 AAAAs'"
      ]
     },
     "execution_count": 10,
     "metadata": {},
     "output_type": "execute_result"
    }
   ],
   "source": [
    "GuessStatisticsMessage().make('AAAA', 10)"
   ]
  },
  {
   "cell_type": "markdown",
   "id": "9ae9c898",
   "metadata": {},
   "source": [
    "### Others"
   ]
  },
  {
   "cell_type": "markdown",
   "id": "629b801e",
   "metadata": {},
   "source": [
    "- Avoid Disinformation/Misinformation\n",
    "- Use Searchable Names\n",
    "- Avoid Encodings\n",
    "- Avoid Mental Mapping\n",
    "- Don't be Cute\n",
    "- Don't Pun\n",
    "- Use Problem Domain Names\n",
    "- Don't Add Gratuitous Context\n",
    "- Rename if you can make it better"
   ]
  },
  {
   "cell_type": "markdown",
   "id": "11ddc31f",
   "metadata": {},
   "source": [
    "## Functions"
   ]
  },
  {
   "cell_type": "markdown",
   "id": "602cd97c",
   "metadata": {},
   "source": [
    "### Small!"
   ]
  },
  {
   "cell_type": "markdown",
   "id": "69db562d",
   "metadata": {},
   "source": [
    "- Functions **NEED** to be small\n",
    "    - *Hardly ever bee 20 lines long*\n",
    "- Each should be transparently obvios\n",
    "- Avoid nested `if, else, while` statements\n",
    "- `if, else, while` conditions should be a single line long\n",
    "    - If they are complex, build a function for it\n"
   ]
  },
  {
   "cell_type": "markdown",
   "id": "46c4177a",
   "metadata": {},
   "source": [
    "### Do One Thing"
   ]
  },
  {
   "cell_type": "markdown",
   "id": "619caa09",
   "metadata": {},
   "source": [
    "**Functions should do one thing. They should do it well. They should do it only.**\n",
    "\n",
    "It's hard to define what **One Thing**, but doing only things one *step* of abstraction below is a good guide.\n",
    "\n",
    "If you can extract another function from it with singular name, or if you can divide it into sections, your function is doing more than **One Thing**."
   ]
  },
  {
   "cell_type": "markdown",
   "id": "39dbe0cb",
   "metadata": {},
   "source": [
    "### One Level of Abstraction per Function"
   ]
  },
  {
   "cell_type": "markdown",
   "id": "1ff12ec3",
   "metadata": {},
   "source": [
    "Make sure that all statements within your function are at the same level of abstraction."
   ]
  },
  {
   "cell_type": "markdown",
   "id": "d2419856",
   "metadata": {},
   "source": [
    "### Reading Code from Top to Bottom: *The Stepdown* Rule"
   ]
  },
  {
   "cell_type": "markdown",
   "id": "cff6f332",
   "metadata": {},
   "source": [
    "Code should follow a **top-down** narrative. Every function should be followed by those at the next level of abstraction so that the program can be read descending one level of abstraction at a time."
   ]
  },
  {
   "cell_type": "markdown",
   "id": "2553f296",
   "metadata": {},
   "source": [
    "### Switch Statements (Conditional Mapping)"
   ]
  },
  {
   "cell_type": "markdown",
   "id": "3d837b01",
   "metadata": {},
   "source": [
    "#### Raw Code"
   ]
  },
  {
   "cell_type": "code",
   "execution_count": 11,
   "id": "216a08a0",
   "metadata": {
    "ExecuteTime": {
     "end_time": "2023-06-09T13:17:57.202155Z",
     "start_time": "2023-06-09T13:17:57.200105Z"
    }
   },
   "outputs": [],
   "source": [
    "class InvalidEmployeeType(Exception):\n",
    "    def __init__(self, employee_type):\n",
    "        super().__init__(f\"Invalid employee type: {employee_type}\")\n",
    "\n",
    "def calculate_pay(e):\n",
    "    if e.type == \"COMMISSIONED\":\n",
    "        return calculate_commissioned_pay(e)\n",
    "    elif e.type == \"HOURLY\":\n",
    "        return calculate_hourly_pay(e)\n",
    "    elif e.type == \"SALARIED\":\n",
    "        return calculate_salaried_pay(e)\n",
    "    else:\n",
    "        raise InvalidEmployeeType(e.type)"
   ]
  },
  {
   "cell_type": "markdown",
   "id": "4227a5b0",
   "metadata": {},
   "source": [
    "- Function is large\n",
    "- If new `EmployeeTypes` are added, the function must grow \n",
    "    - Violates *Open Closed Principle*\n",
    "- Does more than **One Thing**\n",
    "- Many functions in the codebase must be similar in order for this one to work"
   ]
  },
  {
   "cell_type": "markdown",
   "id": "28ecebb8",
   "metadata": {},
   "source": [
    "#### Abstracted Code"
   ]
  },
  {
   "cell_type": "markdown",
   "id": "a5f24f6f",
   "metadata": {},
   "source": [
    "Solution is to bury the conditional mapping in to an abstract class (*Polymorphism*)."
   ]
  },
  {
   "cell_type": "code",
   "execution_count": 12,
   "id": "497906e9",
   "metadata": {
    "ExecuteTime": {
     "end_time": "2023-06-09T13:17:57.205362Z",
     "start_time": "2023-06-09T13:17:57.202970Z"
    }
   },
   "outputs": [],
   "source": [
    "from abc import ABC, abstractmethod\n",
    "\n",
    "class Employee(ABC):\n",
    "    @abstractmethod\n",
    "    def is_payday(self):\n",
    "        pass\n",
    "\n",
    "    @abstractmethod\n",
    "    def calculate_pay(self):\n",
    "        pass\n",
    "\n",
    "    @abstractmethod\n",
    "    def deliver_pay(self, pay):\n",
    "        pass\n",
    "\n",
    "class EmployeeFactory:\n",
    "    @abstractmethod\n",
    "    def make_employee(self, r):\n",
    "        pass\n",
    "\n",
    "class EmployeeFactoryImpl(EmployeeFactory):\n",
    "    def make_employee(self, r):\n",
    "        if r.type == \"COMMISSIONED\":\n",
    "            return CommissionedEmployee(r)\n",
    "        elif r.type == \"HOURLY\":\n",
    "            return HourlyEmployee(r)\n",
    "        elif r.type == \"SALARIED\":\n",
    "            return SalariedEmployee(r)\n",
    "        else:\n",
    "            raise InvalidEmployeeType(r.type)"
   ]
  },
  {
   "cell_type": "markdown",
   "id": "73fa30a7",
   "metadata": {},
   "source": [
    "### Use Descriptive Names"
   ]
  },
  {
   "cell_type": "markdown",
   "id": "97c424cf",
   "metadata": {},
   "source": [
    "With **Single Responsability functions**, the name must clearly state what the function does.\n",
    "\n",
    "The smaller and more focused the function is, the easier it is to choose a descriptive name.\n",
    "\n",
    "Don't be afraid of making the name long, descriptive is better than short.\n",
    "\n",
    "Be consistent, use the same phrases, nouns, and verbs in the function names you choose for a module."
   ]
  },
  {
   "cell_type": "markdown",
   "id": "5cef969c",
   "metadata": {},
   "source": [
    "### Function Arguments"
   ]
  },
  {
   "cell_type": "markdown",
   "id": "9af735fc",
   "metadata": {},
   "source": [
    "The ideal number of arguments for a function is zero, then one, then two. Three is hard to justify.\n",
    "\n",
    "This makes testing easier and easier to understand."
   ]
  },
  {
   "cell_type": "markdown",
   "id": "29e9d53f",
   "metadata": {},
   "source": [
    "### Common Monadic Forms"
   ]
  },
  {
   "cell_type": "markdown",
   "id": "7163995f",
   "metadata": {},
   "source": [
    "Two good reasons to pass a single argument are:\n",
    "\n",
    "- You may be asking a question about that argument: `os.path.exists(arg)`\n",
    "- You may be operating on that argument: `add_two(arg)`\n",
    "\n",
    "Both cases benefit for knowing what you are doing and to whom, which is much easier with a single argument."
   ]
  },
  {
   "cell_type": "markdown",
   "id": "ac95d6f0",
   "metadata": {},
   "source": [
    "### Flag Arguments"
   ]
  },
  {
   "cell_type": "markdown",
   "id": "d1d08d32",
   "metadata": {},
   "source": [
    "Passing `boolean` arguments to a function is a truly terrible practice. Complicates the signature of the method, and *SCREAMS* that the function is doing more than **One Thing**.\n",
    "\n",
    "Separate that function into two."
   ]
  },
  {
   "cell_type": "markdown",
   "id": "95890033",
   "metadata": {},
   "source": [
    "### Dyadic functions"
   ]
  },
  {
   "cell_type": "markdown",
   "id": "55e97288",
   "metadata": {},
   "source": [
    "Dyads aren't evil, and are needed sometimes, but be aware that they come at a cost, and you should be aware of what mechanisms may be available to you to convert them into monads."
   ]
  },
  {
   "cell_type": "markdown",
   "id": "99682d63",
   "metadata": {},
   "source": [
    "### Triads"
   ]
  },
  {
   "cell_type": "markdown",
   "id": "a5c9ad52",
   "metadata": {},
   "source": [
    "Three arguments are significantly harder to understand than dyads. Issues of ordering, pausing, and ingoring are more than doubled, so there should be careful consideration before writing one."
   ]
  },
  {
   "cell_type": "markdown",
   "id": "1e1400e5",
   "metadata": {},
   "source": [
    "### Argument Objects"
   ]
  },
  {
   "cell_type": "markdown",
   "id": "a5340d86",
   "metadata": {},
   "source": [
    "When a function *Needs* more than two or three arguments, it is likely that some of those arguments ought to be wrapped in a class of their own."
   ]
  },
  {
   "cell_type": "markdown",
   "id": "74973e65",
   "metadata": {},
   "source": [
    "#### Multiple Arguments Code"
   ]
  },
  {
   "cell_type": "code",
   "execution_count": 13,
   "id": "3f4e80ec",
   "metadata": {
    "ExecuteTime": {
     "end_time": "2023-06-09T13:17:57.207941Z",
     "start_time": "2023-06-09T13:17:57.206267Z"
    }
   },
   "outputs": [],
   "source": [
    "def make_circle(x, y, r):\n",
    "    pass"
   ]
  },
  {
   "cell_type": "markdown",
   "id": "f258af09",
   "metadata": {},
   "source": [
    "#### Object Arguments Code"
   ]
  },
  {
   "cell_type": "code",
   "execution_count": 14,
   "id": "956ab1f8",
   "metadata": {
    "ExecuteTime": {
     "end_time": "2023-06-09T13:17:57.210842Z",
     "start_time": "2023-06-09T13:17:57.208713Z"
    }
   },
   "outputs": [],
   "source": [
    "def make_circle(center, r):\n",
    "    pass"
   ]
  },
  {
   "cell_type": "markdown",
   "id": "0fd6468d",
   "metadata": {},
   "source": [
    "Those arguments that are better turn into objects, usually are part of a concept that deserves a name of its own."
   ]
  },
  {
   "cell_type": "markdown",
   "id": "4695be8f",
   "metadata": {},
   "source": [
    "### Argument Lists"
   ]
  },
  {
   "cell_type": "markdown",
   "id": "6a59c85c",
   "metadata": {},
   "source": [
    "If the variable arguments are all treated identically, then they are equivalent to a single argument of type `List`."
   ]
  },
  {
   "cell_type": "markdown",
   "id": "d73a0ed8",
   "metadata": {},
   "source": [
    "### Verbs and Keywords"
   ]
  },
  {
   "cell_type": "markdown",
   "id": "606bca0e",
   "metadata": {},
   "source": [
    "In the case of mondas, function name should be a clear `verb(noun)` pair. By adding keywords, the name can be made even more explicit."
   ]
  },
  {
   "cell_type": "markdown",
   "id": "35767ebd",
   "metadata": {},
   "source": [
    "### Have No Side Effects"
   ]
  },
  {
   "cell_type": "markdown",
   "id": "c6d84b5a",
   "metadata": {},
   "source": [
    "Function must do **One Thing**, so it can't do other *Hidden Things* like make unexpected changes to the variables of its own class.\n",
    "\n",
    "This leads to strange temporal couplings and other dependencies."
   ]
  },
  {
   "cell_type": "markdown",
   "id": "fb09628e",
   "metadata": {},
   "source": [
    "#### Raw Code"
   ]
  },
  {
   "cell_type": "code",
   "execution_count": 15,
   "id": "6f10b88b",
   "metadata": {
    "ExecuteTime": {
     "end_time": "2023-06-09T13:17:57.214450Z",
     "start_time": "2023-06-09T13:17:57.211668Z"
    }
   },
   "outputs": [],
   "source": [
    "class UserValidator:\n",
    "    def __init__(self, cryptographer):\n",
    "        self.cryptographer = cryptographer\n",
    "\n",
    "    def check_password(self, user_name, password):\n",
    "        user = UserGateway.find_by_name(user_name)\n",
    "        if user != User.NULL:\n",
    "            coded_phrase = user.get_phrase_encoded_by_password()\n",
    "            phrase = self.cryptographer.decrypt(coded_phrase, password)\n",
    "            if phrase == \"Valid Password\":\n",
    "                Session.initialize() # !!!!!\n",
    "                return True\n",
    "        return False"
   ]
  },
  {
   "cell_type": "markdown",
   "id": "e04601df",
   "metadata": {},
   "source": [
    "Functions does `Session.initialize()`, which is not clear in any way and breaks the fact that the function is supposed to do **One Thing** and creates a temporal coupling with the `Session` and the `check_password` method."
   ]
  },
  {
   "cell_type": "markdown",
   "id": "f7e180d4",
   "metadata": {},
   "source": [
    "#### Refactored Code"
   ]
  },
  {
   "cell_type": "code",
   "execution_count": 16,
   "id": "f9f9e186",
   "metadata": {
    "ExecuteTime": {
     "end_time": "2023-06-09T13:17:57.218357Z",
     "start_time": "2023-06-09T13:17:57.215530Z"
    }
   },
   "outputs": [],
   "source": [
    "class UserValidator:\n",
    "    def __init__(self, cryptographer):\n",
    "        self.cryptographer = cryptographer\n",
    "\n",
    "    def check_password_and_init_session(self, user_name, password):\n",
    "        user = UserGateway.find_by_name(user_name)\n",
    "        if user != User.NULL:\n",
    "            coded_phrase = user.get_phrase_encoded_by_password()\n",
    "            phrase = self.cryptographer.decrypt(coded_phrase, password)\n",
    "            if phrase == \"Valid Password\":\n",
    "                Session.initialize() # !!!!!\n",
    "                return True\n",
    "        return False"
   ]
  },
  {
   "cell_type": "markdown",
   "id": "ed67c71c",
   "metadata": {},
   "source": [
    "This makes it clear, though it still violates that a function can only do **One Thing**."
   ]
  },
  {
   "cell_type": "markdown",
   "id": "96c928ce",
   "metadata": {},
   "source": [
    "### Output Arguments"
   ]
  },
  {
   "cell_type": "markdown",
   "id": "c4d53246",
   "metadata": {},
   "source": [
    "Anything that forces you to check the function signature for its definition should be regarded as a double-take. A cognitive break and should be avoided.\n",
    "\n",
    "If a function **must** change the state of something, have it change the state of its owning object."
   ]
  },
  {
   "cell_type": "markdown",
   "id": "4e2eb64f",
   "metadata": {},
   "source": [
    "### Command Query Separation"
   ]
  },
  {
   "cell_type": "markdown",
   "id": "c7ef96a4",
   "metadata": {},
   "source": [
    "Functions should either **Do Something** or **Answer Something**, but not both.\n",
    "\n",
    "Either functions should **Change the State of an Object** or **Return Information of an Object**, but not both.\n",
    "\n",
    "Doing both leads to confusion."
   ]
  },
  {
   "cell_type": "markdown",
   "id": "01ba1450",
   "metadata": {},
   "source": [
    "#### Raw Code"
   ]
  },
  {
   "cell_type": "code",
   "execution_count": 17,
   "id": "d4ef3c41",
   "metadata": {
    "ExecuteTime": {
     "end_time": "2023-06-09T13:17:57.221454Z",
     "start_time": "2023-06-09T13:17:57.219617Z"
    }
   },
   "outputs": [],
   "source": [
    "def _set(attribute, value):\n",
    "    try:\n",
    "        # Blah Blah\n",
    "        return True\n",
    "    except Exception:\n",
    "        return False\n",
    "    \n",
    "if _set('username', 'unclebob'):\n",
    "    pass"
   ]
  },
  {
   "cell_type": "markdown",
   "id": "ff1b783a",
   "metadata": {},
   "source": [
    "What does it mean?\n",
    "\n",
    "- The `'username'` attribute was previously set to `'unclebob'`?\n",
    "- The `'username'` attribute was succesfully set to `'unclebob'`?"
   ]
  },
  {
   "cell_type": "markdown",
   "id": "4fc6351b",
   "metadata": {},
   "source": [
    "#### Refactored Code"
   ]
  },
  {
   "cell_type": "code",
   "execution_count": 18,
   "id": "81e754d3",
   "metadata": {
    "ExecuteTime": {
     "end_time": "2023-06-09T13:17:57.224235Z",
     "start_time": "2023-06-09T13:17:57.222430Z"
    }
   },
   "outputs": [],
   "source": [
    "def attribute_exists(attribute):\n",
    "    try:\n",
    "        # Blah Blah\n",
    "        return True\n",
    "    except Exception:\n",
    "        return False\n",
    "    \n",
    "def _set(attribute, value):\n",
    "    pass\n",
    "\n",
    "if attribute_exists('username'):\n",
    "    _set('username', 'unclebob')\n"
   ]
  },
  {
   "cell_type": "markdown",
   "id": "81f14427",
   "metadata": {},
   "source": [
    "### Prefer Exceptions to Returning Error Codes"
   ]
  },
  {
   "cell_type": "markdown",
   "id": "3d5e1c30",
   "metadata": {},
   "source": [
    "Returning error codes from command functions is a subtle violation of command query separation. It promotes commands being used as expressions in the predicates of `if` estatements."
   ]
  },
  {
   "cell_type": "markdown",
   "id": "1d91525b",
   "metadata": {},
   "source": [
    "#### Raw Code"
   ]
  },
  {
   "cell_type": "code",
   "execution_count": 19,
   "id": "aa401086",
   "metadata": {
    "ExecuteTime": {
     "end_time": "2023-06-09T13:17:57.227049Z",
     "start_time": "2023-06-09T13:17:57.225101Z"
    }
   },
   "outputs": [
    {
     "name": "stdout",
     "output_type": "stream",
     "text": [
      "All OK\n"
     ]
    }
   ],
   "source": [
    "def delete_page(page):\n",
    "    try:\n",
    "        return 'OK'\n",
    "    except Exception:\n",
    "        return 'ERROR'\n",
    "    \n",
    "if delete_page('page') == 'OK':\n",
    "    print('All OK')"
   ]
  },
  {
   "cell_type": "markdown",
   "id": "9b47ebff",
   "metadata": {},
   "source": [
    "This leads to deeply nested structures. By creating an error code, the caller must deal with the error inmmediately."
   ]
  },
  {
   "cell_type": "code",
   "execution_count": 20,
   "id": "b8c54f1b",
   "metadata": {
    "ExecuteTime": {
     "end_time": "2023-06-09T13:17:57.230595Z",
     "start_time": "2023-06-09T13:17:57.227883Z"
    }
   },
   "outputs": [
    {
     "name": "stdout",
     "output_type": "stream",
     "text": [
      "pageReference raised an error\n"
     ]
    }
   ],
   "source": [
    "def delete_reference(reference):\n",
    "    # Random Success/Error\n",
    "    return np.random.choice(['OK', 'ERROR'])\n",
    "\n",
    "def delete_key(key):\n",
    "    # Random Success/Error\n",
    "    return np.random.choice(['OK', 'ERROR'])\n",
    "\n",
    "if delete_page('page') == 'OK':\n",
    "    if delete_reference('pageReference') == 'OK':\n",
    "        if delete_key('configKey') == 'OK':\n",
    "            print(\"All OK, page deleted\")\n",
    "        else:\n",
    "            print(\"configKey raised an error\")\n",
    "    else:\n",
    "        print(\"pageReference raised an error\")\n",
    "else:\n",
    "    print(\"ERROR: delete_page failed\")"
   ]
  },
  {
   "cell_type": "markdown",
   "id": "9b71881e",
   "metadata": {},
   "source": [
    "#### Refactored Code"
   ]
  },
  {
   "cell_type": "code",
   "execution_count": 21,
   "id": "4f67bc6a",
   "metadata": {
    "ExecuteTime": {
     "end_time": "2023-06-09T13:17:57.233927Z",
     "start_time": "2023-06-09T13:17:57.231445Z"
    }
   },
   "outputs": [],
   "source": [
    "def delete_page(reference):\n",
    "    result = np.random.choice(['OK', Exception('Error in delete_page')])\n",
    "    if result != 'OK':\n",
    "        raise result\n",
    "    return result\n",
    "\n",
    "def delete_reference(reference):\n",
    "    result = np.random.choice(['OK', Exception('Error in delete_reference')])\n",
    "    if result != 'OK':\n",
    "        raise result\n",
    "    return result\n",
    "\n",
    "def delete_key(key):\n",
    "    result = np.random.choice(['OK', Exception('Error in delete_key')])\n",
    "    if result != 'OK':\n",
    "        raise result\n",
    "    return result\n",
    "\n",
    "try:\n",
    "    delete_page('page')\n",
    "    delete_reference('pageReference')\n",
    "    delete_key('configKey')\n",
    "except Exception as e:\n",
    "    print(e)"
   ]
  },
  {
   "cell_type": "markdown",
   "id": "e5adda6e",
   "metadata": {},
   "source": [
    "### Extract Try/Catch (Try/Except) Blocks"
   ]
  },
  {
   "cell_type": "markdown",
   "id": "082d4390",
   "metadata": {},
   "source": [
    "`try/excepts` are ugly in their own right, confusing the code and mixing `Exception` handling with normal processing.\n",
    "\n",
    "Its better to extract the bodies of the `try/except` blocks out into functions of their own."
   ]
  },
  {
   "cell_type": "markdown",
   "id": "3ce53ca4",
   "metadata": {},
   "source": [
    "#### Refactored Code"
   ]
  },
  {
   "cell_type": "code",
   "execution_count": 22,
   "id": "e10e72e7",
   "metadata": {
    "ExecuteTime": {
     "end_time": "2023-06-09T13:17:57.237051Z",
     "start_time": "2023-06-09T13:17:57.234989Z"
    }
   },
   "outputs": [
    {
     "name": "stdout",
     "output_type": "stream",
     "text": [
      "Error in delete_page\n"
     ]
    }
   ],
   "source": [
    "def delete(page):\n",
    "    try:\n",
    "        delete_page_references_and_keys(page)\n",
    "    except Exception as e:\n",
    "        log_error(e)\n",
    "        \n",
    "def delete_page_references_and_keys(page):\n",
    "    delete_page('page')\n",
    "    delete_reference('pageReference')\n",
    "    delete_key('configKey')\n",
    "    \n",
    "def log_error(e):\n",
    "    print(e)\n",
    "    \n",
    "delete('page')"
   ]
  },
  {
   "cell_type": "markdown",
   "id": "d61853fc",
   "metadata": {},
   "source": [
    "The `delete` function is easy to understand and ignore, all focus is in the `delete_page_references_and_keys` which has all the functionality inside."
   ]
  },
  {
   "cell_type": "markdown",
   "id": "59b18f0d",
   "metadata": {},
   "source": [
    "- **Error Handling is already ONE THING**\n",
    "- **Use Exceptions rather than Error codes**"
   ]
  },
  {
   "cell_type": "markdown",
   "id": "04a7b799",
   "metadata": {},
   "source": [
    "### Don't Repeat Yourself"
   ]
  },
  {
   "cell_type": "markdown",
   "id": "3395326e",
   "metadata": {},
   "source": [
    "Duplication bloats the code and requires n-fold modification if the algorithm ever changes. Also an n-fold opportunity for errors of omission.\n",
    "\n",
    "Readability is enhanced by the reduction of duplication."
   ]
  },
  {
   "cell_type": "markdown",
   "id": "9391f25f",
   "metadata": {},
   "source": [
    "### Structured Programming"
   ]
  },
  {
   "cell_type": "markdown",
   "id": "c5591583",
   "metadata": {},
   "source": [
    "***\"Every function and every block within a function, should have one entry and one exit.\"*** - Dijkstra.\n",
    "\n",
    "Meaning that there should be only one `return` per function, and no `break` or `continue` statements in loops.\n",
    "\n",
    "<font color='red'>**By making your functions sufficiently small, the structure speaks for itself and doen't need to be so rigid.**</font>"
   ]
  },
  {
   "cell_type": "markdown",
   "id": "62986d67",
   "metadata": {},
   "source": [
    "### How Do you Write Functions like This?"
   ]
  },
  {
   "cell_type": "markdown",
   "id": "efd3ba18",
   "metadata": {},
   "source": [
    "As with any other writing:\n",
    "\n",
    "1. You get your thoughts down at first.\n",
    "2. Massage it until it reads well.\n",
    "3. Keep wordsmithing, restructuring and refining until it reads the way you want it to read.\n",
    "\n",
    "<font color='red'>**If you make tests early, they can cover every piece of the clumsy code and make refactoring much easier.**</font>"
   ]
  },
  {
   "cell_type": "markdown",
   "id": "4ec3bffc",
   "metadata": {},
   "source": [
    "## Comments"
   ]
  },
  {
   "cell_type": "markdown",
   "id": "51030b38",
   "metadata": {},
   "source": [
    "Comments are, at best, a necessary evil. The proper use of comments is to compensate for our failure to express ourselves in code.\n",
    "\n",
    "If you find yourself needing to write a comment, see if there's not a better way to express yourself in code.\n",
    "\n",
    "**They can't be realistically maintained**."
   ]
  },
  {
   "cell_type": "markdown",
   "id": "52bd0136",
   "metadata": {},
   "source": [
    "### Comments Do Not Make Up for Bad Code"
   ]
  },
  {
   "cell_type": "markdown",
   "id": "e1444952",
   "metadata": {},
   "source": [
    "*\"Oh, I'd better comment that!\"* -› **NO! You'd better clean it!**"
   ]
  },
  {
   "cell_type": "markdown",
   "id": "ca8e185a",
   "metadata": {},
   "source": [
    "### Explain Yourself in Code"
   ]
  },
  {
   "cell_type": "markdown",
   "id": "41266689",
   "metadata": {},
   "source": [
    "#### Raw Code"
   ]
  },
  {
   "cell_type": "code",
   "execution_count": 23,
   "id": "2ff08fa4",
   "metadata": {
    "ExecuteTime": {
     "end_time": "2023-06-09T13:17:57.239943Z",
     "start_time": "2023-06-09T13:17:57.237832Z"
    }
   },
   "outputs": [
    {
     "name": "stdout",
     "output_type": "stream",
     "text": [
      "Full Benefits!\n"
     ]
    }
   ],
   "source": [
    "HOURLY_FLAG = True\n",
    "\n",
    "class employee:\n",
    "    \n",
    "    def __init__(self):\n",
    "        self.flags = True\n",
    "        self.age = 99\n",
    "        \n",
    "employee = employee()\n",
    "\n",
    "# Check if the employee is eligible for full benefits\n",
    "if (employee.flags and HOURLY_FLAG) and (employee.age > 65):\n",
    "    print('Full Benefits!')"
   ]
  },
  {
   "cell_type": "markdown",
   "id": "2e9286a1",
   "metadata": {},
   "source": [
    "#### Refactored Code"
   ]
  },
  {
   "cell_type": "code",
   "execution_count": 24,
   "id": "6400d30b",
   "metadata": {
    "ExecuteTime": {
     "end_time": "2023-06-09T13:17:57.242755Z",
     "start_time": "2023-06-09T13:17:57.240830Z"
    }
   },
   "outputs": [
    {
     "name": "stdout",
     "output_type": "stream",
     "text": [
      "Full Benefits!\n"
     ]
    }
   ],
   "source": [
    "class employee:\n",
    "    \n",
    "    def __init__(self):\n",
    "        self.flags = True\n",
    "        self.age = 99\n",
    "        self.HOURLY_FLAG = True\n",
    "        \n",
    "    def isEligibleForFullBenefits(self):\n",
    "        return (self.flags and self.HOURLY_FLAG) and (self.age > 65)\n",
    "\n",
    "employee = employee()\n",
    "\n",
    "if employee.isEligibleForFullBenefits():\n",
    "    print('Full Benefits!')"
   ]
  },
  {
   "cell_type": "markdown",
   "id": "1b35abc2",
   "metadata": {},
   "source": [
    "### Good Comments"
   ]
  },
  {
   "cell_type": "markdown",
   "id": "4867312c",
   "metadata": {},
   "source": [
    "There are legal comments, but keep in mind that the only truly good comment is the comment you found a way not to write."
   ]
  },
  {
   "cell_type": "markdown",
   "id": "9e13eb81",
   "metadata": {},
   "source": [
    "* **Legal Comments:**\n",
    "\n",
    "    - Licenses, copyrights, authorship, etc...\n",
    "\n",
    "* **Informative Comments:**\n",
    "\n",
    "    - It is sometimes useful to provide basic information with a comment.\n",
    "\n",
    "* **Explanation of Intent:**\n",
    "\n",
    "    - Sometimes there's no clear way to do something and it ends up being because of a decision that you made. That could be a good explanatory comment.\n",
    "\n",
    "* **Clarification:**\n",
    "    - Sometimes there's no way to make code clearer, and a clarification comment might help. Be wary that there's a high chance that the comment is or will be incorrect.\n",
    "    \n",
    "* **Warning of Consequences:**\n",
    "    - Sometimes it is useful to warn other programmers about certain consequences\n",
    "    \n",
    "* **TODO Comments**:\n",
    "    - TODO's are reasonable explanations as why degenerate code looks how it does and provides guidance on how to procede. It also works as a reminder.\n",
    " \n",
    "* **Amplification:**\n",
    "    - To amplify the importance of something that may otherwise seem inconsequential."
   ]
  },
  {
   "cell_type": "markdown",
   "id": "fa26288f",
   "metadata": {},
   "source": [
    "### Bad Comments"
   ]
  },
  {
   "cell_type": "markdown",
   "id": "0e1ae16a",
   "metadata": {},
   "source": [
    "* **Mumbling:**\n",
    "    - If you decide to write a comment, then spend the necessary time to make sure it is the best comment you can write.\n",
    "    \n",
    "* **Redundant Comments:**\n",
    "    - There are things that are better explained in code.\n",
    "    \n",
    "* **Misleading Comments:**\n",
    "    - A comment that isn't precise enough to be accurate.\n",
    "    \n",
    "* **Mandated Comments:**\n",
    "    - It is plain silly to have a rule that says that every function must have a doc.\n",
    "    \n",
    "* **Journal Comments:**\n",
    "    - Log of edits on files... there's `git commit -m 'Blah'` for that\n",
    "    \n",
    "* **Noise Comments:**\n",
    "    - Comments that restate the obvious and provide no new information.\n",
    "    \n",
    "* **Scary Noise:**\n",
    "    - If authors aren't paying attention when comments are written (or paste), why should readers be expected to profit from them?\n",
    "    \n",
    "* **Don't Use a Comment When You Can Use a Function or Variable:**\n",
    "    - Rephrase using code\n",
    "    \n",
    "* **Position Markers:**\n",
    "    - There are rare times when it makes sense. If it does, don't overdo it.\n",
    "    \n",
    "* **Closing Brace Comments:**\n",
    "    - If you find yourself marking the code, use smaller functions instead.\n",
    "    \n",
    "* **Attributions and Bylines:**\n",
    "    - Source controls are very good at remembering who added what.\n",
    "    \n",
    "* **Commented-Out Code:**\n",
    "    - Don't do this!\n",
    "    \n",
    "* **HTML Comments:**\n",
    "    - Why?\n",
    "    \n",
    "* **Nonlocal Information:**\n",
    "    - Don't offer systemwide information in the context of a local comment.\n",
    "    \n",
    "* **Too Much Information:**\n",
    "    - No need for discussions, descriptions into your comments.\n",
    "    \n",
    "* **Inobvious Connection:**\n",
    "    - The connection between a comment and the code it describes should be obvious.\n",
    "    \n",
    "* **Function Headers:**\n",
    "    - Short functions don't need much description."
   ]
  },
  {
   "cell_type": "markdown",
   "id": "49db8855",
   "metadata": {},
   "source": [
    "## Good Formatting"
   ]
  },
  {
   "cell_type": "markdown",
   "id": "30c4cc3b",
   "metadata": {},
   "source": [
    "We want code to show that a professional has been at work."
   ]
  },
  {
   "cell_type": "markdown",
   "id": "be8c7da6",
   "metadata": {},
   "source": [
    "### The Purpose of Formatting"
   ]
  },
  {
   "cell_type": "markdown",
   "id": "df3905c7",
   "metadata": {},
   "source": [
    "Code is read many more time than it is written, a good format make the first one easier and consistent."
   ]
  },
  {
   "cell_type": "markdown",
   "id": "3e57286d",
   "metadata": {},
   "source": [
    "### Vertical Formatting"
   ]
  },
  {
   "cell_type": "markdown",
   "id": "ffcb9dfc",
   "metadata": {},
   "source": [
    "Small files are usually easier to understand than large files are."
   ]
  },
  {
   "cell_type": "markdown",
   "id": "be3d5a9c",
   "metadata": {},
   "source": [
    "### The Newspaper Metaphor"
   ]
  },
  {
   "cell_type": "markdown",
   "id": "5550476f",
   "metadata": {},
   "source": [
    "Newspapers contain many articles, most are very small and very few contain as much text as a page can hold.\n",
    "\n",
    "First paragraph gives you a synopsis of the whole story, hiding all the details while providing a broad-brush concept. As you continue down, the details increase until you have all the details.\n",
    "\n",
    "File name should be simple but explanatory. The topmost should provide the high-level functions, and detail should increase as we go downward."
   ]
  },
  {
   "cell_type": "markdown",
   "id": "f354c3d5",
   "metadata": {},
   "source": [
    "### Vertical Openness Between Concepts"
   ]
  },
  {
   "cell_type": "markdown",
   "id": "be6a1b57",
   "metadata": {},
   "source": [
    "Each line represents an expression or clause, and each group of lines represents a complete thought. Those thoughts should be separated from each other with blank lines."
   ]
  },
  {
   "cell_type": "markdown",
   "id": "e51cfb82",
   "metadata": {},
   "source": [
    "### Vertical Density"
   ]
  },
  {
   "cell_type": "markdown",
   "id": "2f6beec2",
   "metadata": {},
   "source": [
    "If openness separates concepts, then vertical density implies close association. Don't break it."
   ]
  },
  {
   "cell_type": "markdown",
   "id": "bcda695e",
   "metadata": {},
   "source": [
    "### Vertical Distance"
   ]
  },
  {
   "cell_type": "markdown",
   "id": "4bc06555",
   "metadata": {},
   "source": [
    "Concepts that are closely related should be vertically close. Avoid forcing readers to hop in to a rabbit hole.\n",
    "\n",
    "* **Variable Declarations:**\n",
    "    - Variables should be declared as close to their usage as possible. \n",
    "    - Local variables should appear at the top of each function. \n",
    "    - Control variables for loops should be declared within the loop if possible.\n",
    "    \n",
    "* **Instance Variables:**\n",
    "    - Should be declared on the top of the class, or in a well-known place.\n",
    "\n",
    "* **Dependent Functions:**\n",
    "    - If one function calls another, they should be vertically close, the caller above the callee, giving the program a natural flow.\n",
    "\n",
    "* **Conceptual Affinity:**\n",
    "    - The stronger the concept affinity, the less vertical distance there should be between them.\n",
    "    \n",
    "* **Vertical Ordering:**\n",
    "    - Make the read flow from top to bottom as explained before."
   ]
  },
  {
   "cell_type": "markdown",
   "id": "4b12977c",
   "metadata": {},
   "source": [
    "### Horizontal Formatting"
   ]
  },
  {
   "cell_type": "markdown",
   "id": "13a1d70d",
   "metadata": {},
   "source": [
    "How wide should a line be? Programmers clearly prefer short lines. 80, 100 or 120, above that is careless to say the least."
   ]
  },
  {
   "cell_type": "markdown",
   "id": "5e1ab217",
   "metadata": {},
   "source": [
    "### Horizontal Openness and Density"
   ]
  },
  {
   "cell_type": "markdown",
   "id": "bbfebdde",
   "metadata": {},
   "source": [
    "Use horizontal whitespace to associate things that are strongly related and disassociate things that are more weakly related."
   ]
  },
  {
   "cell_type": "markdown",
   "id": "61dc14bc",
   "metadata": {},
   "source": [
    "#### Raw Code"
   ]
  },
  {
   "cell_type": "code",
   "execution_count": 25,
   "id": "a60f2023",
   "metadata": {
    "ExecuteTime": {
     "end_time": "2023-06-09T13:17:57.246007Z",
     "start_time": "2023-06-09T13:17:57.243818Z"
    }
   },
   "outputs": [],
   "source": [
    "class Quadratic:\n",
    "    @staticmethod\n",
    "    def root1(a,b,c):\n",
    "        determinant=Quadratic.determinant(a,b,c)\n",
    "        return (-b+math.sqrt(determinant))/(2*a)\n",
    "\n",
    "    @staticmethod\n",
    "    def root2(a,b,c):\n",
    "        determinant=Quadratic.determinant(a,b,c)\n",
    "        return (-b-math.sqrt(determinant))/(2*a)\n",
    "\n",
    "    @staticmethod\n",
    "    def determinant(a,b,c):\n",
    "        return b*b-4*a*c"
   ]
  },
  {
   "cell_type": "markdown",
   "id": "5275642c",
   "metadata": {},
   "source": [
    "#### Formatted Code"
   ]
  },
  {
   "cell_type": "code",
   "execution_count": 26,
   "id": "60142329",
   "metadata": {
    "ExecuteTime": {
     "end_time": "2023-06-09T13:17:57.248957Z",
     "start_time": "2023-06-09T13:17:57.246830Z"
    }
   },
   "outputs": [],
   "source": [
    "class Quadratic:\n",
    "    @staticmethod\n",
    "    def root1(a, b, c):\n",
    "        determinant = Quadratic.determinant(a, b, c)\n",
    "        return (-b + math.sqrt(determinant)) / (2*a)\n",
    "\n",
    "    @staticmethod\n",
    "    def root2(a, b, c):\n",
    "        determinant = Quadratic.determinant(a, b, c)\n",
    "        return (-b - math.sqrt(determinant)) / (2*a)\n",
    "\n",
    "    @staticmethod\n",
    "    def determinant(a, b, c):\n",
    "        return b*b - 4*a*c"
   ]
  },
  {
   "cell_type": "markdown",
   "id": "0172ec16",
   "metadata": {},
   "source": [
    "### Horizontal Alignment"
   ]
  },
  {
   "cell_type": "markdown",
   "id": "f7517900",
   "metadata": {},
   "source": [
    "Alignment seems to emphasize the wrong things and loose the correlation of each line."
   ]
  },
  {
   "cell_type": "markdown",
   "id": "3832d898",
   "metadata": {},
   "source": [
    "### Indentation"
   ]
  },
  {
   "cell_type": "markdown",
   "id": "cfbc09ae",
   "metadata": {},
   "source": [
    "You can rapidly discern the structure of the indented file."
   ]
  },
  {
   "cell_type": "markdown",
   "id": "1d6778cd",
   "metadata": {},
   "source": [
    "### Breaking Indentation"
   ]
  },
  {
   "cell_type": "markdown",
   "id": "710ead83",
   "metadata": {},
   "source": [
    "Avoid collapsing scopes."
   ]
  },
  {
   "cell_type": "markdown",
   "id": "408c68b7",
   "metadata": {},
   "source": [
    "### Team Rules"
   ]
  },
  {
   "cell_type": "markdown",
   "id": "a85f703e",
   "metadata": {},
   "source": [
    "A team of developers should agree on a single formatting style."
   ]
  },
  {
   "cell_type": "markdown",
   "id": "7e628f7e",
   "metadata": {},
   "source": [
    "### Formatting Standards"
   ]
  },
  {
   "cell_type": "markdown",
   "id": "7d84f53a",
   "metadata": {},
   "source": [
    "Nowadays, there are widespread standards, you might get along just following those."
   ]
  },
  {
   "cell_type": "markdown",
   "id": "24f0f2ee",
   "metadata": {},
   "source": [
    "## Objects and Data Structures"
   ]
  },
  {
   "cell_type": "markdown",
   "id": "84f6a701",
   "metadata": {},
   "source": [
    "### Data Abstraction"
   ]
  },
  {
   "cell_type": "markdown",
   "id": "22eda954",
   "metadata": {},
   "source": [
    "#### Raw Code"
   ]
  },
  {
   "cell_type": "code",
   "execution_count": 27,
   "id": "40507471",
   "metadata": {
    "ExecuteTime": {
     "end_time": "2023-06-09T13:17:57.255051Z",
     "start_time": "2023-06-09T13:17:57.253498Z"
    }
   },
   "outputs": [],
   "source": [
    "class Point:\n",
    "    def __init__(self, x, y):\n",
    "        self.x = x\n",
    "        self.y = y"
   ]
  },
  {
   "cell_type": "markdown",
   "id": "8e53d7f1",
   "metadata": {},
   "source": [
    "#### Abstracted Code"
   ]
  },
  {
   "cell_type": "code",
   "execution_count": 28,
   "id": "4741832a",
   "metadata": {
    "ExecuteTime": {
     "end_time": "2023-06-09T13:17:57.258046Z",
     "start_time": "2023-06-09T13:17:57.255882Z"
    }
   },
   "outputs": [],
   "source": [
    "class Point(ABC):\n",
    "\n",
    "    @abstractmethod\n",
    "    def get_x(self):\n",
    "        pass\n",
    "\n",
    "    @abstractmethod\n",
    "    def ge_y(self):\n",
    "        pass\n",
    "\n",
    "    @abstractmethod\n",
    "    def set_cartesian(self, x, y):\n",
    "        pass\n",
    "\n",
    "    @abstractmethod\n",
    "    def get_r(self):\n",
    "        pass\n",
    "\n",
    "    @abstractmethod\n",
    "    def get_theta(self):\n",
    "        pass\n",
    "\n",
    "    @abstractmethod\n",
    "    def set_polar(self, r, theta):\n",
    "        pass\n"
   ]
  },
  {
   "cell_type": "markdown",
   "id": "3ce4d3f0",
   "metadata": {},
   "source": [
    "Abstracted code is an abstract implementation that has stricti access policies that handle all the functionality while maintaining robustness, consistency, and expanding the possible functionalities without sacrificing structure."
   ]
  },
  {
   "cell_type": "markdown",
   "id": "04d7485a",
   "metadata": {},
   "source": [
    "### Data/Object Anti-symmetry"
   ]
  },
  {
   "cell_type": "markdown",
   "id": "480906fe",
   "metadata": {},
   "source": [
    "Objects hide their data behind abstractions and expose functions that operate on that data.\n",
    "\n",
    "Data-Structures expose their data and have no meaningful functions."
   ]
  },
  {
   "cell_type": "markdown",
   "id": "d8f7d549",
   "metadata": {},
   "source": [
    "#### The Procedural Approach"
   ]
  },
  {
   "cell_type": "markdown",
   "id": "578f28f5",
   "metadata": {},
   "source": [
    "##### Data Structure Code"
   ]
  },
  {
   "cell_type": "code",
   "execution_count": 29,
   "id": "5e6f39c5",
   "metadata": {
    "ExecuteTime": {
     "end_time": "2023-06-09T13:17:57.261293Z",
     "start_time": "2023-06-09T13:17:57.259009Z"
    }
   },
   "outputs": [],
   "source": [
    "class Point:\n",
    "    def __init__(self, x, y):\n",
    "        self.x = x\n",
    "        self.y = y\n",
    "\n",
    "class Square:\n",
    "    def __init__(self, x, y, side):\n",
    "        self.topLeft = Point(x, y)\n",
    "        self.side = side\n",
    "\n",
    "class Rectangle:\n",
    "    def __init__(self, x, y, height, width):\n",
    "        self.topLeft = Point(x, y)\n",
    "        self.height = height\n",
    "        self.width = width\n",
    "\n",
    "class Circle:\n",
    "    def __init__(self, x, y, r):\n",
    "        self.center = Point(x, y)\n",
    "        self.radius = r"
   ]
  },
  {
   "cell_type": "markdown",
   "id": "2c0b83bf",
   "metadata": {},
   "source": [
    "##### Object Code"
   ]
  },
  {
   "cell_type": "code",
   "execution_count": 30,
   "id": "31689cd0",
   "metadata": {
    "ExecuteTime": {
     "end_time": "2023-06-09T13:17:57.264280Z",
     "start_time": "2023-06-09T13:17:57.262285Z"
    }
   },
   "outputs": [],
   "source": [
    "class NoSuchShapeException(Exception):\n",
    "    pass\n",
    "\n",
    "class Geometry:\n",
    "    @staticmethod\n",
    "    def area(shape):\n",
    "        if isinstance(shape, Square):\n",
    "            return shape.side * shape.side\n",
    "        elif isinstance(shape, Rectangle):\n",
    "            return shape.height * shape.width\n",
    "        elif isinstance(shape, Circle):\n",
    "            return pi * shape.radius * shape.radius\n",
    "        else:\n",
    "            raise NoSuchShapeException(\"No such shape\")"
   ]
  },
  {
   "cell_type": "code",
   "execution_count": 31,
   "id": "93d282db",
   "metadata": {
    "ExecuteTime": {
     "end_time": "2023-06-09T13:17:57.266999Z",
     "start_time": "2023-06-09T13:17:57.265233Z"
    }
   },
   "outputs": [
    {
     "name": "stdout",
     "output_type": "stream",
     "text": [
      "Square Area is: 100\n",
      "Circle Area is: 314.16\n"
     ]
    }
   ],
   "source": [
    "square = Square(0, 0, 10)\n",
    "circle = Circle(0, 0, 10)\n",
    "\n",
    "print(f'Square Area is: {Geometry.area(square)}')\n",
    "print(f'Circle Area is: {Geometry.area(circle):.2f}')"
   ]
  },
  {
   "cell_type": "markdown",
   "id": "8be16a66",
   "metadata": {},
   "source": [
    "It has the benefit of having all the methods in a single place. If you were to add the `perimeter` function, you should just update the `Geometry` class.\n",
    "\n",
    "But if a new `Shape` need to be added, all `Geometry` functions need to be modified."
   ]
  },
  {
   "cell_type": "markdown",
   "id": "2c7c5386",
   "metadata": {},
   "source": [
    "##### Updated Code"
   ]
  },
  {
   "cell_type": "code",
   "execution_count": 32,
   "id": "318fa61f",
   "metadata": {
    "ExecuteTime": {
     "end_time": "2023-06-09T13:17:57.272176Z",
     "start_time": "2023-06-09T13:17:57.267862Z"
    }
   },
   "outputs": [],
   "source": [
    "class NoSuchShapeException(Exception):\n",
    "    pass\n",
    "\n",
    "class Geometry:\n",
    "    @staticmethod\n",
    "    def area(shape):\n",
    "        if isinstance(shape, Square):\n",
    "            return shape.side * shape.side\n",
    "        elif isinstance(shape, Rectangle):\n",
    "            return shape.height * shape.width\n",
    "        elif isinstance(shape, Circle):\n",
    "            return pi * shape.radius * shape.radius\n",
    "        else:\n",
    "            raise NoSuchShapeException(\"No such shape\")\n",
    "            \n",
    "    def perimeter(shape):\n",
    "        if isinstance(shape, Square):\n",
    "            return 4 * shape.side\n",
    "        elif isinstance(shape, Rectangle):\n",
    "            return 2 * shape.height + 2 * shape.width\n",
    "        elif isinstance(shape, Circle):\n",
    "            return 2 * pi * shape.radius\n",
    "        else:\n",
    "            raise NoSuchShapeException(\"No such shape\")"
   ]
  },
  {
   "cell_type": "code",
   "execution_count": 33,
   "id": "06d5e53f",
   "metadata": {
    "ExecuteTime": {
     "end_time": "2023-06-09T13:17:57.275288Z",
     "start_time": "2023-06-09T13:17:57.273285Z"
    }
   },
   "outputs": [
    {
     "name": "stdout",
     "output_type": "stream",
     "text": [
      "Square Perimeter is: 40\n",
      "Circle Perimeter is: 62.83\n"
     ]
    }
   ],
   "source": [
    "square = Square(0, 0, 10)\n",
    "circle = Circle(0, 0, 10)\n",
    "\n",
    "print(f'Square Perimeter is: {Geometry.perimeter(square)}')\n",
    "print(f'Circle Perimeter is: {Geometry.perimeter(circle):.2f}')"
   ]
  },
  {
   "cell_type": "markdown",
   "id": "94268637",
   "metadata": {},
   "source": [
    "#### The Object-Oriented Approach"
   ]
  },
  {
   "cell_type": "markdown",
   "id": "22af8a69",
   "metadata": {},
   "source": [
    "##### Object-Oriented Code"
   ]
  },
  {
   "cell_type": "code",
   "execution_count": 34,
   "id": "4b9330cb",
   "metadata": {
    "ExecuteTime": {
     "end_time": "2023-06-09T13:17:57.279121Z",
     "start_time": "2023-06-09T13:17:57.276025Z"
    }
   },
   "outputs": [],
   "source": [
    "class Point:\n",
    "    def __init__(self, x, y):\n",
    "        self.x = x\n",
    "        self.y = y\n",
    "\n",
    "class Shape(ABC):\n",
    "    @abstractmethod\n",
    "    def area(self):\n",
    "        pass\n",
    "\n",
    "class Square(Shape):\n",
    "    def __init__(self, x, y, side):\n",
    "        self.topLeft = Point(x, y)\n",
    "        self.side = side\n",
    "\n",
    "    def area(self):\n",
    "        return self.side * self.side\n",
    "\n",
    "class Rectangle(Shape):\n",
    "    def __init__(self, x, y, height, width):\n",
    "        self.topLeft = Point(x, y)\n",
    "        self.height = height\n",
    "        self.width = width\n",
    "\n",
    "    def area(self):\n",
    "        return self.height * self.width\n",
    "\n",
    "class Circle(Shape):\n",
    "    def __init__(self, x, y, r):\n",
    "        self.center = Point(x, y)\n",
    "        self.radius = r\n",
    "\n",
    "    def area(self):\n",
    "        return pi * self.radius * self.radius"
   ]
  },
  {
   "cell_type": "code",
   "execution_count": 35,
   "id": "3b954128",
   "metadata": {
    "ExecuteTime": {
     "end_time": "2023-06-09T13:17:57.281996Z",
     "start_time": "2023-06-09T13:17:57.279927Z"
    }
   },
   "outputs": [
    {
     "name": "stdout",
     "output_type": "stream",
     "text": [
      "Square Area is: 100\n",
      "Circle Area is: 314.16\n"
     ]
    }
   ],
   "source": [
    "square = Square(0, 0, 10)\n",
    "circle = Circle(0, 0, 10)\n",
    "\n",
    "print(f'Square Area is: {square.area()}')\n",
    "print(f'Circle Area is: {circle.area():.2f}')"
   ]
  },
  {
   "cell_type": "markdown",
   "id": "6590a493",
   "metadata": {},
   "source": [
    "##### Updated Code"
   ]
  },
  {
   "cell_type": "code",
   "execution_count": 36,
   "id": "725b7873",
   "metadata": {
    "ExecuteTime": {
     "end_time": "2023-06-09T13:17:57.289101Z",
     "start_time": "2023-06-09T13:17:57.283108Z"
    }
   },
   "outputs": [],
   "source": [
    "class Point:\n",
    "    def __init__(self, x, y):\n",
    "        self.x = x\n",
    "        self.y = y\n",
    "\n",
    "class Shape(ABC):\n",
    "    @abstractmethod\n",
    "    def area(self):\n",
    "        pass\n",
    "    @abstractmethod\n",
    "    def perimeter(self):\n",
    "        pass\n",
    "\n",
    "class Square(Shape):\n",
    "    def __init__(self, x, y, side):\n",
    "        self.topLeft = Point(x, y)\n",
    "        self.side = side\n",
    "\n",
    "    def area(self):\n",
    "        return self.side * self.side\n",
    "    \n",
    "    def perimeter(self):\n",
    "        return 4 * self.side\n",
    "\n",
    "class Rectangle(Shape):\n",
    "    def __init__(self, x, y, height, width):\n",
    "        self.topLeft = Point(x, y)\n",
    "        self.height = height\n",
    "        self.width = width\n",
    "\n",
    "    def area(self):\n",
    "        return self.height * self.width\n",
    "    \n",
    "    def perimeter(self):\n",
    "        return 2 * self.height + 2 * self.width\n",
    "\n",
    "class Circle(Shape):\n",
    "    def __init__(self, x, y, r):\n",
    "        self.center = Point(x, y)\n",
    "        self.radius = r\n",
    "\n",
    "    def area(self):\n",
    "        return pi * self.radius * self.radius\n",
    "    \n",
    "    def perimeter(self):\n",
    "        return 2 * pi * self.radius"
   ]
  },
  {
   "cell_type": "code",
   "execution_count": 37,
   "id": "57564e25",
   "metadata": {
    "ExecuteTime": {
     "end_time": "2023-06-09T13:17:57.298287Z",
     "start_time": "2023-06-09T13:17:57.294626Z"
    }
   },
   "outputs": [
    {
     "name": "stdout",
     "output_type": "stream",
     "text": [
      "Square Perimeter is: 40\n",
      "Circle Perimeter is: 62.83\n"
     ]
    }
   ],
   "source": [
    "square = Square(0, 0, 10)\n",
    "circle = Circle(0, 0, 10)\n",
    "\n",
    "print(f'Square Perimeter is: {square.perimeter()}')\n",
    "print(f'Circle Perimeter is: {circle.perimeter():.2f}')"
   ]
  },
  {
   "cell_type": "markdown",
   "id": "9cdf8f03",
   "metadata": {},
   "source": [
    "If a new `Shape` is added nothing needs to be modified.\n",
    "\n",
    "But if you add a new function, all `Shape` objects need to be modified."
   ]
  },
  {
   "cell_type": "markdown",
   "id": "03df62fa",
   "metadata": {},
   "source": [
    "##### Conclusion"
   ]
  },
  {
   "cell_type": "markdown",
   "id": "02c630e7",
   "metadata": {},
   "source": [
    "* ***Procedural code (code using data structures) makes it easy to add new functions without changing the existing data structures. Object-Oriented code makes it easy to add new classes without changing the existing functions.***\n",
    "\n",
    "* ***Procedural code makes it hard to add new data structures because all the functions must change. Object-Oriented code makes it hard to add new functions because all the classes must change.***"
   ]
  },
  {
   "cell_type": "markdown",
   "id": "bdca5f17",
   "metadata": {},
   "source": [
    "### The Law of Demeter"
   ]
  },
  {
   "cell_type": "markdown",
   "id": "06d707e3",
   "metadata": {},
   "source": [
    "A module should not know about the innards of the objects it manipulates.\n",
    "\n",
    "*The Law of Demeter says that:*\n",
    "\n",
    "- *A method `f` of a `class C` should only call the methods of these:*\n",
    "    - *`class C`*\n",
    "    - *An object created by `f`\n",
    "    - *An object passed as an argument to `f`*\n",
    "    - *An object held in an instance variable of `class C`*\n",
    "    \n",
    "***Talk to friends, not strangers.***"
   ]
  },
  {
   "cell_type": "markdown",
   "id": "c04841fd",
   "metadata": {},
   "source": [
    "### Train Wrecks"
   ]
  },
  {
   "cell_type": "markdown",
   "id": "82c6129e",
   "metadata": {},
   "source": [
    "#### Raw Code"
   ]
  },
  {
   "cell_type": "markdown",
   "id": "f3901114",
   "metadata": {
    "ExecuteTime": {
     "end_time": "2023-05-14T11:09:49.076322Z",
     "start_time": "2023-05-14T11:09:49.053663Z"
    }
   },
   "source": [
    "`output_dir = ctxt.get_options().get_scratch_dir().get_absolute_path()`"
   ]
  },
  {
   "cell_type": "markdown",
   "id": "bfa08da7",
   "metadata": {},
   "source": [
    "Chains of calls like this are generally considered to be sloppy style and should be avoided."
   ]
  },
  {
   "cell_type": "markdown",
   "id": "8f64abf4",
   "metadata": {},
   "source": [
    "#### Refactored Code"
   ]
  },
  {
   "cell_type": "markdown",
   "id": "81883847",
   "metadata": {},
   "source": [
    "`options = ctxt.get_options()`  \n",
    "`scratch_dir = options.get_scratch_dir()`  \n",
    "`output_dir = scratch_dir.get_absolute_path()`"
   ]
  },
  {
   "cell_type": "markdown",
   "id": "b25e2195",
   "metadata": {},
   "source": [
    "Still, the containing module knows that the `ctxt` object contains `options`, which contain `scratch_dir`, which contain `output_dir`, which is a lot of knowledge for a single function."
   ]
  },
  {
   "cell_type": "markdown",
   "id": "11efbe51",
   "metadata": {},
   "source": [
    "#### The Law of Demeter"
   ]
  },
  {
   "cell_type": "markdown",
   "id": "5f6edf4b",
   "metadata": {},
   "source": [
    "*The Law of Demeter* is violated in this snippet if `ctxt`, `options` and `scratch_dir` are objects themselves, because their internal structure should be hidden for higher level functions.\n",
    "\n",
    "Maybe the `ctxt`'s object information should be implemented as attributes.\n",
    "\n",
    "But if `ctxt`, `options` and `scratch_dir` are Data Structures with no behavior, then its natural that their internal structure is exposed, which doesn't violate *The Law of Demeter*."
   ]
  },
  {
   "cell_type": "markdown",
   "id": "4c104257",
   "metadata": {},
   "source": [
    "### Hybrids"
   ]
  },
  {
   "cell_type": "markdown",
   "id": "4316ccbc",
   "metadata": {},
   "source": [
    "Hybrid structures that are half objects and hald data structures. They are the worst of both worlds! Avoid them."
   ]
  },
  {
   "cell_type": "markdown",
   "id": "02c182e5",
   "metadata": {},
   "source": [
    "### Hiding Structure"
   ]
  },
  {
   "cell_type": "markdown",
   "id": "a8216078",
   "metadata": {},
   "source": [
    "If `ctxt`, `options` and `scratch_dir` are objects with real behavior one could be tempted to do:\n",
    "\n",
    "`output_dir = ctxt.get_absolute_path_of_scratch_dir_option()`\n",
    "\n",
    "But that approach, in essence would lead to an explosion of methods, where `ctxt` needs a method for each method of each of its attributes and so on...\n",
    "\n",
    "If `ctxt` is an object **we should be telling it to to something**, not asking about its internals.\n",
    "\n",
    "As the reason for obtaining `output_dir` path was to create a directory with that name, we could just tell the `ctxt` object to do that.\n",
    "\n",
    "`ctxt.create_scratch_file_stream(file_name)`"
   ]
  },
  {
   "cell_type": "markdown",
   "id": "ad9af91d",
   "metadata": {},
   "source": [
    "### Data Transfer Objects"
   ]
  },
  {
   "cell_type": "markdown",
   "id": "9e61fab7",
   "metadata": {},
   "source": [
    "The quintessential of a Data Structure class. A class with public variables and no functions.\n",
    "\n",
    "This is called a Data Transfer Object.\n",
    "\n",
    "Useful when communicating with databases or parsing messages from sockets.\n",
    "\n",
    "The *Bean* structure is practically the same, but with attributed approached with setters and getters."
   ]
  },
  {
   "cell_type": "markdown",
   "id": "260f3691",
   "metadata": {},
   "source": [
    "#### DTO Code"
   ]
  },
  {
   "cell_type": "code",
   "execution_count": 38,
   "id": "3bfa59cf",
   "metadata": {
    "ExecuteTime": {
     "end_time": "2023-06-09T13:17:57.306641Z",
     "start_time": "2023-06-09T13:17:57.302649Z"
    }
   },
   "outputs": [],
   "source": [
    "class Address:\n",
    "    def __init__(self, street, street_extra, city, state, zip_code):\n",
    "        self.street = street\n",
    "        self.street_extra = street_extra\n",
    "        self.city = city\n",
    "        self.state = state\n",
    "        self.zip_code = zip_code"
   ]
  },
  {
   "cell_type": "code",
   "execution_count": 39,
   "id": "3f59867d",
   "metadata": {
    "ExecuteTime": {
     "end_time": "2023-06-09T13:17:57.318116Z",
     "start_time": "2023-06-09T13:17:57.310858Z"
    }
   },
   "outputs": [
    {
     "name": "stdout",
     "output_type": "stream",
     "text": [
      "Address street is: street\n",
      "Address does have the city attribute!\n"
     ]
    }
   ],
   "source": [
    "address = Address('street', 'street_extra', 'city', 'state', 'zip_code')\n",
    "\n",
    "print(f'Address street is: {address.street}')\n",
    "if not hasattr(address, 'city'):\n",
    "    print('Address does not have the city attribute, it has been hidden!')\n",
    "else:\n",
    "    print('Address does have the city attribute!')"
   ]
  },
  {
   "cell_type": "markdown",
   "id": "fc1d33c9",
   "metadata": {},
   "source": [
    "#### Bean Code"
   ]
  },
  {
   "cell_type": "code",
   "execution_count": 40,
   "id": "07401380",
   "metadata": {
    "ExecuteTime": {
     "end_time": "2023-06-09T13:17:57.323986Z",
     "start_time": "2023-06-09T13:17:57.319091Z"
    }
   },
   "outputs": [],
   "source": [
    "class Address:\n",
    "    def __init__(self, street, street_extra, city, state, zip_code):\n",
    "        self.__street = street\n",
    "        self.__street_extra = street_extra\n",
    "        self.__city = city\n",
    "        self.__state = state\n",
    "        self.__zip_code = zip_code\n",
    "\n",
    "    def get_street(self):\n",
    "        return self.__street\n",
    "\n",
    "    def get_street_extra(self):\n",
    "        return self.__street_extra\n",
    "\n",
    "    def get_city(self):\n",
    "        return self.__city\n",
    "\n",
    "    def get_state(self):\n",
    "        return self.__state\n",
    "\n",
    "    def get_zip(self):\n",
    "        return self.__zip_code"
   ]
  },
  {
   "cell_type": "code",
   "execution_count": 41,
   "id": "53f2d82f",
   "metadata": {
    "ExecuteTime": {
     "end_time": "2023-06-09T13:17:57.330897Z",
     "start_time": "2023-06-09T13:17:57.326741Z"
    }
   },
   "outputs": [
    {
     "name": "stdout",
     "output_type": "stream",
     "text": [
      "Address street is: street\n",
      "Address does not have the city attribute, it has been hidden!\n"
     ]
    }
   ],
   "source": [
    "address = Address('street', 'street_extra', 'city', 'state', 'zip_code')\n",
    "\n",
    "print(f'Address street is: {address.get_street()}')\n",
    "if not (hasattr(address, 'city') or hasattr(address, '__city')):\n",
    "    print('Address does not have the city attribute, it has been hidden!')\n",
    "else:\n",
    "    print('Address does have the city attribute!')"
   ]
  },
  {
   "cell_type": "markdown",
   "id": "d08e8f49",
   "metadata": {},
   "source": [
    "### Active Record"
   ]
  },
  {
   "cell_type": "markdown",
   "id": "10066abe",
   "metadata": {},
   "source": [
    "Active Records are a special form of Data Transfer Objects. Data Structures with public, or *Bean*, accessed variables but with typical navigation methods like `save` and `find`.\n",
    "\n",
    "They usually end up having complex functions that enforce the needed standards, which creates a hybrid between a Data Structure and an Object.\n",
    "\n",
    "The solution is to treat Active Record as a Data Structure and create an Object that just instances Active Records, but applies all the complex functionality, as an object should."
   ]
  },
  {
   "cell_type": "markdown",
   "id": "75260a2a",
   "metadata": {},
   "source": [
    "### Conclusion"
   ]
  },
  {
   "cell_type": "markdown",
   "id": "64fffa83",
   "metadata": {},
   "source": [
    "Objects expose behavior and hide data. This makes it easy to add new kinds of objects without changing existing behaviors, but makes it hard to add new behaviors to existing objects.\n",
    "\n",
    "Data Structures expose data and have no significant behavior. This makes it easy to add new behaviors to existing data structures, but makes it hard to add new data structures to existing functions.\n",
    "\n",
    "Good software developers understand these issues without prejudice and choose the approach that is best for the jab at hand."
   ]
  },
  {
   "cell_type": "markdown",
   "id": "9a6e759e",
   "metadata": {},
   "source": [
    "## Error Handling"
   ]
  },
  {
   "cell_type": "markdown",
   "id": "c619b9a3",
   "metadata": {},
   "source": [
    "Things can go wrong, and when they do, its our responsability to make sure that our codes does what it needs to do."
   ]
  },
  {
   "cell_type": "markdown",
   "id": "b052146b",
   "metadata": {},
   "source": [
    "### Use Exceptions Rather Than Return Codes"
   ]
  },
  {
   "cell_type": "markdown",
   "id": "12c185bf",
   "metadata": {},
   "source": [
    "#### Raw Code"
   ]
  },
  {
   "cell_type": "code",
   "execution_count": 42,
   "id": "e29c2724",
   "metadata": {
    "ExecuteTime": {
     "end_time": "2023-06-09T13:17:57.338076Z",
     "start_time": "2023-06-09T13:17:57.333718Z"
    }
   },
   "outputs": [],
   "source": [
    "class DeviceController:\n",
    "    #...\n",
    "\n",
    "    def send_shut_down(self):\n",
    "        handle = self.get_handle(DEV1)  \n",
    "        if handle != DeviceHandle.INVALID: \n",
    "            self.retrieve_device_record(handle)\n",
    "            if self.record.get_status() != DEVICE_SUSPENDED: \n",
    "                self.pause_device(handle)\n",
    "                self.clear_device_work_queue(handle)\n",
    "                self.close_device(handle)\n",
    "            else:\n",
    "                self.logger.log(\"Device suspended. Unable to shut down\")\n",
    "        else:\n",
    "            self.logger.log(\"Invalid handle for: \" + str(DEV1))\n",
    "\n",
    "    #..."
   ]
  },
  {
   "cell_type": "markdown",
   "id": "b8dcba2d",
   "metadata": {},
   "source": [
    "This clutters the caller and forces it to verify for errors after the call, which is easy to forget."
   ]
  },
  {
   "cell_type": "markdown",
   "id": "d7bceb6d",
   "metadata": {},
   "source": [
    "#### Refactored Code"
   ]
  },
  {
   "cell_type": "code",
   "execution_count": 43,
   "id": "5b05d665",
   "metadata": {
    "ExecuteTime": {
     "end_time": "2023-06-09T13:17:57.344053Z",
     "start_time": "2023-06-09T13:17:57.339395Z"
    }
   },
   "outputs": [],
   "source": [
    "class DeviceController:\n",
    "    # ...\n",
    "\n",
    "    def send_shut_down(self):\n",
    "        try:\n",
    "            self.try_to_shut_down()\n",
    "        except DeviceShutDownError as e:  \n",
    "            self.logger.log(e) \n",
    "\n",
    "    def try_to_shut_down(self):\n",
    "        handle = self.get_handle(DEV1)  \n",
    "        record = self.retrieve_device_record(handle)\n",
    "        self.pause_device(handle)\n",
    "        self.clear_device_work_queue(handle)\n",
    "        self.close_device(handle)\n",
    "\n",
    "    def get_handle(self, dev_id):\n",
    "        # ...\n",
    "        raise DeviceShutDownError(\"Invalid handle for: \" + str(dev_id))\n",
    "        # ...\n",
    "\n",
    "    # ..."
   ]
  },
  {
   "cell_type": "markdown",
   "id": "63b9cb6d",
   "metadata": {},
   "source": [
    "### Write your Try-Catch-Finally Statement First"
   ]
  },
  {
   "cell_type": "markdown",
   "id": "72729089",
   "metadata": {},
   "source": [
    "This helps to define what the user of that code should expect, no matter what goes wrong with the code that is executed in the `try`.\n",
    "\n",
    "Try to write tests that force `Expcetions`, and then add behavior to your handler to satisfy your tests. This will lead you to build the transaction scope of the `try` block first and will help you maintain the transaction nature of the scope."
   ]
  },
  {
   "cell_type": "markdown",
   "id": "ef890091",
   "metadata": {},
   "source": [
    "### Use Unchecked Exceptions"
   ]
  },
  {
   "cell_type": "markdown",
   "id": "f538b8da",
   "metadata": {},
   "source": [
    "Old *Java* functionality that is almost deprecated and not implemented in most other languages.\n",
    "\n",
    "They can sometimes be useful if your are writing a critical libray: **You MUST catch them**.\n",
    "\n",
    "But in general application development the dependency costs outweight the benefits."
   ]
  },
  {
   "cell_type": "markdown",
   "id": "ccf05c82",
   "metadata": {},
   "source": [
    "### Provide Context with Exceptions"
   ]
  },
  {
   "cell_type": "markdown",
   "id": "00c9b449",
   "metadata": {},
   "source": [
    "Each `Exception` that you throw should provide enough context to determine the source and location of the error.\n",
    "\n",
    "Create informative messages, by mentioning the operation that failed and the type of failure, and pass them along."
   ]
  },
  {
   "cell_type": "markdown",
   "id": "c8415b77",
   "metadata": {},
   "source": [
    "### Define Exception Classes in Terms of a Caller's Needs"
   ]
  },
  {
   "cell_type": "markdown",
   "id": "fd3896af",
   "metadata": {},
   "source": [
    "There are many ways to classify errors, by source or by type, but the most important information is *How or where they are caught*."
   ]
  },
  {
   "cell_type": "markdown",
   "id": "a77cae57",
   "metadata": {},
   "source": [
    "#### Raw Code"
   ]
  },
  {
   "cell_type": "code",
   "execution_count": 44,
   "id": "a3044b4c",
   "metadata": {
    "ExecuteTime": {
     "end_time": "2023-06-09T13:17:57.350934Z",
     "start_time": "2023-06-09T13:17:57.346200Z"
    }
   },
   "outputs": [],
   "source": [
    "class ACMEport:\n",
    "    \n",
    "    def connect(self):\n",
    "        try:\n",
    "            port.open()\n",
    "        except DeviceResponseException as e: \n",
    "            self.report_port_error(e) \n",
    "            self.logger.log(\"Device response exception\", e) \n",
    "        except ATM1212UnlockedException as e:  \n",
    "            self.report_port_error(e)\n",
    "            self.logger.log(\"Unlock exception\", e)\n",
    "        except GMXError as e:  \n",
    "            self.report_port_error(e)\n",
    "            self.logger.log(\"Device response exception\")\n",
    "        finally:\n",
    "            # ...\n",
    "            pass"
   ]
  },
  {
   "cell_type": "markdown",
   "id": "c0710c8c",
   "metadata": {},
   "source": [
    "This codes handles each of the possible codes of an external library, creating many dependencies with external functionality."
   ]
  },
  {
   "cell_type": "markdown",
   "id": "f7933c53",
   "metadata": {},
   "source": [
    "#### Refactored Code"
   ]
  },
  {
   "cell_type": "code",
   "execution_count": 45,
   "id": "5de117cd",
   "metadata": {
    "ExecuteTime": {
     "end_time": "2023-06-09T13:17:57.356596Z",
     "start_time": "2023-06-09T13:17:57.353054Z"
    }
   },
   "outputs": [],
   "source": [
    "class LocalPort:\n",
    "    def __init__(self, port_number):\n",
    "        self.inner_port = ACMEPort(port_number)  \n",
    "\n",
    "    def open(self):\n",
    "        try:\n",
    "            self.inner_port.open()\n",
    "        except (DeviceResponseException, ATM1212UnlockedException, GMXError) as e:  \n",
    "            raise PortDeviceFailure(e) \n",
    "\n",
    "    # ...\n",
    "\n",
    "    \n",
    "class LocalPort:\n",
    "    def connect(self):\n",
    "        try:\n",
    "            port.open()\n",
    "        except PortDeviceFailure as e: \n",
    "            self.report_error(e)  \n",
    "            self.logger.log(e.message, e) \n",
    "        finally:\n",
    "            # ...\n",
    "            pass"
   ]
  },
  {
   "cell_type": "markdown",
   "id": "d28991ac",
   "metadata": {},
   "source": [
    "Here all the possible `Exceptions` of the external library are handled in a single wrapper of the public API. By doing this, dependecies are reduced and codes looks cleaner."
   ]
  },
  {
   "cell_type": "markdown",
   "id": "27bf2826",
   "metadata": {},
   "source": [
    "### Define the Normal Flow"
   ]
  },
  {
   "cell_type": "markdown",
   "id": "b6eaeea8",
   "metadata": {},
   "source": [
    "By following the previous advice, you'll have a clear distinction between the intended flow and the possibles error handling.\n",
    "\n",
    "But sometimes, there's a *Special Case* that needs to be handled. By recurring to the *Special Case Pattern*, create an object or configure a class to handle it. If you do, the client code doesn't need to deal with the exceptional behavior. And the behavior is encapsulated in the special case object."
   ]
  },
  {
   "cell_type": "markdown",
   "id": "d28558ba",
   "metadata": {},
   "source": [
    "### Don't Return Null/None"
   ]
  },
  {
   "cell_type": "markdown",
   "id": "f6023770",
   "metadata": {},
   "source": [
    "When we return `null` we are creating extra work and foisting problems upon our callers. Consider throwing an `Expcetion` or handling a *Special Case*."
   ]
  },
  {
   "cell_type": "markdown",
   "id": "146997fa",
   "metadata": {},
   "source": [
    "### Don't Pass Null/None"
   ]
  },
  {
   "cell_type": "markdown",
   "id": "68e77974",
   "metadata": {},
   "source": [
    "Returning `null` is bad, but passing `null` is worse. There is no good way that you can deal with it.\n",
    "\n",
    "The rational approach is to forbid passing `null` by default. If you do, you can code with the knowledge that a `null` means something went wrong."
   ]
  },
  {
   "cell_type": "markdown",
   "id": "f01a027c",
   "metadata": {},
   "source": [
    "### Conclusion"
   ]
  },
  {
   "cell_type": "markdown",
   "id": "29d44b09",
   "metadata": {},
   "source": [
    "Clean code is readable, but it must also be robust. These are not conflicting goals.\n",
    "\n",
    "By handling errors as a separate concern, we can keep our code clean and foster maintainability."
   ]
  },
  {
   "cell_type": "markdown",
   "id": "891aac6d",
   "metadata": {},
   "source": [
    "## Boundaries"
   ]
  },
  {
   "cell_type": "markdown",
   "id": "c0f7e672",
   "metadata": {},
   "source": [
    "### Using Third-Party Code"
   ]
  },
  {
   "cell_type": "markdown",
   "id": "6d12d4b2",
   "metadata": {},
   "source": [
    "Tension between the provided interface catering for a wide range of users, and the particular needs of the users.\n",
    "\n",
    "If you use Third-Party code, leave it encapsulated in a class, or close family of classes, and avoid passing it around. If the Third-Party code changes, you can adapt the classes where it was encapsulated and avoided the changes spreading around your code."
   ]
  },
  {
   "cell_type": "markdown",
   "id": "f9771e7a",
   "metadata": {},
   "source": [
    "### Exploring and Learning Boundaries"
   ]
  },
  {
   "cell_type": "markdown",
   "id": "2e91eb02",
   "metadata": {},
   "source": [
    "It's not our job to test the Third-Party code, but it may be in our best interest to write tests for the Third-Party code we use. Avoid long debugging sessions that come from misuse of that code and learn to use the Third-Party code by writing *learning tests*, controlled experiments that check our understanding of that API, focusing on what we want."
   ]
  },
  {
   "cell_type": "markdown",
   "id": "1f441841",
   "metadata": {},
   "source": [
    "### Learning `logging`"
   ]
  },
  {
   "cell_type": "markdown",
   "id": "62249680",
   "metadata": {},
   "source": [
    "We want to use Python's `logging` third party library to run the logging of our code, but we don't know how to do it.\n",
    "\n",
    "After a quick read of the documentation we want to implement it."
   ]
  },
  {
   "cell_type": "code",
   "execution_count": 57,
   "id": "591bcb80",
   "metadata": {
    "ExecuteTime": {
     "end_time": "2023-06-09T14:56:20.452082Z",
     "start_time": "2023-06-09T14:56:20.445366Z"
    }
   },
   "outputs": [],
   "source": [
    "import logging\n",
    "\n",
    "class TestLogging(unittest.TestCase):\n",
    "    \n",
    "    @patch('sys.stdout', new_callable=StringIO)\n",
    "    def test_log_create(self, mock_stdout):\n",
    "        \n",
    "        logger = logging.getLogger(\"MyLogger\")\n",
    "        logger.setLevel(logging.INFO)\n",
    "\n",
    "        logger.info(\"hello\")\n",
    "        \n",
    "        self.assertIn(\"hello\", mock_stdout.getvalue()) # Verify that the message was printed to console"
   ]
  },
  {
   "cell_type": "code",
   "execution_count": 58,
   "id": "14b62f3c",
   "metadata": {
    "ExecuteTime": {
     "end_time": "2023-06-09T14:56:20.661448Z",
     "start_time": "2023-06-09T14:56:20.650754Z"
    }
   },
   "outputs": [
    {
     "name": "stderr",
     "output_type": "stream",
     "text": [
      "F\n",
      "======================================================================\n",
      "FAIL: test_log_create (__main__.TestLogging)\n",
      "----------------------------------------------------------------------\n",
      "Traceback (most recent call last):\n",
      "  File \"/Library/Frameworks/Python.framework/Versions/3.10/lib/python3.10/unittest/mock.py\", line 1369, in patched\n",
      "    return func(*newargs, **newkeywargs)\n",
      "  File \"/var/folders/58/7w2smkbj0nj898x67b6w304h0000gn/T/ipykernel_52317/2000059249.py\", line 13, in test_log_create\n",
      "    self.assertIn(\"hello\", mock_stdout.getvalue()) # Verify that the message was printed to console\n",
      "AssertionError: 'hello' not found in ''\n",
      "\n",
      "----------------------------------------------------------------------\n",
      "Ran 1 test in 0.003s\n",
      "\n",
      "FAILED (failures=1)\n"
     ]
    },
    {
     "data": {
      "text/plain": [
       "<unittest.main.TestProgram at 0x1188e1900>"
      ]
     },
     "execution_count": 58,
     "metadata": {},
     "output_type": "execute_result"
    }
   ],
   "source": [
    "# Run the tests\n",
    "unittest.main(argv=[''], exit=False)"
   ]
  },
  {
   "cell_type": "markdown",
   "id": "a91e9e3c",
   "metadata": {},
   "source": [
    "The test fails... We are correctly defining our `logger` but the output has not been printed to console.\n",
    "\n",
    "After searching for solutions for our problem we find that we are lacking a `ConsoleHandler`."
   ]
  },
  {
   "cell_type": "code",
   "execution_count": 61,
   "id": "437c08e3",
   "metadata": {
    "ExecuteTime": {
     "end_time": "2023-06-09T15:11:38.922545Z",
     "start_time": "2023-06-09T15:11:38.908370Z"
    }
   },
   "outputs": [],
   "source": [
    "class TestLogging(unittest.TestCase):\n",
    "    @patch('sys.stdout', new_callable=StringIO)\n",
    "    def test_log_add_handler(self, mock_stdout):\n",
    "        logger = logging.getLogger(\"MyLogger\")\n",
    "        logger.setLevel(logging.INFO)\n",
    "\n",
    "        console_handler = logging.StreamHandler()\n",
    "        logger.addHandler(console_handler)\n",
    "\n",
    "        logger.info(\"hello\")\n",
    "\n",
    "        self.assertIn(\"hello\", mock_stdout.getvalue()) # Verify that the message was printed to console"
   ]
  },
  {
   "cell_type": "code",
   "execution_count": 62,
   "id": "cf6a8665",
   "metadata": {
    "ExecuteTime": {
     "end_time": "2023-06-09T15:11:39.094445Z",
     "start_time": "2023-06-09T15:11:39.079804Z"
    }
   },
   "outputs": [
    {
     "name": "stderr",
     "output_type": "stream",
     "text": [
      "hello\n",
      "hello\n",
      "F\n",
      "======================================================================\n",
      "FAIL: test_log_add_handler (__main__.TestLogging)\n",
      "----------------------------------------------------------------------\n",
      "Traceback (most recent call last):\n",
      "  File \"/Library/Frameworks/Python.framework/Versions/3.10/lib/python3.10/unittest/mock.py\", line 1369, in patched\n",
      "    return func(*newargs, **newkeywargs)\n",
      "  File \"/var/folders/58/7w2smkbj0nj898x67b6w304h0000gn/T/ipykernel_52317/1340955493.py\", line 12, in test_log_add_handler\n",
      "    self.assertIn(\"hello\", mock_stdout.getvalue()) # Verify that the message was printed to console\n",
      "AssertionError: 'hello' not found in ''\n",
      "\n",
      "----------------------------------------------------------------------\n",
      "Ran 1 test in 0.005s\n",
      "\n",
      "FAILED (failures=1)\n"
     ]
    },
    {
     "data": {
      "text/plain": [
       "<unittest.main.TestProgram at 0x1189a7250>"
      ]
     },
     "execution_count": 62,
     "metadata": {},
     "output_type": "execute_result"
    }
   ],
   "source": [
    "# Run the tests\n",
    "unittest.main(argv=[''], exit=False)"
   ]
  },
  {
   "cell_type": "markdown",
   "id": "220f045e",
   "metadata": {},
   "source": [
    "It fails again... after searching again we find that we are lacking an `OutputStream`."
   ]
  },
  {
   "cell_type": "code",
   "execution_count": 70,
   "id": "8b76eace",
   "metadata": {
    "ExecuteTime": {
     "end_time": "2023-06-09T15:15:59.162417Z",
     "start_time": "2023-06-09T15:15:59.147531Z"
    }
   },
   "outputs": [],
   "source": [
    "class TestLogging(unittest.TestCase):\n",
    "    @patch('sys.stdout', new_callable=StringIO)\n",
    "    def test_log_add_handler(self, mock_stdout):\n",
    "        logger = logging.getLogger(\"MyLogger\")\n",
    "        logger.setLevel(logging.INFO)\n",
    "\n",
    "        # Remove all handlers\n",
    "        logger.handlers = []\n",
    "\n",
    "        # Add a handler (equivalent to an Appender in log4j) with a custom format\n",
    "        console_handler = logging.StreamHandler(sys.stdout)\n",
    "        formatter = logging.Formatter('%(levelname)s %(threadName)s %(message)s')\n",
    "        console_handler.setFormatter(formatter)\n",
    "        logger.addHandler(console_handler)\n",
    "\n",
    "        logger.info(\"hello\")\n",
    "\n",
    "        # Check that 'hello' is in the console output\n",
    "        self.assertIn(\"hello\", mock_stdout.getvalue())"
   ]
  },
  {
   "cell_type": "code",
   "execution_count": 71,
   "id": "1471592e",
   "metadata": {
    "ExecuteTime": {
     "end_time": "2023-06-09T15:15:59.445328Z",
     "start_time": "2023-06-09T15:15:59.434635Z"
    }
   },
   "outputs": [
    {
     "name": "stderr",
     "output_type": "stream",
     "text": [
      ".\n",
      "----------------------------------------------------------------------\n",
      "Ran 1 test in 0.002s\n",
      "\n",
      "OK\n"
     ]
    },
    {
     "data": {
      "text/plain": [
       "<unittest.main.TestProgram at 0x1188e0610>"
      ]
     },
     "execution_count": 71,
     "metadata": {},
     "output_type": "execute_result"
    }
   ],
   "source": [
    "unittest.main(argv=[''], exit=False)"
   ]
  },
  {
   "cell_type": "markdown",
   "id": "1656eb98",
   "metadata": {},
   "source": [
    "From this iterative learning process we have ended up with a bunch of `unittests` what lead our learning and that will also helps us to maintain and test our code."
   ]
  },
  {
   "cell_type": "code",
   "execution_count": 74,
   "id": "ac7dc547",
   "metadata": {
    "ExecuteTime": {
     "end_time": "2023-06-09T15:20:37.831496Z",
     "start_time": "2023-06-09T15:20:37.818535Z"
    }
   },
   "outputs": [],
   "source": [
    "class LogTest(unittest.TestCase):\n",
    "    def setUp(self):\n",
    "        self.logger = logging.getLogger(\"logger\")\n",
    "        self.logger.setLevel(logging.INFO)\n",
    "        self.logger.handlers = []\n",
    "\n",
    "        # Remove all handlers from the root logger\n",
    "        logging.getLogger().handlers = []\n",
    "\n",
    "    @patch('sys.stdout', new_callable=StringIO)\n",
    "    def test_basic_logger(self, mock_stdout):\n",
    "        console_handler = logging.StreamHandler(sys.stdout)\n",
    "        self.logger.addHandler(console_handler)\n",
    "\n",
    "        self.logger.info(\"basicLogger\")\n",
    "\n",
    "        self.assertIn(\"basicLogger\", mock_stdout.getvalue())\n",
    "\n",
    "    @patch('sys.stdout', new_callable=StringIO)\n",
    "    def test_add_appender_with_stream(self, mock_stdout):\n",
    "        console_handler = logging.StreamHandler(sys.stdout)\n",
    "        formatter = logging.Formatter('%(levelname)s %(threadName)s %(message)s')\n",
    "        console_handler.setFormatter(formatter)\n",
    "        self.logger.addHandler(console_handler)\n",
    "\n",
    "        self.logger.info(\"addAppenderWithStream\")\n",
    "\n",
    "        self.assertIn(\"addAppenderWithStream\", mock_stdout.getvalue())\n",
    "\n",
    "    @patch('sys.stderr', new_callable=StringIO)\n",
    "    def test_add_appender_without_stream(self, mock_stderr):\n",
    "        console_handler = logging.StreamHandler()  # defaults to sys.stderr\n",
    "        formatter = logging.Formatter('%(levelname)s %(threadName)s %(message)s')\n",
    "        console_handler.setFormatter(formatter)\n",
    "        self.logger.addHandler(console_handler)\n",
    "\n",
    "        self.logger.info(\"addAppenderWithoutStream\")\n",
    "\n",
    "        self.assertIn(\"addAppenderWithoutStream\", mock_stderr.getvalue())"
   ]
  },
  {
   "cell_type": "code",
   "execution_count": 75,
   "id": "baed9686",
   "metadata": {
    "ExecuteTime": {
     "end_time": "2023-06-09T15:20:38.810895Z",
     "start_time": "2023-06-09T15:20:38.799479Z"
    }
   },
   "outputs": [
    {
     "name": "stderr",
     "output_type": "stream",
     "text": [
      "....\n",
      "----------------------------------------------------------------------\n",
      "Ran 4 tests in 0.004s\n",
      "\n",
      "OK\n"
     ]
    },
    {
     "data": {
      "text/plain": [
       "<unittest.main.TestProgram at 0x118a579a0>"
      ]
     },
     "execution_count": 75,
     "metadata": {},
     "output_type": "execute_result"
    }
   ],
   "source": [
    "# Run the tests\n",
    "unittest.main(argv=[''], exit=False)"
   ]
  },
  {
   "cell_type": "markdown",
   "id": "9e2248b1",
   "metadata": {},
   "source": [
    "### Learning Tests are Better than Free"
   ]
  },
  {
   "cell_type": "markdown",
   "id": "e4bbf886",
   "metadata": {},
   "source": [
    "*Learning tests* end up costing nothing. We had to learn the API anyway, and writing the tests was a good way to get that knowledge by being precise experiments that helped increase our understanding.\n",
    "\n",
    "And after the learning process, we are left with useful tests that we can apply in our code!\n",
    "\n",
    "By defining boundaries with the tests we make it much easier to debug and adapt to the Third-Party code changes."
   ]
  },
  {
   "cell_type": "markdown",
   "id": "48b98902",
   "metadata": {},
   "source": [
    "### Using Code That Does Not Yet Exists"
   ]
  },
  {
   "cell_type": "markdown",
   "id": "29b72ce1",
   "metadata": {},
   "source": [
    "When developing in teams, we might not yet know exactly the interface of what we are working with, an API that does not exist yet.\n",
    "\n",
    "To continue working, even without knowing the future API, you can define your own interface to encapsulate the yet-to-be API, and create the interface that you wish you had.\n",
    "\n",
    "Then you can pass your interface to the corresponding team and they can build from it, or you can just create an *Adapter* that merges yours with theirs, providing a single place to change when the API evolves and a good chokepoint for running `unittests`."
   ]
  },
  {
   "cell_type": "markdown",
   "id": "e95ad77b",
   "metadata": {},
   "source": [
    "### Clean Boundaries"
   ]
  },
  {
   "cell_type": "markdown",
   "id": "10aa8475",
   "metadata": {},
   "source": [
    "Good software designs accomodate change without huge investments and rework. When using Third-Party code, is better to take special care to protect our investment and make sure that future change is not too costly. \n",
    "\n",
    "Better keep the Third-Party code at the boundaries, and depend on what you control. \n",
    "\n",
    "We achieve this by having few and localized places that refer to it, with a *Wrapper* or an *Adapter* to interface between our code and their code."
   ]
  },
  {
   "cell_type": "markdown",
   "id": "d178c1fa",
   "metadata": {},
   "source": [
    "## Unit Tests"
   ]
  },
  {
   "cell_type": "code",
   "execution_count": null,
   "id": "c959dfad",
   "metadata": {},
   "outputs": [],
   "source": []
  },
  {
   "cell_type": "code",
   "execution_count": null,
   "id": "83742071",
   "metadata": {},
   "outputs": [],
   "source": []
  },
  {
   "cell_type": "code",
   "execution_count": null,
   "id": "af8c5f9c",
   "metadata": {},
   "outputs": [],
   "source": []
  },
  {
   "cell_type": "code",
   "execution_count": null,
   "id": "7911b115",
   "metadata": {},
   "outputs": [],
   "source": []
  },
  {
   "cell_type": "code",
   "execution_count": null,
   "id": "7a95c381",
   "metadata": {},
   "outputs": [],
   "source": []
  },
  {
   "cell_type": "code",
   "execution_count": null,
   "id": "c45a448c",
   "metadata": {},
   "outputs": [],
   "source": []
  },
  {
   "cell_type": "code",
   "execution_count": null,
   "id": "c14006f5",
   "metadata": {},
   "outputs": [],
   "source": []
  },
  {
   "cell_type": "code",
   "execution_count": null,
   "id": "0808a374",
   "metadata": {},
   "outputs": [],
   "source": []
  }
 ],
 "metadata": {
  "kernelspec": {
   "display_name": "todai",
   "language": "python",
   "name": "todai"
  },
  "language_info": {
   "codemirror_mode": {
    "name": "ipython",
    "version": 3
   },
   "file_extension": ".py",
   "mimetype": "text/x-python",
   "name": "python",
   "nbconvert_exporter": "python",
   "pygments_lexer": "ipython3",
   "version": "3.10.5"
  },
  "toc": {
   "base_numbering": 1,
   "nav_menu": {},
   "number_sections": true,
   "sideBar": true,
   "skip_h1_title": false,
   "title_cell": "Table of Contents",
   "title_sidebar": "Contents",
   "toc_cell": false,
   "toc_position": {
    "height": "calc(100% - 180px)",
    "left": "10px",
    "top": "150px",
    "width": "480px"
   },
   "toc_section_display": true,
   "toc_window_display": false
  }
 },
 "nbformat": 4,
 "nbformat_minor": 5
}
