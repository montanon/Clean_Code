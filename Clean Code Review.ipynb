{
 "cells": [
  {
   "cell_type": "code",
   "execution_count": 1,
   "id": "4f1fbe36",
   "metadata": {
    "ExecuteTime": {
     "end_time": "2023-05-07T06:34:49.690741Z",
     "start_time": "2023-05-07T06:34:49.167754Z"
    }
   },
   "outputs": [],
   "source": [
    "import numpy as np\n",
    "import os\n",
    "import pandas as pd"
   ]
  },
  {
   "cell_type": "markdown",
   "id": "e5acdad9",
   "metadata": {},
   "source": [
    "# Clean Code: A Handbook of Agile software Craftsmanship"
   ]
  },
  {
   "cell_type": "markdown",
   "id": "1576e24b",
   "metadata": {},
   "source": [
    "## Clean Code"
   ]
  },
  {
   "cell_type": "markdown",
   "id": "668718d1",
   "metadata": {},
   "source": [
    "Elegant, efficient, straightforward, simple, direct, readable, minimal dependencies, clear, with care."
   ]
  },
  {
   "cell_type": "markdown",
   "id": "d5344232",
   "metadata": {},
   "source": [
    "## Meaningful Names"
   ]
  },
  {
   "cell_type": "markdown",
   "id": "4561c9ad",
   "metadata": {},
   "source": [
    "Variables, functions, arguments, classes, packages, source files, directories... We better do it well."
   ]
  },
  {
   "cell_type": "markdown",
   "id": "0f2cacc6",
   "metadata": {},
   "source": [
    "### Intention-Revealing names:"
   ]
  },
  {
   "cell_type": "markdown",
   "id": "c5da19b1",
   "metadata": {},
   "source": [
    " - `d < elapsedTimeInDays`"
   ]
  },
  {
   "cell_type": "markdown",
   "id": "92e76349",
   "metadata": {},
   "source": [
    "#### Unclear Naming"
   ]
  },
  {
   "cell_type": "code",
   "execution_count": 2,
   "id": "3acdb2bf",
   "metadata": {
    "ExecuteTime": {
     "end_time": "2023-05-07T09:11:21.913731Z",
     "start_time": "2023-05-07T09:11:21.902203Z"
    }
   },
   "outputs": [],
   "source": [
    "def get_them(the_list):\n",
    "    list1 = []\n",
    "    for x in the_list:\n",
    "        if x[0] == 4:\n",
    "            list1.append(x)\n",
    "    return list1"
   ]
  },
  {
   "cell_type": "markdown",
   "id": "2d0ec7b9",
   "metadata": {},
   "source": [
    "#### Intention-Revealing Naming"
   ]
  },
  {
   "cell_type": "code",
   "execution_count": 3,
   "id": "74372a96",
   "metadata": {
    "ExecuteTime": {
     "end_time": "2023-05-07T09:13:12.906173Z",
     "start_time": "2023-05-07T09:13:12.901569Z"
    }
   },
   "outputs": [],
   "source": [
    "def getFlaggedCells(gameboard):\n",
    "    flaggedCells = []\n",
    "    for cell in gameboard:\n",
    "        if cell.isFlagged():\n",
    "            flaggedCells.append(cell)\n",
    "    return flaggedCells"
   ]
  },
  {
   "cell_type": "markdown",
   "id": "e639a25d",
   "metadata": {},
   "source": [
    "### Make Meaningful Distinctios"
   ]
  },
  {
   "cell_type": "markdown",
   "id": "3a4879b7",
   "metadata": {},
   "source": [
    "If names must be different, they should also mean something different. Distinguish names in such a way that the reader knows what the difference offers."
   ]
  },
  {
   "cell_type": "markdown",
   "id": "fe7a2183",
   "metadata": {},
   "source": [
    "#### Unclear Naming"
   ]
  },
  {
   "cell_type": "code",
   "execution_count": 4,
   "id": "de54679e",
   "metadata": {
    "ExecuteTime": {
     "end_time": "2023-05-07T09:19:40.322659Z",
     "start_time": "2023-05-07T09:19:40.316272Z"
    }
   },
   "outputs": [],
   "source": [
    "def copyChars(a1, a2):\n",
    "    for i in range(len(a1)):\n",
    "        a2[i] = a1[i]"
   ]
  },
  {
   "cell_type": "markdown",
   "id": "3fbbba91",
   "metadata": {},
   "source": [
    "#### Meaningful Distinctions"
   ]
  },
  {
   "cell_type": "code",
   "execution_count": 5,
   "id": "da2d0f81",
   "metadata": {
    "ExecuteTime": {
     "end_time": "2023-05-07T09:20:14.427193Z",
     "start_time": "2023-05-07T09:20:14.424065Z"
    }
   },
   "outputs": [],
   "source": [
    "def copychars(source, destination):\n",
    "    for i in range(len(source)):\n",
    "        destination[i] = source[i]"
   ]
  },
  {
   "cell_type": "markdown",
   "id": "ebe2ea8f",
   "metadata": {},
   "source": [
    "#### Examples"
   ]
  },
  {
   "cell_type": "markdown",
   "id": "6c027ef2",
   "metadata": {},
   "source": [
    "- `name > nameString`\n",
    "- `variable` should never appear in a variable name\n",
    "- `table` should never appear in a table name\n",
    "- `dataframe` should never appear in a dataframe name\n",
    "- `money == moneyAmount`, `customer == customerData`, `account == accountInfo`"
   ]
  },
  {
   "cell_type": "markdown",
   "id": "8b730c2a",
   "metadata": {},
   "source": [
    "### Use Pronounceable Names"
   ]
  },
  {
   "cell_type": "markdown",
   "id": "19204e96",
   "metadata": {},
   "source": [
    "#### Unclear Naming"
   ]
  },
  {
   "cell_type": "code",
   "execution_count": 12,
   "id": "8b8e1b0f",
   "metadata": {
    "ExecuteTime": {
     "end_time": "2023-05-07T09:53:07.549650Z",
     "start_time": "2023-05-07T09:53:07.540886Z"
    }
   },
   "outputs": [],
   "source": [
    "class DtaRcrd102:\n",
    "    def __init__(data):\n",
    "        genymdhms = data[0]\n",
    "        modymdhms = data[1]\n",
    "        pszqint = '102'\n",
    "    # Blah Blah"
   ]
  },
  {
   "cell_type": "markdown",
   "id": "332cf2fc",
   "metadata": {},
   "source": [
    "#### Pronounceable Names"
   ]
  },
  {
   "cell_type": "code",
   "execution_count": 13,
   "id": "813664a8",
   "metadata": {
    "ExecuteTime": {
     "end_time": "2023-05-07T09:53:21.910968Z",
     "start_time": "2023-05-07T09:53:21.907322Z"
    }
   },
   "outputs": [],
   "source": [
    "class Customer:\n",
    "    def __init__(data):\n",
    "        generationTimestamp = data[0]\n",
    "        modificationTimestamp = data[1]\n",
    "        recordId = '102'\n",
    "    # Blah Blah"
   ]
  },
  {
   "cell_type": "markdown",
   "id": "2c78180a",
   "metadata": {},
   "source": [
    "*Hey, Mikey, take a look at this record! the `generationTimestamp` is set to tomorrow's date! How can that be?*"
   ]
  },
  {
   "cell_type": "markdown",
   "id": "0299ecbc",
   "metadata": {},
   "source": [
    "### Class Names"
   ]
  },
  {
   "cell_type": "markdown",
   "id": "f7812f49",
   "metadata": {},
   "source": [
    "- Classes and Objects should have noun or noun phrase names:\n",
    "    - `Customer`, `WikiPage`, `Account`, `Data`, `Info`, ..."
   ]
  },
  {
   "cell_type": "markdown",
   "id": "dda25e6e",
   "metadata": {},
   "source": [
    "### Method Names"
   ]
  },
  {
   "cell_type": "markdown",
   "id": "4e5787c7",
   "metadata": {},
   "source": [
    "- Methods should have verb or verb phrase names:\n",
    "    - `postPayment`, `deletePage`, `save`, ..."
   ]
  },
  {
   "cell_type": "markdown",
   "id": "4bd73d08",
   "metadata": {},
   "source": [
    "- Accessors, mutators, and predicates should be names for their value and prefixed with:\n",
    "    - `get_`, `set_`, `is_`, ..."
   ]
  },
  {
   "cell_type": "markdown",
   "id": "fc84d0c9",
   "metadata": {},
   "source": [
    "#### Contructors as Enforcements:"
   ]
  },
  {
   "cell_type": "markdown",
   "id": "830a573a",
   "metadata": {},
   "source": [
    "`fulcrumPoint = Complex.FromRealNumber(23.0)`\n",
    "\n",
    "is better than:\n",
    "\n",
    "`fulcrumPoints = Complex(23.0)`\n",
    "\n",
    "<font color='red'>Use can be enforced by setting constructors as private.</font>"
   ]
  },
  {
   "cell_type": "markdown",
   "id": "adb50fc5",
   "metadata": {},
   "source": [
    "### Pick One Word per Concept"
   ]
  },
  {
   "cell_type": "markdown",
   "id": "3782c3c2",
   "metadata": {},
   "source": [
    "- `fetch == retrieve == get`, pick one!\n",
    "- `controller == manager == driver`, pick one!"
   ]
  },
  {
   "cell_type": "markdown",
   "id": "f40f4bb4",
   "metadata": {},
   "source": [
    "### Add Meaningful Context"
   ]
  },
  {
   "cell_type": "markdown",
   "id": "d1304cf3",
   "metadata": {},
   "source": [
    "#### Unclear Context"
   ]
  },
  {
   "cell_type": "code",
   "execution_count": 14,
   "id": "f82bb4ea",
   "metadata": {
    "ExecuteTime": {
     "end_time": "2023-05-07T09:56:18.242261Z",
     "start_time": "2023-05-07T09:56:18.231365Z"
    }
   },
   "outputs": [],
   "source": [
    "def printGuessStatistics(candidate, count):\n",
    "    if count == 0:\n",
    "        number = 'no'\n",
    "        verb = 'are'\n",
    "        pluralModifier = 's'\n",
    "    elif count == 1:\n",
    "        number = '1'\n",
    "        verb = 'is'\n",
    "        pluralModifier = ''\n",
    "    else:\n",
    "        number = str(count)\n",
    "        verb = 'are'\n",
    "        pluralModifier = 's'\n",
    "    message = f'There {verb} {number} {candidate}{pluralModifier}'\n",
    "    print(message)"
   ]
  },
  {
   "cell_type": "markdown",
   "id": "a1a106ed",
   "metadata": {},
   "source": [
    "#### Meaningful Context"
   ]
  },
  {
   "cell_type": "code",
   "execution_count": 21,
   "id": "1ec44cb1",
   "metadata": {
    "ExecuteTime": {
     "end_time": "2023-05-07T10:04:19.870640Z",
     "start_time": "2023-05-07T10:04:19.861312Z"
    }
   },
   "outputs": [],
   "source": [
    "class GuessStatisticsMessage:\n",
    "    \n",
    "    def make(self, candidate, count):\n",
    "        self.createPluralDependentMessageParts(count)\n",
    "        return f'There {self.verb} {self.number} {candidate}{self.pluralModifier}'\n",
    "    \n",
    "    def createPluralDependentMessageParts(self, count):\n",
    "        if count == 0:\n",
    "            self.thereAreNoLetters()\n",
    "        elif count == 1:\n",
    "            self.thereIsOneLetter()\n",
    "        else:\n",
    "            self.thereAreManyLetters(count)\n",
    "            \n",
    "    def thereAreManyLetters(self, count):\n",
    "        self.number = str(count)\n",
    "        self.verb = 'are'\n",
    "        self.pluralModifier = 's'\n",
    "        \n",
    "    def thereIsOneLetter(self):\n",
    "        self.number = '1'\n",
    "        self.verb = 'is'\n",
    "        self.pluralModifier = ''\n",
    "        \n",
    "    def thereAreNoLetters(self):\n",
    "        self.number = 'no'\n",
    "        selfverb = 'are'\n",
    "        self.pluralModifier = 's'\n",
    "    "
   ]
  },
  {
   "cell_type": "code",
   "execution_count": 25,
   "id": "baffb8e2",
   "metadata": {
    "ExecuteTime": {
     "end_time": "2023-05-07T10:05:30.674805Z",
     "start_time": "2023-05-07T10:05:30.668487Z"
    }
   },
   "outputs": [
    {
     "data": {
      "text/plain": [
       "'There are 10 AAAAs'"
      ]
     },
     "execution_count": 25,
     "metadata": {},
     "output_type": "execute_result"
    }
   ],
   "source": [
    "GuessStatisticsMessage().make('AAAA', 10)"
   ]
  },
  {
   "cell_type": "markdown",
   "id": "7725881c",
   "metadata": {},
   "source": [
    "### Others"
   ]
  },
  {
   "cell_type": "markdown",
   "id": "697bdd05",
   "metadata": {},
   "source": [
    "- Avoid Disinformation/Misinformation\n",
    "- Use Searchable Names\n",
    "- Avoid Encodings\n",
    "- Avoid Mental Mapping\n",
    "- Don't be Cute\n",
    "- Don't Pun\n",
    "- Use Problem Domain Names\n",
    "- Don't Add Gratuitous Context\n",
    "- Rename if you can make it better"
   ]
  },
  {
   "cell_type": "markdown",
   "id": "8a9f7faa",
   "metadata": {},
   "source": [
    "## Functions"
   ]
  },
  {
   "cell_type": "code",
   "execution_count": null,
   "id": "90ec0c6a",
   "metadata": {},
   "outputs": [],
   "source": []
  },
  {
   "cell_type": "code",
   "execution_count": null,
   "id": "dd791621",
   "metadata": {},
   "outputs": [],
   "source": []
  },
  {
   "cell_type": "code",
   "execution_count": null,
   "id": "297b5388",
   "metadata": {},
   "outputs": [],
   "source": []
  },
  {
   "cell_type": "code",
   "execution_count": null,
   "id": "db4f70fb",
   "metadata": {},
   "outputs": [],
   "source": []
  },
  {
   "cell_type": "code",
   "execution_count": null,
   "id": "5e747df9",
   "metadata": {},
   "outputs": [],
   "source": []
  },
  {
   "cell_type": "code",
   "execution_count": null,
   "id": "ba8bdcec",
   "metadata": {},
   "outputs": [],
   "source": []
  },
  {
   "cell_type": "code",
   "execution_count": null,
   "id": "f54ddc3c",
   "metadata": {},
   "outputs": [],
   "source": []
  },
  {
   "cell_type": "code",
   "execution_count": null,
   "id": "dbc0cee7",
   "metadata": {},
   "outputs": [],
   "source": []
  },
  {
   "cell_type": "code",
   "execution_count": null,
   "id": "4b10819d",
   "metadata": {},
   "outputs": [],
   "source": []
  }
 ],
 "metadata": {
  "kernelspec": {
   "display_name": "todai",
   "language": "python",
   "name": "todai"
  },
  "language_info": {
   "codemirror_mode": {
    "name": "ipython",
    "version": 3
   },
   "file_extension": ".py",
   "mimetype": "text/x-python",
   "name": "python",
   "nbconvert_exporter": "python",
   "pygments_lexer": "ipython3",
   "version": "3.10.5"
  },
  "toc": {
   "base_numbering": 1,
   "nav_menu": {},
   "number_sections": true,
   "sideBar": true,
   "skip_h1_title": false,
   "title_cell": "Table of Contents",
   "title_sidebar": "Contents",
   "toc_cell": false,
   "toc_position": {},
   "toc_section_display": true,
   "toc_window_display": true
  }
 },
 "nbformat": 4,
 "nbformat_minor": 5
}
